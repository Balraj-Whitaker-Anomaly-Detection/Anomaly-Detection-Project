{
 "cells": [
  {
   "cell_type": "markdown",
   "id": "3aee3c73",
   "metadata": {},
   "source": [
    "# Team Anomaly Detection Project"
   ]
  },
  {
   "cell_type": "markdown",
   "id": "b000e3e5",
   "metadata": {},
   "source": [
    "## About Project: "
   ]
  },
  {
   "cell_type": "markdown",
   "id": "c2b51d4c",
   "metadata": {},
   "source": [
    "### Description: "
   ]
  },
  {
   "cell_type": "markdown",
   "id": "4c5748b9",
   "metadata": {},
   "source": [
    "In this project a teammate and I will be answering questions presented in an email from our boss concerning codeup curriculum traffic. "
   ]
  },
  {
   "cell_type": "markdown",
   "id": "e7fb921c",
   "metadata": {},
   "source": [
    "### Project Goal: "
   ]
  },
  {
   "cell_type": "markdown",
   "id": "0b607420",
   "metadata": {},
   "source": [
    "The goal of this project is to answer the questions in the email and return a email with the answers, the requested slide, and the link to this github repo. "
   ]
  },
  {
   "cell_type": "markdown",
   "id": "464b1e7a",
   "metadata": {},
   "source": [
    "### Email from Boss: "
   ]
  },
  {
   "cell_type": "markdown",
   "id": "afc8eea7",
   "metadata": {},
   "source": [
    "Hello,\n",
    "\n",
    "\n",
    "I have some questions for you that I need to be answered before the Board meeting on Monday evening. I need to be able to speak to the following questions. I also need a single slide that I can incorporate into my existing presentation (Google Slides) that summarizes the most important points. My questions are listed below; however, if you discover anything else important that I didn’t think to ask, please include that as well.\n",
    "\n",
    "\n",
    "1. Which lesson appears to attract the most traffic consistently across cohorts (per program)?\n",
    "2. Is there a cohort that referred to a lesson significantly more than other cohorts seemed to gloss over?\n",
    "3. Are there students who, when active, hardly access the curriculum? If so, what information do you have about these students?\n",
    "4. Is there any suspicious activity, such as users/machines/etc accessing the curriculum who shouldn’t be? Does it appear that any web-scraping is happening? Are there any suspicious IP addresses?\n",
    "5. At some point in 2019, the ability for students and alumni to access both curriculums (web dev to ds, ds to web dev) should have been shut off. Do you see any evidence of that happening? Did it happen before?\n",
    "6. What topics are grads continuing to reference after graduation and into their jobs (for each program)?\n",
    "7. Which lessons are least accessed?\n",
    "8. Anything else I should be aware of?\n",
    "\n",
    "\n",
    "Thank you,"
   ]
  },
  {
   "cell_type": "markdown",
   "id": "e1642a49",
   "metadata": {},
   "source": [
    "### Additional Info: "
   ]
  },
  {
   "cell_type": "markdown",
   "id": "180aef40",
   "metadata": {},
   "source": [
    "Data was acquired from Codeup's SQL database and additional contextual info was gathered from alumni.codeup.com. "
   ]
  },
  {
   "cell_type": "markdown",
   "id": "d2aabf28",
   "metadata": {},
   "source": [
    "## Let's Get Started,... "
   ]
  },
  {
   "cell_type": "markdown",
   "id": "1359864f",
   "metadata": {},
   "source": [
    "## Imports. "
   ]
  },
  {
   "cell_type": "markdown",
   "id": "de8fb107",
   "metadata": {},
   "source": [
    "These are the following imports needed to run this notebook:"
   ]
  },
  {
   "cell_type": "code",
   "execution_count": 1,
   "id": "7075aa14",
   "metadata": {},
   "outputs": [
    {
     "ename": "ModuleNotFoundError",
     "evalue": "No module named 'env'",
     "output_type": "error",
     "traceback": [
      "\u001b[0;31m---------------------------------------------------------------------------\u001b[0m",
      "\u001b[0;31mModuleNotFoundError\u001b[0m                       Traceback (most recent call last)",
      "\u001b[0;32m<ipython-input-1-718980cd7780>\u001b[0m in \u001b[0;36m<module>\u001b[0;34m\u001b[0m\n\u001b[1;32m     21\u001b[0m \u001b[0;34m\u001b[0m\u001b[0m\n\u001b[1;32m     22\u001b[0m \u001b[0;31m# My Files\u001b[0m\u001b[0;34m\u001b[0m\u001b[0;34m\u001b[0m\u001b[0;34m\u001b[0m\u001b[0m\n\u001b[0;32m---> 23\u001b[0;31m \u001b[0;32mimport\u001b[0m \u001b[0menv\u001b[0m\u001b[0;34m\u001b[0m\u001b[0;34m\u001b[0m\u001b[0m\n\u001b[0m",
      "\u001b[0;31mModuleNotFoundError\u001b[0m: No module named 'env'"
     ]
    }
   ],
   "source": [
    "# imports\n",
    "import numpy as np\n",
    "import pandas as pd\n",
    "\n",
    "# Visualizing\n",
    "import matplotlib.pyplot as plt\n",
    "import seaborn as sns\n",
    "\n",
    "# DBSCAN import\n",
    "from sklearn.cluster import DBSCAN\n",
    "\n",
    "# Scaler import\n",
    "from sklearn.preprocessing import MinMaxScaler\n",
    "\n",
    "# Ignore Warnings\n",
    "import warnings\n",
    "warnings.filterwarnings(\"ignore\")\n",
    "\n",
    "# Remove Limits On Viewing Dataframes\n",
    "pd.set_option('display.max_columns', None)\n",
    "\n",
    "# My Files\n",
    "import env"
   ]
  },
  {
   "cell_type": "code",
   "execution_count": null,
   "id": "af147da4",
   "metadata": {},
   "outputs": [],
   "source": []
  }
 ],
 "metadata": {
  "kernelspec": {
   "display_name": "Python 3",
   "language": "python",
   "name": "python3"
  },
  "language_info": {
   "codemirror_mode": {
    "name": "ipython",
    "version": 3
   },
   "file_extension": ".py",
   "mimetype": "text/x-python",
   "name": "python",
   "nbconvert_exporter": "python",
   "pygments_lexer": "ipython3",
   "version": "3.8.8"
  }
 },
 "nbformat": 4,
 "nbformat_minor": 5
}
