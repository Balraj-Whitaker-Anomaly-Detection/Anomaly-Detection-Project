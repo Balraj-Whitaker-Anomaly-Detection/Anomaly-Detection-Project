{
 "cells": [
  {
   "cell_type": "markdown",
   "id": "c8144231",
   "metadata": {},
   "source": [
    "# Team Anomaly Detection Project"
   ]
  },
  {
   "cell_type": "markdown",
   "id": "2e9750f7",
   "metadata": {},
   "source": [
    "## About Project: "
   ]
  },
  {
   "cell_type": "markdown",
   "id": "1a0e3f29",
   "metadata": {},
   "source": [
    "### Description: "
   ]
  },
  {
   "cell_type": "markdown",
   "id": "f2441236",
   "metadata": {},
   "source": [
    "In this project a teammate and I will be answering questions presented in an email from our boss concerning codeup curriculum traffic. "
   ]
  },
  {
   "cell_type": "markdown",
   "id": "fe86b5f8",
   "metadata": {},
   "source": [
    "### Project Goal: "
   ]
  },
  {
   "cell_type": "markdown",
   "id": "78ddbf33",
   "metadata": {},
   "source": [
    "The goal of this project is to answer the questions in the email and return a email with the answers, the requested slide, and the link to this github repo. "
   ]
  },
  {
   "cell_type": "markdown",
   "id": "449de536",
   "metadata": {},
   "source": [
    "### Email from Boss: "
   ]
  },
  {
   "cell_type": "markdown",
   "id": "4750da53",
   "metadata": {},
   "source": [
    "Hello,\n",
    "\n",
    "\n",
    "I have some questions for you that I need to be answered before the Board meeting on Monday evening. I need to be able to speak to the following questions. I also need a single slide that I can incorporate into my existing presentation (Google Slides) that summarizes the most important points. My questions are listed below; however, if you discover anything else important that I didn’t think to ask, please include that as well.\n",
    "\n",
    "\n",
    "1. Which lesson appears to attract the most traffic consistently across cohorts (per program)?\n",
    "2. Is there a cohort that referred to a lesson significantly more than other cohorts seemed to gloss over?\n",
    "3. Are there students who, when active, hardly access the curriculum? If so, what information do you have about these students?\n",
    "4. Is there any suspicious activity, such as users/machines/etc accessing the curriculum who shouldn’t be? Does it appear that any web-scraping is happening? Are there any suspicious IP addresses?\n",
    "5. At some point in 2019, the ability for students and alumni to access both curriculums (web dev to ds, ds to web dev) should have been shut off. Do you see any evidence of that happening? Did it happen before?\n",
    "6. What topics are grads continuing to reference after graduation and into their jobs (for each program)?\n",
    "7. Which lessons are least accessed?\n",
    "8. Anything else I should be aware of?\n",
    "\n",
    "\n",
    "Thank you,"
   ]
  },
  {
   "cell_type": "markdown",
   "id": "2f445f01",
   "metadata": {},
   "source": [
    "### Additional Info: "
   ]
  },
  {
   "cell_type": "markdown",
   "id": "4b9afb43",
   "metadata": {},
   "source": [
    "Data was acquired from Codeup's SQL database and additional contextual info was gathered from alumni.codeup.com. "
   ]
  },
  {
   "cell_type": "markdown",
   "id": "21a958fd",
   "metadata": {},
   "source": [
    "The Board meeting on Monday evening that the slide will be presented in is to discuss the general state of things and update the stakeholders (What’s the direction we are going in, and is it a good one?)."
   ]
  },
  {
   "cell_type": "markdown",
   "id": "d0f47379",
   "metadata": {},
   "source": [
    "## Let's Get Started,... "
   ]
  },
  {
   "cell_type": "markdown",
   "id": "6691ecd2",
   "metadata": {},
   "source": [
    "## Imports. "
   ]
  },
  {
   "cell_type": "markdown",
   "id": "eafb5d02",
   "metadata": {},
   "source": [
    "These are the following imports needed to run this notebook:"
   ]
  },
  {
   "cell_type": "code",
   "execution_count": 1,
   "id": "b3007cbd",
   "metadata": {},
   "outputs": [],
   "source": [
    "# imports\n",
    "import numpy as np\n",
    "import pandas as pd\n",
    "\n",
    "# Visualizing\n",
    "import matplotlib.pyplot as plt\n",
    "import seaborn as sns\n",
    "\n",
    "# DBSCAN import\n",
    "from sklearn.cluster import DBSCAN\n",
    "\n",
    "# Scaler import\n",
    "from sklearn.preprocessing import MinMaxScaler\n",
    "\n",
    "# Ignore Warnings\n",
    "import warnings\n",
    "warnings.filterwarnings(\"ignore\")\n",
    "\n",
    "# Remove Limits On Viewing Dataframes\n",
    "pd.set_option('display.max_columns', None)\n",
    "\n",
    "# My Files\n",
    "import env\n",
    "from wrangle import *"
   ]
  },
  {
   "cell_type": "markdown",
   "id": "b22f5df6",
   "metadata": {},
   "source": [
    "## Acquire & Prepare. "
   ]
  },
  {
   "cell_type": "markdown",
   "id": "c21fa112",
   "metadata": {},
   "source": [
    "I acquired and prepared the data using a function stored in wrangle.py that reads data from a csv and prepares it by: \n",
    "    \n",
    "    concats date + time \n",
    "    changes date_time to pd datetime\n",
    "    changes date to pd datetime\n",
    "    changes time to pd datetime\n",
    "    sets index to date_time\n",
    "    changes cohort start to datetime\n",
    "    changes cohort end to datetime\n",
    "    label students by the program they are in\n",
    "    create column where true or false if staff\n",
    "    create column with date - end date\n",
    "    drop columns\n",
    "    returns df"
   ]
  },
  {
   "cell_type": "code",
   "execution_count": 2,
   "id": "18a171c0",
   "metadata": {},
   "outputs": [],
   "source": [
    "df = get_n_prep_curr_logs()"
   ]
  },
  {
   "cell_type": "code",
   "execution_count": 3,
   "id": "20d77f7e",
   "metadata": {},
   "outputs": [
    {
     "data": {
      "text/html": [
       "<div>\n",
       "<style scoped>\n",
       "    .dataframe tbody tr th:only-of-type {\n",
       "        vertical-align: middle;\n",
       "    }\n",
       "\n",
       "    .dataframe tbody tr th {\n",
       "        vertical-align: top;\n",
       "    }\n",
       "\n",
       "    .dataframe thead th {\n",
       "        text-align: right;\n",
       "    }\n",
       "</style>\n",
       "<table border=\"1\" class=\"dataframe\">\n",
       "  <thead>\n",
       "    <tr style=\"text-align: right;\">\n",
       "      <th></th>\n",
       "      <th>path</th>\n",
       "      <th>user_id</th>\n",
       "      <th>cohort_id</th>\n",
       "      <th>program_id</th>\n",
       "      <th>ip</th>\n",
       "      <th>name</th>\n",
       "      <th>slack</th>\n",
       "      <th>start_date</th>\n",
       "      <th>end_date</th>\n",
       "      <th>created_at</th>\n",
       "      <th>updated_at</th>\n",
       "      <th>date_time</th>\n",
       "      <th>program</th>\n",
       "      <th>staff</th>\n",
       "      <th>days_after_grad</th>\n",
       "    </tr>\n",
       "    <tr>\n",
       "      <th>date_time</th>\n",
       "      <th></th>\n",
       "      <th></th>\n",
       "      <th></th>\n",
       "      <th></th>\n",
       "      <th></th>\n",
       "      <th></th>\n",
       "      <th></th>\n",
       "      <th></th>\n",
       "      <th></th>\n",
       "      <th></th>\n",
       "      <th></th>\n",
       "      <th></th>\n",
       "      <th></th>\n",
       "      <th></th>\n",
       "      <th></th>\n",
       "    </tr>\n",
       "  </thead>\n",
       "  <tbody>\n",
       "    <tr>\n",
       "      <th>2018-01-26 09:55:03</th>\n",
       "      <td>/</td>\n",
       "      <td>1</td>\n",
       "      <td>8.0</td>\n",
       "      <td>1</td>\n",
       "      <td>97.105.19.61</td>\n",
       "      <td>Hampton</td>\n",
       "      <td>#hampton</td>\n",
       "      <td>2015-09-22</td>\n",
       "      <td>2016-02-06</td>\n",
       "      <td>2016-06-14 19:52:26</td>\n",
       "      <td>2016-06-14 19:52:26</td>\n",
       "      <td>2018-01-26 09:55:03</td>\n",
       "      <td>php</td>\n",
       "      <td>False</td>\n",
       "      <td>720 days</td>\n",
       "    </tr>\n",
       "    <tr>\n",
       "      <th>2018-01-26 09:56:02</th>\n",
       "      <td>java-ii</td>\n",
       "      <td>1</td>\n",
       "      <td>8.0</td>\n",
       "      <td>1</td>\n",
       "      <td>97.105.19.61</td>\n",
       "      <td>Hampton</td>\n",
       "      <td>#hampton</td>\n",
       "      <td>2015-09-22</td>\n",
       "      <td>2016-02-06</td>\n",
       "      <td>2016-06-14 19:52:26</td>\n",
       "      <td>2016-06-14 19:52:26</td>\n",
       "      <td>2018-01-26 09:56:02</td>\n",
       "      <td>php</td>\n",
       "      <td>False</td>\n",
       "      <td>720 days</td>\n",
       "    </tr>\n",
       "    <tr>\n",
       "      <th>2018-01-26 09:56:05</th>\n",
       "      <td>java-ii/object-oriented-programming</td>\n",
       "      <td>1</td>\n",
       "      <td>8.0</td>\n",
       "      <td>1</td>\n",
       "      <td>97.105.19.61</td>\n",
       "      <td>Hampton</td>\n",
       "      <td>#hampton</td>\n",
       "      <td>2015-09-22</td>\n",
       "      <td>2016-02-06</td>\n",
       "      <td>2016-06-14 19:52:26</td>\n",
       "      <td>2016-06-14 19:52:26</td>\n",
       "      <td>2018-01-26 09:56:05</td>\n",
       "      <td>php</td>\n",
       "      <td>False</td>\n",
       "      <td>720 days</td>\n",
       "    </tr>\n",
       "    <tr>\n",
       "      <th>2018-01-26 09:56:06</th>\n",
       "      <td>slides/object_oriented_programming</td>\n",
       "      <td>1</td>\n",
       "      <td>8.0</td>\n",
       "      <td>1</td>\n",
       "      <td>97.105.19.61</td>\n",
       "      <td>Hampton</td>\n",
       "      <td>#hampton</td>\n",
       "      <td>2015-09-22</td>\n",
       "      <td>2016-02-06</td>\n",
       "      <td>2016-06-14 19:52:26</td>\n",
       "      <td>2016-06-14 19:52:26</td>\n",
       "      <td>2018-01-26 09:56:06</td>\n",
       "      <td>php</td>\n",
       "      <td>False</td>\n",
       "      <td>720 days</td>\n",
       "    </tr>\n",
       "    <tr>\n",
       "      <th>2018-01-26 09:56:24</th>\n",
       "      <td>javascript-i/conditionals</td>\n",
       "      <td>2</td>\n",
       "      <td>22.0</td>\n",
       "      <td>2</td>\n",
       "      <td>97.105.19.61</td>\n",
       "      <td>Teddy</td>\n",
       "      <td>#teddy</td>\n",
       "      <td>2018-01-08</td>\n",
       "      <td>2018-05-17</td>\n",
       "      <td>2018-01-08 13:59:10</td>\n",
       "      <td>2018-01-08 13:59:10</td>\n",
       "      <td>2018-01-26 09:56:24</td>\n",
       "      <td>java</td>\n",
       "      <td>False</td>\n",
       "      <td>-111 days</td>\n",
       "    </tr>\n",
       "  </tbody>\n",
       "</table>\n",
       "</div>"
      ],
      "text/plain": [
       "                                                    path  user_id  cohort_id  \\\n",
       "date_time                                                                      \n",
       "2018-01-26 09:55:03                                    /        1        8.0   \n",
       "2018-01-26 09:56:02                              java-ii        1        8.0   \n",
       "2018-01-26 09:56:05  java-ii/object-oriented-programming        1        8.0   \n",
       "2018-01-26 09:56:06   slides/object_oriented_programming        1        8.0   \n",
       "2018-01-26 09:56:24            javascript-i/conditionals        2       22.0   \n",
       "\n",
       "                     program_id            ip     name     slack start_date  \\\n",
       "date_time                                                                     \n",
       "2018-01-26 09:55:03           1  97.105.19.61  Hampton  #hampton 2015-09-22   \n",
       "2018-01-26 09:56:02           1  97.105.19.61  Hampton  #hampton 2015-09-22   \n",
       "2018-01-26 09:56:05           1  97.105.19.61  Hampton  #hampton 2015-09-22   \n",
       "2018-01-26 09:56:06           1  97.105.19.61  Hampton  #hampton 2015-09-22   \n",
       "2018-01-26 09:56:24           2  97.105.19.61    Teddy    #teddy 2018-01-08   \n",
       "\n",
       "                      end_date           created_at           updated_at  \\\n",
       "date_time                                                                  \n",
       "2018-01-26 09:55:03 2016-02-06  2016-06-14 19:52:26  2016-06-14 19:52:26   \n",
       "2018-01-26 09:56:02 2016-02-06  2016-06-14 19:52:26  2016-06-14 19:52:26   \n",
       "2018-01-26 09:56:05 2016-02-06  2016-06-14 19:52:26  2016-06-14 19:52:26   \n",
       "2018-01-26 09:56:06 2016-02-06  2016-06-14 19:52:26  2016-06-14 19:52:26   \n",
       "2018-01-26 09:56:24 2018-05-17  2018-01-08 13:59:10  2018-01-08 13:59:10   \n",
       "\n",
       "                              date_time program  staff days_after_grad  \n",
       "date_time                                                               \n",
       "2018-01-26 09:55:03 2018-01-26 09:55:03     php  False        720 days  \n",
       "2018-01-26 09:56:02 2018-01-26 09:56:02     php  False        720 days  \n",
       "2018-01-26 09:56:05 2018-01-26 09:56:05     php  False        720 days  \n",
       "2018-01-26 09:56:06 2018-01-26 09:56:06     php  False        720 days  \n",
       "2018-01-26 09:56:24 2018-01-26 09:56:24    java  False       -111 days  "
      ]
     },
     "execution_count": 3,
     "metadata": {},
     "output_type": "execute_result"
    }
   ],
   "source": [
    "df.head()"
   ]
  },
  {
   "cell_type": "code",
   "execution_count": 4,
   "id": "ad39fc03",
   "metadata": {},
   "outputs": [],
   "source": [
    "# confirm there are no nulls\n",
    "# df.isna().sum()"
   ]
  },
  {
   "cell_type": "markdown",
   "id": "287e0ad1",
   "metadata": {},
   "source": [
    "### 4. Is there any suspicious activity, such as users/machines/etc accessing the curriculum who shouldn’t be? Does it appear that any web-scraping is happening? Are there any suspicious IP addresses?"
   ]
  },
  {
   "cell_type": "markdown",
   "id": "b4c1613f",
   "metadata": {},
   "source": [
    "I will start by looking at the ips with the most activity. "
   ]
  },
  {
   "cell_type": "code",
   "execution_count": 5,
   "id": "2ce2529d",
   "metadata": {},
   "outputs": [
    {
     "data": {
      "text/plain": [
       "2019-03-03 22:52:09    30\n",
       "2019-03-03 22:52:07    30\n",
       "2019-03-03 22:52:11    25\n",
       "2019-03-03 22:52:08    25\n",
       "2019-03-03 22:52:10    25\n",
       "2019-03-03 22:52:06    21\n",
       "2020-08-02 19:07:51    16\n",
       "2019-12-19 23:57:58    12\n",
       "2019-03-03 22:52:12    12\n",
       "2020-04-05 17:41:11    12\n",
       "2019-12-19 23:57:56    12\n",
       "2019-12-19 23:58:01    12\n",
       "2019-12-19 23:57:59    11\n",
       "2021-04-01 16:08:25    11\n",
       "2020-04-05 17:41:10    10\n",
       "2020-04-05 17:42:00    10\n",
       "2019-12-19 23:58:00    10\n",
       "2020-08-02 19:07:50    10\n",
       "2019-12-19 23:57:54     9\n",
       "2019-12-19 23:58:07     9\n",
       "Name: date_time, dtype: int64"
      ]
     },
     "execution_count": 5,
     "metadata": {},
     "output_type": "execute_result"
    }
   ],
   "source": [
    "# look at the amount of pages an ip looked at per second. The more per second = the more suspicious they are.\n",
    "df.ip.index.value_counts().head(20)"
   ]
  },
  {
   "cell_type": "markdown",
   "id": "b6c9994b",
   "metadata": {},
   "source": [
    "I'm going to check out the 2019-03-03 because in 6 seconds that IP visited 156 pages. "
   ]
  },
  {
   "cell_type": "markdown",
   "id": "a7d61f21",
   "metadata": {},
   "source": [
    "Takeaways from date 2019-03-03: \n",
    "\n",
    "Looks like they may have been web scraping and got the whole Web Dev curriculum. \n",
    "\n",
    "user_id: 341\n",
    "\n",
    "ip: 204.44.112.76\n",
    "\n",
    "cohort: Zion\n",
    "\n",
    "start date: 2019-01-22\n",
    "\n",
    "end date: 2019-06-04\n",
    "\n",
    "program: java\n",
    "\n",
    "days_after_grad: 93 days before graduation"
   ]
  },
  {
   "cell_type": "markdown",
   "id": "3633f7b2",
   "metadata": {},
   "source": [
    "Seems to have only used that IP address that one day to web scrape and only looked at Web Dev even though the Data Science program was up and running at this time."
   ]
  },
  {
   "cell_type": "code",
   "execution_count": 6,
   "id": "56f07679",
   "metadata": {},
   "outputs": [
    {
     "data": {
      "text/html": [
       "<div>\n",
       "<style scoped>\n",
       "    .dataframe tbody tr th:only-of-type {\n",
       "        vertical-align: middle;\n",
       "    }\n",
       "\n",
       "    .dataframe tbody tr th {\n",
       "        vertical-align: top;\n",
       "    }\n",
       "\n",
       "    .dataframe thead th {\n",
       "        text-align: right;\n",
       "    }\n",
       "</style>\n",
       "<table border=\"1\" class=\"dataframe\">\n",
       "  <thead>\n",
       "    <tr style=\"text-align: right;\">\n",
       "      <th></th>\n",
       "      <th>path</th>\n",
       "      <th>user_id</th>\n",
       "      <th>cohort_id</th>\n",
       "      <th>program_id</th>\n",
       "      <th>ip</th>\n",
       "      <th>name</th>\n",
       "      <th>slack</th>\n",
       "      <th>start_date</th>\n",
       "      <th>end_date</th>\n",
       "      <th>created_at</th>\n",
       "      <th>updated_at</th>\n",
       "      <th>date_time</th>\n",
       "      <th>program</th>\n",
       "      <th>staff</th>\n",
       "      <th>days_after_grad</th>\n",
       "    </tr>\n",
       "    <tr>\n",
       "      <th>date_time</th>\n",
       "      <th></th>\n",
       "      <th></th>\n",
       "      <th></th>\n",
       "      <th></th>\n",
       "      <th></th>\n",
       "      <th></th>\n",
       "      <th></th>\n",
       "      <th></th>\n",
       "      <th></th>\n",
       "      <th></th>\n",
       "      <th></th>\n",
       "      <th></th>\n",
       "      <th></th>\n",
       "      <th></th>\n",
       "      <th></th>\n",
       "    </tr>\n",
       "  </thead>\n",
       "  <tbody>\n",
       "    <tr>\n",
       "      <th>2019-03-03 22:52:09</th>\n",
       "      <td>mysql/databases</td>\n",
       "      <td>341</td>\n",
       "      <td>29.0</td>\n",
       "      <td>2</td>\n",
       "      <td>204.44.112.76</td>\n",
       "      <td>Zion</td>\n",
       "      <td>#zion</td>\n",
       "      <td>2019-01-22</td>\n",
       "      <td>2019-06-04</td>\n",
       "      <td>2019-01-20 23:18:57</td>\n",
       "      <td>2019-01-20 23:18:57</td>\n",
       "      <td>2019-03-03 22:52:09</td>\n",
       "      <td>java</td>\n",
       "      <td>False</td>\n",
       "      <td>-93 days</td>\n",
       "    </tr>\n",
       "  </tbody>\n",
       "</table>\n",
       "</div>"
      ],
      "text/plain": [
       "                                path  user_id  cohort_id  program_id  \\\n",
       "date_time                                                              \n",
       "2019-03-03 22:52:09  mysql/databases      341       29.0           2   \n",
       "\n",
       "                                ip  name  slack start_date   end_date  \\\n",
       "date_time                                                               \n",
       "2019-03-03 22:52:09  204.44.112.76  Zion  #zion 2019-01-22 2019-06-04   \n",
       "\n",
       "                              created_at           updated_at  \\\n",
       "date_time                                                       \n",
       "2019-03-03 22:52:09  2019-01-20 23:18:57  2019-01-20 23:18:57   \n",
       "\n",
       "                              date_time program  staff days_after_grad  \n",
       "date_time                                                               \n",
       "2019-03-03 22:52:09 2019-03-03 22:52:09    java  False        -93 days  "
      ]
     },
     "execution_count": 6,
     "metadata": {},
     "output_type": "execute_result"
    }
   ],
   "source": [
    "df[df.index == '2019-03-03 22:52:09'].head(1)"
   ]
  },
  {
   "cell_type": "code",
   "execution_count": 7,
   "id": "929b307a",
   "metadata": {},
   "outputs": [
    {
     "data": {
      "text/html": [
       "<div>\n",
       "<style scoped>\n",
       "    .dataframe tbody tr th:only-of-type {\n",
       "        vertical-align: middle;\n",
       "    }\n",
       "\n",
       "    .dataframe tbody tr th {\n",
       "        vertical-align: top;\n",
       "    }\n",
       "\n",
       "    .dataframe thead th {\n",
       "        text-align: right;\n",
       "    }\n",
       "</style>\n",
       "<table border=\"1\" class=\"dataframe\">\n",
       "  <thead>\n",
       "    <tr style=\"text-align: right;\">\n",
       "      <th></th>\n",
       "      <th>path</th>\n",
       "      <th>user_id</th>\n",
       "      <th>cohort_id</th>\n",
       "      <th>program_id</th>\n",
       "      <th>ip</th>\n",
       "      <th>name</th>\n",
       "      <th>slack</th>\n",
       "      <th>start_date</th>\n",
       "      <th>end_date</th>\n",
       "      <th>created_at</th>\n",
       "      <th>updated_at</th>\n",
       "      <th>date_time</th>\n",
       "      <th>program</th>\n",
       "      <th>staff</th>\n",
       "      <th>days_after_grad</th>\n",
       "    </tr>\n",
       "    <tr>\n",
       "      <th>date_time</th>\n",
       "      <th></th>\n",
       "      <th></th>\n",
       "      <th></th>\n",
       "      <th></th>\n",
       "      <th></th>\n",
       "      <th></th>\n",
       "      <th></th>\n",
       "      <th></th>\n",
       "      <th></th>\n",
       "      <th></th>\n",
       "      <th></th>\n",
       "      <th></th>\n",
       "      <th></th>\n",
       "      <th></th>\n",
       "      <th></th>\n",
       "    </tr>\n",
       "  </thead>\n",
       "  <tbody>\n",
       "    <tr>\n",
       "      <th>2019-03-03 22:52:07</th>\n",
       "      <td>javascript-i/introduction</td>\n",
       "      <td>341</td>\n",
       "      <td>29.0</td>\n",
       "      <td>2</td>\n",
       "      <td>204.44.112.76</td>\n",
       "      <td>Zion</td>\n",
       "      <td>#zion</td>\n",
       "      <td>2019-01-22</td>\n",
       "      <td>2019-06-04</td>\n",
       "      <td>2019-01-20 23:18:57</td>\n",
       "      <td>2019-01-20 23:18:57</td>\n",
       "      <td>2019-03-03 22:52:07</td>\n",
       "      <td>java</td>\n",
       "      <td>False</td>\n",
       "      <td>-93 days</td>\n",
       "    </tr>\n",
       "  </tbody>\n",
       "</table>\n",
       "</div>"
      ],
      "text/plain": [
       "                                          path  user_id  cohort_id  \\\n",
       "date_time                                                            \n",
       "2019-03-03 22:52:07  javascript-i/introduction      341       29.0   \n",
       "\n",
       "                     program_id             ip  name  slack start_date  \\\n",
       "date_time                                                                \n",
       "2019-03-03 22:52:07           2  204.44.112.76  Zion  #zion 2019-01-22   \n",
       "\n",
       "                      end_date           created_at           updated_at  \\\n",
       "date_time                                                                  \n",
       "2019-03-03 22:52:07 2019-06-04  2019-01-20 23:18:57  2019-01-20 23:18:57   \n",
       "\n",
       "                              date_time program  staff days_after_grad  \n",
       "date_time                                                               \n",
       "2019-03-03 22:52:07 2019-03-03 22:52:07    java  False        -93 days  "
      ]
     },
     "execution_count": 7,
     "metadata": {},
     "output_type": "execute_result"
    }
   ],
   "source": [
    "df[df.index == '2019-03-03 22:52:07'].head(1)"
   ]
  },
  {
   "cell_type": "code",
   "execution_count": 8,
   "id": "02bcd7cc",
   "metadata": {},
   "outputs": [
    {
     "data": {
      "text/html": [
       "<div>\n",
       "<style scoped>\n",
       "    .dataframe tbody tr th:only-of-type {\n",
       "        vertical-align: middle;\n",
       "    }\n",
       "\n",
       "    .dataframe tbody tr th {\n",
       "        vertical-align: top;\n",
       "    }\n",
       "\n",
       "    .dataframe thead th {\n",
       "        text-align: right;\n",
       "    }\n",
       "</style>\n",
       "<table border=\"1\" class=\"dataframe\">\n",
       "  <thead>\n",
       "    <tr style=\"text-align: right;\">\n",
       "      <th></th>\n",
       "      <th>path</th>\n",
       "      <th>user_id</th>\n",
       "      <th>cohort_id</th>\n",
       "      <th>program_id</th>\n",
       "      <th>ip</th>\n",
       "      <th>name</th>\n",
       "      <th>slack</th>\n",
       "      <th>start_date</th>\n",
       "      <th>end_date</th>\n",
       "      <th>created_at</th>\n",
       "      <th>updated_at</th>\n",
       "      <th>date_time</th>\n",
       "      <th>program</th>\n",
       "      <th>staff</th>\n",
       "      <th>days_after_grad</th>\n",
       "    </tr>\n",
       "    <tr>\n",
       "      <th>date_time</th>\n",
       "      <th></th>\n",
       "      <th></th>\n",
       "      <th></th>\n",
       "      <th></th>\n",
       "      <th></th>\n",
       "      <th></th>\n",
       "      <th></th>\n",
       "      <th></th>\n",
       "      <th></th>\n",
       "      <th></th>\n",
       "      <th></th>\n",
       "      <th></th>\n",
       "      <th></th>\n",
       "      <th></th>\n",
       "      <th></th>\n",
       "    </tr>\n",
       "  </thead>\n",
       "  <tbody>\n",
       "    <tr>\n",
       "      <th>2019-03-03 22:52:06</th>\n",
       "      <td>javascript-i</td>\n",
       "      <td>341</td>\n",
       "      <td>29.0</td>\n",
       "      <td>2</td>\n",
       "      <td>204.44.112.76</td>\n",
       "      <td>Zion</td>\n",
       "      <td>#zion</td>\n",
       "      <td>2019-01-22</td>\n",
       "      <td>2019-06-04</td>\n",
       "      <td>2019-01-20 23:18:57</td>\n",
       "      <td>2019-01-20 23:18:57</td>\n",
       "      <td>2019-03-03 22:52:06</td>\n",
       "      <td>java</td>\n",
       "      <td>False</td>\n",
       "      <td>-93 days</td>\n",
       "    </tr>\n",
       "  </tbody>\n",
       "</table>\n",
       "</div>"
      ],
      "text/plain": [
       "                             path  user_id  cohort_id  program_id  \\\n",
       "date_time                                                           \n",
       "2019-03-03 22:52:06  javascript-i      341       29.0           2   \n",
       "\n",
       "                                ip  name  slack start_date   end_date  \\\n",
       "date_time                                                               \n",
       "2019-03-03 22:52:06  204.44.112.76  Zion  #zion 2019-01-22 2019-06-04   \n",
       "\n",
       "                              created_at           updated_at  \\\n",
       "date_time                                                       \n",
       "2019-03-03 22:52:06  2019-01-20 23:18:57  2019-01-20 23:18:57   \n",
       "\n",
       "                              date_time program  staff days_after_grad  \n",
       "date_time                                                               \n",
       "2019-03-03 22:52:06 2019-03-03 22:52:06    java  False        -93 days  "
      ]
     },
     "execution_count": 8,
     "metadata": {},
     "output_type": "execute_result"
    }
   ],
   "source": [
    "df[df.index == '2019-03-03 22:52:06'].head(1)"
   ]
  },
  {
   "cell_type": "code",
   "execution_count": 9,
   "id": "1e751947",
   "metadata": {},
   "outputs": [
    {
     "data": {
      "text/html": [
       "<div>\n",
       "<style scoped>\n",
       "    .dataframe tbody tr th:only-of-type {\n",
       "        vertical-align: middle;\n",
       "    }\n",
       "\n",
       "    .dataframe tbody tr th {\n",
       "        vertical-align: top;\n",
       "    }\n",
       "\n",
       "    .dataframe thead th {\n",
       "        text-align: right;\n",
       "    }\n",
       "</style>\n",
       "<table border=\"1\" class=\"dataframe\">\n",
       "  <thead>\n",
       "    <tr style=\"text-align: right;\">\n",
       "      <th></th>\n",
       "      <th>path</th>\n",
       "      <th>user_id</th>\n",
       "      <th>cohort_id</th>\n",
       "      <th>program_id</th>\n",
       "      <th>ip</th>\n",
       "      <th>name</th>\n",
       "      <th>slack</th>\n",
       "      <th>start_date</th>\n",
       "      <th>end_date</th>\n",
       "      <th>created_at</th>\n",
       "      <th>updated_at</th>\n",
       "      <th>date_time</th>\n",
       "      <th>program</th>\n",
       "      <th>staff</th>\n",
       "      <th>days_after_grad</th>\n",
       "    </tr>\n",
       "    <tr>\n",
       "      <th>date_time</th>\n",
       "      <th></th>\n",
       "      <th></th>\n",
       "      <th></th>\n",
       "      <th></th>\n",
       "      <th></th>\n",
       "      <th></th>\n",
       "      <th></th>\n",
       "      <th></th>\n",
       "      <th></th>\n",
       "      <th></th>\n",
       "      <th></th>\n",
       "      <th></th>\n",
       "      <th></th>\n",
       "      <th></th>\n",
       "      <th></th>\n",
       "    </tr>\n",
       "  </thead>\n",
       "  <tbody>\n",
       "    <tr>\n",
       "      <th>2019-03-03 22:52:11</th>\n",
       "      <td>appendix/extra-challenges/basic-challenges</td>\n",
       "      <td>341</td>\n",
       "      <td>29.0</td>\n",
       "      <td>2</td>\n",
       "      <td>204.44.112.76</td>\n",
       "      <td>Zion</td>\n",
       "      <td>#zion</td>\n",
       "      <td>2019-01-22</td>\n",
       "      <td>2019-06-04</td>\n",
       "      <td>2019-01-20 23:18:57</td>\n",
       "      <td>2019-01-20 23:18:57</td>\n",
       "      <td>2019-03-03 22:52:11</td>\n",
       "      <td>java</td>\n",
       "      <td>False</td>\n",
       "      <td>-93 days</td>\n",
       "    </tr>\n",
       "  </tbody>\n",
       "</table>\n",
       "</div>"
      ],
      "text/plain": [
       "                                                           path  user_id  \\\n",
       "date_time                                                                  \n",
       "2019-03-03 22:52:11  appendix/extra-challenges/basic-challenges      341   \n",
       "\n",
       "                     cohort_id  program_id             ip  name  slack  \\\n",
       "date_time                                                                \n",
       "2019-03-03 22:52:11       29.0           2  204.44.112.76  Zion  #zion   \n",
       "\n",
       "                    start_date   end_date           created_at  \\\n",
       "date_time                                                        \n",
       "2019-03-03 22:52:11 2019-01-22 2019-06-04  2019-01-20 23:18:57   \n",
       "\n",
       "                              updated_at           date_time program  staff  \\\n",
       "date_time                                                                     \n",
       "2019-03-03 22:52:11  2019-01-20 23:18:57 2019-03-03 22:52:11    java  False   \n",
       "\n",
       "                    days_after_grad  \n",
       "date_time                            \n",
       "2019-03-03 22:52:11        -93 days  "
      ]
     },
     "execution_count": 9,
     "metadata": {},
     "output_type": "execute_result"
    }
   ],
   "source": [
    "df[df.index == '2019-03-03 22:52:11'].head(1)"
   ]
  },
  {
   "cell_type": "code",
   "execution_count": 10,
   "id": "4f98c590",
   "metadata": {
    "scrolled": true
   },
   "outputs": [
    {
     "data": {
      "text/html": [
       "<div>\n",
       "<style scoped>\n",
       "    .dataframe tbody tr th:only-of-type {\n",
       "        vertical-align: middle;\n",
       "    }\n",
       "\n",
       "    .dataframe tbody tr th {\n",
       "        vertical-align: top;\n",
       "    }\n",
       "\n",
       "    .dataframe thead th {\n",
       "        text-align: right;\n",
       "    }\n",
       "</style>\n",
       "<table border=\"1\" class=\"dataframe\">\n",
       "  <thead>\n",
       "    <tr style=\"text-align: right;\">\n",
       "      <th></th>\n",
       "      <th>path</th>\n",
       "      <th>user_id</th>\n",
       "      <th>cohort_id</th>\n",
       "      <th>program_id</th>\n",
       "      <th>ip</th>\n",
       "      <th>name</th>\n",
       "      <th>slack</th>\n",
       "      <th>start_date</th>\n",
       "      <th>end_date</th>\n",
       "      <th>created_at</th>\n",
       "      <th>updated_at</th>\n",
       "      <th>date_time</th>\n",
       "      <th>program</th>\n",
       "      <th>staff</th>\n",
       "      <th>days_after_grad</th>\n",
       "    </tr>\n",
       "    <tr>\n",
       "      <th>date_time</th>\n",
       "      <th></th>\n",
       "      <th></th>\n",
       "      <th></th>\n",
       "      <th></th>\n",
       "      <th></th>\n",
       "      <th></th>\n",
       "      <th></th>\n",
       "      <th></th>\n",
       "      <th></th>\n",
       "      <th></th>\n",
       "      <th></th>\n",
       "      <th></th>\n",
       "      <th></th>\n",
       "      <th></th>\n",
       "      <th></th>\n",
       "    </tr>\n",
       "  </thead>\n",
       "  <tbody>\n",
       "    <tr>\n",
       "      <th>2019-03-03 22:52:05</th>\n",
       "      <td>html-css</td>\n",
       "      <td>341</td>\n",
       "      <td>29.0</td>\n",
       "      <td>2</td>\n",
       "      <td>204.44.112.76</td>\n",
       "      <td>Zion</td>\n",
       "      <td>#zion</td>\n",
       "      <td>2019-01-22</td>\n",
       "      <td>2019-06-04</td>\n",
       "      <td>2019-01-20 23:18:57</td>\n",
       "      <td>2019-01-20 23:18:57</td>\n",
       "      <td>2019-03-03 22:52:05</td>\n",
       "      <td>java</td>\n",
       "      <td>False</td>\n",
       "      <td>-93 days</td>\n",
       "    </tr>\n",
       "  </tbody>\n",
       "</table>\n",
       "</div>"
      ],
      "text/plain": [
       "                         path  user_id  cohort_id  program_id             ip  \\\n",
       "date_time                                                                      \n",
       "2019-03-03 22:52:05  html-css      341       29.0           2  204.44.112.76   \n",
       "\n",
       "                     name  slack start_date   end_date           created_at  \\\n",
       "date_time                                                                     \n",
       "2019-03-03 22:52:05  Zion  #zion 2019-01-22 2019-06-04  2019-01-20 23:18:57   \n",
       "\n",
       "                              updated_at           date_time program  staff  \\\n",
       "date_time                                                                     \n",
       "2019-03-03 22:52:05  2019-01-20 23:18:57 2019-03-03 22:52:05    java  False   \n",
       "\n",
       "                    days_after_grad  \n",
       "date_time                            \n",
       "2019-03-03 22:52:05        -93 days  "
      ]
     },
     "execution_count": 10,
     "metadata": {},
     "output_type": "execute_result"
    }
   ],
   "source": [
    "# check to see if this ip was used besides the seconds looked at above\n",
    "df[(df.ip == '204.44.112.76') & (df.index != '2019-03-03 22:52:06') & (df.index != '2019-03-03 22:52:07') & (df.index != '2019-03-03 22:52:08') & (df.index != '2019-03-03 22:52:09') & (df.index != '2019-03-03 22:52:10') & (df.index != '2019-03-03 22:52:11')].head(1)"
   ]
  },
  {
   "cell_type": "code",
   "execution_count": 11,
   "id": "92b35544",
   "metadata": {},
   "outputs": [
    {
     "data": {
      "text/plain": [
       "2019-03-03 22:52:05     1\n",
       "2019-03-03 22:52:06    21\n",
       "2019-03-03 22:52:07    30\n",
       "2019-03-03 22:52:08    25\n",
       "2019-03-03 22:52:09    30\n",
       "2019-03-03 22:52:10    25\n",
       "2019-03-03 22:52:11    25\n",
       "2019-03-03 22:52:12    12\n",
       "2019-03-03 23:00:57     1\n",
       "2019-03-03 23:01:16     1\n",
       "2019-03-03 23:01:21     1\n",
       "2019-03-03 23:01:38     1\n",
       "2019-03-03 23:02:31     1\n",
       "2019-03-03 23:03:07     1\n",
       "2019-03-03 23:09:30     1\n",
       "2019-03-03 23:09:51     1\n",
       "2019-03-03 23:10:08     1\n",
       "2019-03-03 23:10:32     1\n",
       "2019-03-03 23:10:40     1\n",
       "Name: date_time, dtype: int64"
      ]
     },
     "execution_count": 11,
     "metadata": {},
     "output_type": "execute_result"
    }
   ],
   "source": [
    "# confirm timeframe\n",
    "df[df.ip=='204.44.112.76'].index.value_counts().sort_index()"
   ]
  },
  {
   "cell_type": "markdown",
   "id": "606887f2",
   "metadata": {},
   "source": [
    "This IP was only used on this day and only to look at Web Dev even though the Data Science program was up and running at this time. "
   ]
  },
  {
   "cell_type": "code",
   "execution_count": 12,
   "id": "4fe6588c",
   "metadata": {},
   "outputs": [
    {
     "data": {
      "text/plain": [
       "911"
      ]
     },
     "execution_count": 12,
     "metadata": {},
     "output_type": "execute_result"
    }
   ],
   "source": [
    "# check the amount of user ids\n",
    "len(df.user_id.unique())"
   ]
  },
  {
   "cell_type": "code",
   "execution_count": 13,
   "id": "5ade52cd",
   "metadata": {},
   "outputs": [
    {
     "data": {
      "text/plain": [
       "5200"
      ]
     },
     "execution_count": 13,
     "metadata": {},
     "output_type": "execute_result"
    }
   ],
   "source": [
    "# check the amount of ips \n",
    "len(df.ip.unique())"
   ]
  },
  {
   "cell_type": "markdown",
   "id": "f3ecb34f",
   "metadata": {},
   "source": [
    "^ This confirms that multiple ips can belong to one user."
   ]
  },
  {
   "cell_type": "markdown",
   "id": "e1661a8c",
   "metadata": {},
   "source": [
    "Because of this and the fact that the suspicious ip above only accessed lessons once on one day, let's find other ips that only looked at a lesson once. "
   ]
  },
  {
   "cell_type": "code",
   "execution_count": 14,
   "id": "3c5d4529",
   "metadata": {},
   "outputs": [
    {
     "data": {
      "text/plain": [
       "ip\n",
       "104.156.210.199    1\n",
       "104.176.91.161     1\n",
       "104.184.220.38     1\n",
       "104.184.27.54      1\n",
       "104.190.247.101    1\n",
       "Name: path, dtype: int64"
      ]
     },
     "execution_count": 14,
     "metadata": {},
     "output_type": "execute_result"
    }
   ],
   "source": [
    "# look at ip counts where it was only accessed a lesson once\n",
    "ip_counts = df.groupby(['ip'])['path'].nunique()\n",
    "ip_counts[ip_counts==1].head()"
   ]
  },
  {
   "cell_type": "code",
   "execution_count": 15,
   "id": "bb55db05",
   "metadata": {},
   "outputs": [
    {
     "data": {
      "text/html": [
       "<div>\n",
       "<style scoped>\n",
       "    .dataframe tbody tr th:only-of-type {\n",
       "        vertical-align: middle;\n",
       "    }\n",
       "\n",
       "    .dataframe tbody tr th {\n",
       "        vertical-align: top;\n",
       "    }\n",
       "\n",
       "    .dataframe thead th {\n",
       "        text-align: right;\n",
       "    }\n",
       "</style>\n",
       "<table border=\"1\" class=\"dataframe\">\n",
       "  <thead>\n",
       "    <tr style=\"text-align: right;\">\n",
       "      <th></th>\n",
       "      <th>date_time</th>\n",
       "      <th>path</th>\n",
       "      <th>ip</th>\n",
       "    </tr>\n",
       "    <tr>\n",
       "      <th>user_id</th>\n",
       "      <th></th>\n",
       "      <th></th>\n",
       "      <th></th>\n",
       "    </tr>\n",
       "  </thead>\n",
       "  <tbody>\n",
       "    <tr>\n",
       "      <th>66</th>\n",
       "      <td>1</td>\n",
       "      <td>1</td>\n",
       "      <td>1</td>\n",
       "    </tr>\n",
       "    <tr>\n",
       "      <th>163</th>\n",
       "      <td>1</td>\n",
       "      <td>1</td>\n",
       "      <td>1</td>\n",
       "    </tr>\n",
       "    <tr>\n",
       "      <th>165</th>\n",
       "      <td>1</td>\n",
       "      <td>1</td>\n",
       "      <td>1</td>\n",
       "    </tr>\n",
       "    <tr>\n",
       "      <th>212</th>\n",
       "      <td>1</td>\n",
       "      <td>1</td>\n",
       "      <td>1</td>\n",
       "    </tr>\n",
       "    <tr>\n",
       "      <th>592</th>\n",
       "      <td>1</td>\n",
       "      <td>1</td>\n",
       "      <td>1</td>\n",
       "    </tr>\n",
       "    <tr>\n",
       "      <th>593</th>\n",
       "      <td>1</td>\n",
       "      <td>1</td>\n",
       "      <td>1</td>\n",
       "    </tr>\n",
       "    <tr>\n",
       "      <th>619</th>\n",
       "      <td>1</td>\n",
       "      <td>1</td>\n",
       "      <td>1</td>\n",
       "    </tr>\n",
       "    <tr>\n",
       "      <th>649</th>\n",
       "      <td>1</td>\n",
       "      <td>1</td>\n",
       "      <td>1</td>\n",
       "    </tr>\n",
       "    <tr>\n",
       "      <th>652</th>\n",
       "      <td>1</td>\n",
       "      <td>1</td>\n",
       "      <td>1</td>\n",
       "    </tr>\n",
       "    <tr>\n",
       "      <th>879</th>\n",
       "      <td>1</td>\n",
       "      <td>1</td>\n",
       "      <td>1</td>\n",
       "    </tr>\n",
       "    <tr>\n",
       "      <th>918</th>\n",
       "      <td>1</td>\n",
       "      <td>1</td>\n",
       "      <td>1</td>\n",
       "    </tr>\n",
       "    <tr>\n",
       "      <th>940</th>\n",
       "      <td>1</td>\n",
       "      <td>1</td>\n",
       "      <td>1</td>\n",
       "    </tr>\n",
       "    <tr>\n",
       "      <th>952</th>\n",
       "      <td>1</td>\n",
       "      <td>1</td>\n",
       "      <td>1</td>\n",
       "    </tr>\n",
       "  </tbody>\n",
       "</table>\n",
       "</div>"
      ],
      "text/plain": [
       "         date_time  path  ip\n",
       "user_id                     \n",
       "66               1     1   1\n",
       "163              1     1   1\n",
       "165              1     1   1\n",
       "212              1     1   1\n",
       "592              1     1   1\n",
       "593              1     1   1\n",
       "619              1     1   1\n",
       "649              1     1   1\n",
       "652              1     1   1\n",
       "879              1     1   1\n",
       "918              1     1   1\n",
       "940              1     1   1\n",
       "952              1     1   1"
      ]
     },
     "execution_count": 15,
     "metadata": {},
     "output_type": "execute_result"
    }
   ],
   "source": [
    "# look at lessons accessed by one user id on only one day using one ip address\n",
    "single_access = df.groupby(['user_id'])['date_time','path','ip'].nunique()\n",
    "single_access[(single_access.date_time == 1) & (single_access.path == 1) & (single_access.ip == 1)]"
   ]
  },
  {
   "cell_type": "markdown",
   "id": "34331852",
   "metadata": {},
   "source": [
    "I want to see days that had an abnormal number of lessons accessed. "
   ]
  },
  {
   "cell_type": "code",
   "execution_count": 16,
   "id": "465be07a",
   "metadata": {},
   "outputs": [
    {
     "data": {
      "text/plain": [
       "date_time\n",
       "2018-01-26    533\n",
       "2018-01-27    230\n",
       "2018-01-28    168\n",
       "2018-01-29    783\n",
       "2018-01-30    614\n",
       "Freq: D, Name: path, dtype: int64"
      ]
     },
     "execution_count": 16,
     "metadata": {},
     "output_type": "execute_result"
    }
   ],
   "source": [
    "# lessons accessed per days\n",
    "lessons = df['path'].resample('d').count()\n",
    "lessons.head()"
   ]
  },
  {
   "cell_type": "code",
   "execution_count": 17,
   "id": "74d3438b",
   "metadata": {},
   "outputs": [],
   "source": [
    "# 7 day EMA\n",
    "ema_7d = lessons.ewm(span = 7).mean()"
   ]
  },
  {
   "cell_type": "code",
   "execution_count": 18,
   "id": "ef5a8527",
   "metadata": {},
   "outputs": [],
   "source": [
    "# 14 days EMA\n",
    "ema_14d = lessons.ewm(span = 14).mean()"
   ]
  },
  {
   "cell_type": "code",
   "execution_count": 19,
   "id": "fb4cbeb5",
   "metadata": {},
   "outputs": [],
   "source": [
    "# 30 days EMA\n",
    "ema_30d = lessons.ewm(span = 30).mean()"
   ]
  },
  {
   "cell_type": "code",
   "execution_count": 20,
   "id": "cc564921",
   "metadata": {},
   "outputs": [],
   "source": [
    "# 90 days EMA\n",
    "ema_90d = lessons.ewm(span = 90).mean()"
   ]
  },
  {
   "cell_type": "code",
   "execution_count": 21,
   "id": "1a6bbc41",
   "metadata": {},
   "outputs": [
    {
     "data": {
      "image/png": "[encoded data removed]",
      "text/plain": [
       "<Figure size 864x432 with 1 Axes>"
      ]
     },
     "metadata": {
      "needs_background": "light"
     },
     "output_type": "display_data"
    }
   ],
   "source": [
    "fig, ax = plt.subplots(figsize=(12,6))\n",
    "\n",
    "ax.plot(lessons.index, lessons, label='Daily', alpha=.5)\n",
    "\n",
    "ax.plot(lessons.index, ema_7d, label = '7-day EMA')\n",
    "ax.plot(lessons.index, ema_14d, label = '14-day EMA')\n",
    "ax.plot(lessons.index, ema_30d, label = '30-day EMA')\n",
    "ax.plot(lessons.index, ema_90d, label = '90-day EMA')\n",
    "\n",
    "ax.legend(loc='best')\n",
    "ax.set_ylabel('Number of Lessons')\n",
    "\n",
    "plt.show()"
   ]
  },
  {
   "cell_type": "markdown",
   "id": "372bd3cd",
   "metadata": {},
   "source": [
    "I'll use Bollinger Bands to set a standard and see what falls above or below \"abnormal\". "
   ]
  },
  {
   "cell_type": "code",
   "execution_count": 22,
   "id": "3889355c",
   "metadata": {},
   "outputs": [
    {
     "data": {
      "text/plain": [
       "date_time\n",
       "2018-01-26    533.000000\n",
       "2018-01-27    376.450000\n",
       "2018-01-28    302.284709\n",
       "2018-01-29    434.739290\n",
       "2018-01-30    475.525441\n",
       "Freq: D, Name: path, dtype: float64"
      ]
     },
     "execution_count": 22,
     "metadata": {},
     "output_type": "execute_result"
    }
   ],
   "source": [
    "# set the window span\n",
    "span = 30\n",
    "\n",
    "# compute midband\n",
    "midband = lessons.ewm(span = 30).mean()\n",
    "midband.head()"
   ]
  },
  {
   "cell_type": "code",
   "execution_count": 23,
   "id": "eaac7116",
   "metadata": {},
   "outputs": [
    {
     "data": {
      "text/plain": [
       "date_time\n",
       "2018-01-26           NaN\n",
       "2018-01-27    214.253355\n",
       "2018-01-28    192.738756\n",
       "2018-01-29    292.489456\n",
       "2018-01-30    262.780177\n",
       "Freq: D, Name: path, dtype: float64"
      ]
     },
     "execution_count": 23,
     "metadata": {},
     "output_type": "execute_result"
    }
   ],
   "source": [
    "# compute exponential moving stdev\n",
    "std = lessons.ewm(span = 30).std()\n",
    "std.head()"
   ]
  },
  {
   "cell_type": "code",
   "execution_count": 24,
   "id": "965d612c",
   "metadata": {},
   "outputs": [
    {
     "data": {
      "text/plain": [
       "date_time\n",
       "2018-01-26   NaN\n",
       "Freq: D, Name: path, dtype: float64"
      ]
     },
     "execution_count": 24,
     "metadata": {},
     "output_type": "execute_result"
    }
   ],
   "source": [
    "# set std to 3\n",
    "ub = midband + std * 3\n",
    "lb = midband - std * 3\n",
    "ub.head(1)"
   ]
  },
  {
   "cell_type": "code",
   "execution_count": 25,
   "id": "f3f2ee33",
   "metadata": {},
   "outputs": [
    {
     "data": {
      "text/plain": [
       "date_time\n",
       "2018-01-26   NaN\n",
       "Freq: D, Name: path, dtype: float64"
      ]
     },
     "execution_count": 25,
     "metadata": {},
     "output_type": "execute_result"
    }
   ],
   "source": [
    "lb.head(1)"
   ]
  },
  {
   "cell_type": "code",
   "execution_count": 26,
   "id": "71bca373",
   "metadata": {},
   "outputs": [
    {
     "data": {
      "text/html": [
       "<div>\n",
       "<style scoped>\n",
       "    .dataframe tbody tr th:only-of-type {\n",
       "        vertical-align: middle;\n",
       "    }\n",
       "\n",
       "    .dataframe tbody tr th {\n",
       "        vertical-align: top;\n",
       "    }\n",
       "\n",
       "    .dataframe thead th {\n",
       "        text-align: right;\n",
       "    }\n",
       "</style>\n",
       "<table border=\"1\" class=\"dataframe\">\n",
       "  <thead>\n",
       "    <tr style=\"text-align: right;\">\n",
       "      <th></th>\n",
       "      <th>lessons</th>\n",
       "      <th>midband</th>\n",
       "      <th>ub</th>\n",
       "      <th>lb</th>\n",
       "    </tr>\n",
       "    <tr>\n",
       "      <th>date_time</th>\n",
       "      <th></th>\n",
       "      <th></th>\n",
       "      <th></th>\n",
       "      <th></th>\n",
       "    </tr>\n",
       "  </thead>\n",
       "  <tbody>\n",
       "    <tr>\n",
       "      <th>2018-01-26</th>\n",
       "      <td>533</td>\n",
       "      <td>533.000000</td>\n",
       "      <td>NaN</td>\n",
       "      <td>NaN</td>\n",
       "    </tr>\n",
       "    <tr>\n",
       "      <th>2018-01-27</th>\n",
       "      <td>230</td>\n",
       "      <td>376.450000</td>\n",
       "      <td>1019.210064</td>\n",
       "      <td>-266.310064</td>\n",
       "    </tr>\n",
       "    <tr>\n",
       "      <th>2018-01-28</th>\n",
       "      <td>168</td>\n",
       "      <td>302.284709</td>\n",
       "      <td>880.500977</td>\n",
       "      <td>-275.931559</td>\n",
       "    </tr>\n",
       "    <tr>\n",
       "      <th>2018-01-29</th>\n",
       "      <td>783</td>\n",
       "      <td>434.739290</td>\n",
       "      <td>1312.207658</td>\n",
       "      <td>-442.729079</td>\n",
       "    </tr>\n",
       "    <tr>\n",
       "      <th>2018-01-30</th>\n",
       "      <td>614</td>\n",
       "      <td>475.525441</td>\n",
       "      <td>1263.865971</td>\n",
       "      <td>-312.815089</td>\n",
       "    </tr>\n",
       "  </tbody>\n",
       "</table>\n",
       "</div>"
      ],
      "text/plain": [
       "            lessons     midband           ub          lb\n",
       "date_time                                               \n",
       "2018-01-26      533  533.000000          NaN         NaN\n",
       "2018-01-27      230  376.450000  1019.210064 -266.310064\n",
       "2018-01-28      168  302.284709   880.500977 -275.931559\n",
       "2018-01-29      783  434.739290  1312.207658 -442.729079\n",
       "2018-01-30      614  475.525441  1263.865971 -312.815089"
      ]
     },
     "execution_count": 26,
     "metadata": {},
     "output_type": "execute_result"
    }
   ],
   "source": [
    "# concat pages, midband, lb and ub to create a new df 'my_df'\n",
    "\n",
    "my_df = pd.concat([lessons, midband, ub, lb], axis =1)\n",
    "\n",
    "my_df.columns = ['lessons', 'midband', 'ub', 'lb']\n",
    "my_df.head()"
   ]
  },
  {
   "cell_type": "code",
   "execution_count": 27,
   "id": "9c808983",
   "metadata": {},
   "outputs": [
    {
     "data": {
      "image/png": "[encoded data removed]",
      "text/plain": [
       "<Figure size 864x576 with 1 Axes>"
      ]
     },
     "metadata": {
      "needs_background": "light"
     },
     "output_type": "display_data"
    }
   ],
   "source": [
    "#Plot the bands\n",
    "fig, ax = plt.subplots(figsize=(12,8))\n",
    "\n",
    "ax.plot(my_df.index, my_df.lessons, label='Number of Pages')\n",
    "\n",
    "ax.plot(my_df.index, my_df.midband, label = '30-day EMA/midband')\n",
    "ax.plot(my_df.index, my_df.ub, label = 'Upper Band')\n",
    "ax.plot(my_df.index, my_df.lb, label = 'Lower Band')\n",
    "\n",
    "ax.legend(loc='best')\n",
    "ax.set_ylabel('Number of Lessons')\n",
    "\n",
    "plt.show()"
   ]
  },
  {
   "cell_type": "code",
   "execution_count": 28,
   "id": "b808b42e",
   "metadata": {},
   "outputs": [
    {
     "data": {
      "text/html": [
       "<div>\n",
       "<style scoped>\n",
       "    .dataframe tbody tr th:only-of-type {\n",
       "        vertical-align: middle;\n",
       "    }\n",
       "\n",
       "    .dataframe tbody tr th {\n",
       "        vertical-align: top;\n",
       "    }\n",
       "\n",
       "    .dataframe thead th {\n",
       "        text-align: right;\n",
       "    }\n",
       "</style>\n",
       "<table border=\"1\" class=\"dataframe\">\n",
       "  <thead>\n",
       "    <tr style=\"text-align: right;\">\n",
       "      <th></th>\n",
       "      <th>lessons</th>\n",
       "      <th>midband</th>\n",
       "      <th>ub</th>\n",
       "      <th>lb</th>\n",
       "      <th>pct_b</th>\n",
       "    </tr>\n",
       "    <tr>\n",
       "      <th>date_time</th>\n",
       "      <th></th>\n",
       "      <th></th>\n",
       "      <th></th>\n",
       "      <th></th>\n",
       "      <th></th>\n",
       "    </tr>\n",
       "  </thead>\n",
       "  <tbody>\n",
       "    <tr>\n",
       "      <th>2018-01-26</th>\n",
       "      <td>533</td>\n",
       "      <td>533.000000</td>\n",
       "      <td>NaN</td>\n",
       "      <td>NaN</td>\n",
       "      <td>NaN</td>\n",
       "    </tr>\n",
       "    <tr>\n",
       "      <th>2018-01-27</th>\n",
       "      <td>230</td>\n",
       "      <td>376.450000</td>\n",
       "      <td>1019.210064</td>\n",
       "      <td>-266.310064</td>\n",
       "      <td>0.386077</td>\n",
       "    </tr>\n",
       "    <tr>\n",
       "      <th>2018-01-28</th>\n",
       "      <td>168</td>\n",
       "      <td>302.284709</td>\n",
       "      <td>880.500977</td>\n",
       "      <td>-275.931559</td>\n",
       "      <td>0.383880</td>\n",
       "    </tr>\n",
       "    <tr>\n",
       "      <th>2018-01-29</th>\n",
       "      <td>783</td>\n",
       "      <td>434.739290</td>\n",
       "      <td>1312.207658</td>\n",
       "      <td>-442.729079</td>\n",
       "      <td>0.698446</td>\n",
       "    </tr>\n",
       "    <tr>\n",
       "      <th>2018-01-30</th>\n",
       "      <td>614</td>\n",
       "      <td>475.525441</td>\n",
       "      <td>1263.865971</td>\n",
       "      <td>-312.815089</td>\n",
       "      <td>0.587827</td>\n",
       "    </tr>\n",
       "  </tbody>\n",
       "</table>\n",
       "</div>"
      ],
      "text/plain": [
       "            lessons     midband           ub          lb     pct_b\n",
       "date_time                                                         \n",
       "2018-01-26      533  533.000000          NaN         NaN       NaN\n",
       "2018-01-27      230  376.450000  1019.210064 -266.310064  0.386077\n",
       "2018-01-28      168  302.284709   880.500977 -275.931559  0.383880\n",
       "2018-01-29      783  434.739290  1312.207658 -442.729079  0.698446\n",
       "2018-01-30      614  475.525441  1263.865971 -312.815089  0.587827"
      ]
     },
     "execution_count": 28,
     "metadata": {},
     "output_type": "execute_result"
    }
   ],
   "source": [
    "#Compute pct_b\n",
    "my_df['pct_b'] = (my_df['lessons'] - my_df['lb'])/ (my_df['ub'] - my_df['lb'])\n",
    "my_df.head()\n"
   ]
  },
  {
   "cell_type": "code",
   "execution_count": 29,
   "id": "baf43029",
   "metadata": {},
   "outputs": [
    {
     "data": {
      "text/html": [
       "<div>\n",
       "<style scoped>\n",
       "    .dataframe tbody tr th:only-of-type {\n",
       "        vertical-align: middle;\n",
       "    }\n",
       "\n",
       "    .dataframe tbody tr th {\n",
       "        vertical-align: top;\n",
       "    }\n",
       "\n",
       "    .dataframe thead th {\n",
       "        text-align: right;\n",
       "    }\n",
       "</style>\n",
       "<table border=\"1\" class=\"dataframe\">\n",
       "  <thead>\n",
       "    <tr style=\"text-align: right;\">\n",
       "      <th></th>\n",
       "      <th>lessons</th>\n",
       "      <th>midband</th>\n",
       "      <th>ub</th>\n",
       "      <th>lb</th>\n",
       "      <th>pct_b</th>\n",
       "    </tr>\n",
       "    <tr>\n",
       "      <th>date_time</th>\n",
       "      <th></th>\n",
       "      <th></th>\n",
       "      <th></th>\n",
       "      <th></th>\n",
       "      <th></th>\n",
       "    </tr>\n",
       "  </thead>\n",
       "  <tbody>\n",
       "  </tbody>\n",
       "</table>\n",
       "</div>"
      ],
      "text/plain": [
       "Empty DataFrame\n",
       "Columns: [lessons, midband, ub, lb, pct_b]\n",
       "Index: []"
      ]
     },
     "execution_count": 29,
     "metadata": {},
     "output_type": "execute_result"
    }
   ],
   "source": [
    "my_df[my_df.pct_b > 1]\n"
   ]
  },
  {
   "cell_type": "code",
   "execution_count": 31,
   "id": "773a851b",
   "metadata": {},
   "outputs": [],
   "source": [
    "def acquire_logs(user=env.user, password=env.password, host=env.host):\n",
    "    '''\n",
    "    This function queries the Codeup MySQL curriculum_logs database and returns a dataframe\n",
    "    '''\n",
    "    url = f'mysql+pymysql://{env.user}:{env.password}@{env.host}/curriculum_logs'\n",
    "    query = '''\n",
    "    SELECT date,\n",
    "           ip,\n",
    "           path as endpoint,\n",
    "           user_id,\n",
    "           cohort_id,\n",
    "           ip as source_ip\n",
    "    FROM logs;\n",
    "    '''\n",
    "    df = pd.read_sql(query, url)\n",
    "    return df\n"
   ]
  },
  {
   "cell_type": "code",
   "execution_count": 32,
   "id": "33dafcff",
   "metadata": {},
   "outputs": [
    {
     "data": {
      "text/html": [
       "<div>\n",
       "<style scoped>\n",
       "    .dataframe tbody tr th:only-of-type {\n",
       "        vertical-align: middle;\n",
       "    }\n",
       "\n",
       "    .dataframe tbody tr th {\n",
       "        vertical-align: top;\n",
       "    }\n",
       "\n",
       "    .dataframe thead th {\n",
       "        text-align: right;\n",
       "    }\n",
       "</style>\n",
       "<table border=\"1\" class=\"dataframe\">\n",
       "  <thead>\n",
       "    <tr style=\"text-align: right;\">\n",
       "      <th></th>\n",
       "      <th>date</th>\n",
       "      <th>ip</th>\n",
       "      <th>endpoint</th>\n",
       "      <th>user_id</th>\n",
       "      <th>cohort_id</th>\n",
       "      <th>source_ip</th>\n",
       "    </tr>\n",
       "  </thead>\n",
       "  <tbody>\n",
       "    <tr>\n",
       "      <th>0</th>\n",
       "      <td>2018-01-26</td>\n",
       "      <td>97.105.19.61</td>\n",
       "      <td>/</td>\n",
       "      <td>1</td>\n",
       "      <td>8.0</td>\n",
       "      <td>97.105.19.61</td>\n",
       "    </tr>\n",
       "    <tr>\n",
       "      <th>1</th>\n",
       "      <td>2018-01-26</td>\n",
       "      <td>97.105.19.61</td>\n",
       "      <td>java-ii</td>\n",
       "      <td>1</td>\n",
       "      <td>8.0</td>\n",
       "      <td>97.105.19.61</td>\n",
       "    </tr>\n",
       "    <tr>\n",
       "      <th>2</th>\n",
       "      <td>2018-01-26</td>\n",
       "      <td>97.105.19.61</td>\n",
       "      <td>java-ii/object-oriented-programming</td>\n",
       "      <td>1</td>\n",
       "      <td>8.0</td>\n",
       "      <td>97.105.19.61</td>\n",
       "    </tr>\n",
       "    <tr>\n",
       "      <th>3</th>\n",
       "      <td>2018-01-26</td>\n",
       "      <td>97.105.19.61</td>\n",
       "      <td>slides/object_oriented_programming</td>\n",
       "      <td>1</td>\n",
       "      <td>8.0</td>\n",
       "      <td>97.105.19.61</td>\n",
       "    </tr>\n",
       "    <tr>\n",
       "      <th>4</th>\n",
       "      <td>2018-01-26</td>\n",
       "      <td>97.105.19.61</td>\n",
       "      <td>javascript-i/conditionals</td>\n",
       "      <td>2</td>\n",
       "      <td>22.0</td>\n",
       "      <td>97.105.19.61</td>\n",
       "    </tr>\n",
       "  </tbody>\n",
       "</table>\n",
       "</div>"
      ],
      "text/plain": [
       "         date            ip                             endpoint  user_id  \\\n",
       "0  2018-01-26  97.105.19.61                                    /        1   \n",
       "1  2018-01-26  97.105.19.61                              java-ii        1   \n",
       "2  2018-01-26  97.105.19.61  java-ii/object-oriented-programming        1   \n",
       "3  2018-01-26  97.105.19.61   slides/object_oriented_programming        1   \n",
       "4  2018-01-26  97.105.19.61            javascript-i/conditionals        2   \n",
       "\n",
       "   cohort_id     source_ip  \n",
       "0        8.0  97.105.19.61  \n",
       "1        8.0  97.105.19.61  \n",
       "2        8.0  97.105.19.61  \n",
       "3        8.0  97.105.19.61  \n",
       "4       22.0  97.105.19.61  "
      ]
     },
     "execution_count": 32,
     "metadata": {},
     "output_type": "execute_result"
    }
   ],
   "source": [
    "df = acquire_logs()\n",
    "df.head()"
   ]
  },
  {
   "cell_type": "code",
   "execution_count": 35,
   "id": "9238ff75",
   "metadata": {},
   "outputs": [],
   "source": [
    "def one_ip_df_prep(df, ip):\n",
    "    '''\n",
    "    This function returns a dataframe consisting of data for only a single defined ip\n",
    "    '''\n",
    "    df = df[df.ip == ip]\n",
    "    df.date = pd.to_datetime(df.date)\n",
    "    df = df.set_index(df.date)\n",
    "    pages_one_ip = df['endpoint'].resample('d').count()\n",
    "    return pages_one_ip\n",
    "\n",
    "def compute_pct_b(pages_one_ip, span, weight, ip):\n",
    "    '''\n",
    "    This function adds the %b of a bollinger band range for the page views of a single ip's log activity\n",
    "    '''\n",
    "    # Calculate upper and lower bollinger band\n",
    "    midband = pages_one_ip.ewm(span=span).mean()\n",
    "    stdev = pages_one_ip.ewm(span=span).std()\n",
    "    ub = midband + stdev*weight\n",
    "    lb = midband - stdev*weight\n",
    "    \n",
    "    # Add upper and lower band values to dataframe\n",
    "    bb = pd.concat([ub, lb], axis=1)\n",
    "    \n",
    "    # Combine all data into a single dataframe\n",
    "    my_df = pd.concat([pages_one_ip, midband, bb], axis=1)\n",
    "    my_df.columns = ['pages_one_ip', 'midband', 'ub', 'lb']\n",
    "    \n",
    "    # Calculate percent b and relevant ip to dataframe\n",
    "    my_df['pct_b'] = (my_df['pages_one_ip'] - my_df['lb'])/(my_df['ub'] - my_df['lb'])\n",
    "    my_df['ip'] = ip\n",
    "    return my_df\n",
    "\n",
    "def plot_bands(my_df, ip):\n",
    "    '''\n",
    "    This function plots the bolliger bands of the page views for a single ip\n",
    "    '''\n",
    "    fig, ax = plt.subplots(figsize=(12,8))\n",
    "    ax.plot(my_df.index, my_df.pages_one_ip, label='Number of Pages, ip: '+str(ip))\n",
    "    ax.plot(my_df.index, my_df.midband, label = 'EMA/midband')\n",
    "    ax.plot(my_df.index, my_df.ub, label = 'Upper Band')\n",
    "    ax.plot(my_df.index, my_df.lb, label = 'Lower Band')\n",
    "    ax.legend(loc='best')\n",
    "    ax.set_ylabel('Number of Pages')\n",
    "    plt.show()\n",
    "\n",
    "def find_anomalies(df, ip, span, weight, plot=False):\n",
    "    '''\n",
    "    This function returns the records where a ip's daily activity exceeded the upper limit of a bollinger band range\n",
    "    '''\n",
    "    \n",
    "    # Reduce dataframe to represent a single user\n",
    "    pages_one_ip = one_ip_df_prep(df, ip)\n",
    "    \n",
    "    # Add bollinger band data to dataframe\n",
    "    my_df = compute_pct_b(pages_one_ip, span, weight, ip)\n",
    "    \n",
    "    # Plot data if requested (plot=True)\n",
    "    if plot:\n",
    "        plot_bands(my_df, ip)\n",
    "    \n",
    "    # Return only records that sit outside of bollinger band upper limit\n",
    "    return my_df[my_df.pct_b>1]"
   ]
  },
  {
   "cell_type": "code",
   "execution_count": 36,
   "id": "be9a6306",
   "metadata": {},
   "outputs": [],
   "source": [
    "ip = 1\n",
    "span = 30\n",
    "weight = 6\n",
    "ip_df = find_anomalies(df, ip, span, weight)\n",
    "\n",
    "anomalies = pd.DataFrame()\n",
    "ip_df = find_anomalies(df, ip, span, weight)\n",
    "anomalies = pd.concat([anomalies, ip_df], axis=0)"
   ]
  },
  {
   "cell_type": "code",
   "execution_count": 37,
   "id": "c2343294",
   "metadata": {},
   "outputs": [
    {
     "data": {
      "text/html": [
       "<div>\n",
       "<style scoped>\n",
       "    .dataframe tbody tr th:only-of-type {\n",
       "        vertical-align: middle;\n",
       "    }\n",
       "\n",
       "    .dataframe tbody tr th {\n",
       "        vertical-align: top;\n",
       "    }\n",
       "\n",
       "    .dataframe thead th {\n",
       "        text-align: right;\n",
       "    }\n",
       "</style>\n",
       "<table border=\"1\" class=\"dataframe\">\n",
       "  <thead>\n",
       "    <tr style=\"text-align: right;\">\n",
       "      <th></th>\n",
       "      <th>pages_one_ip</th>\n",
       "      <th>midband</th>\n",
       "      <th>ub</th>\n",
       "      <th>lb</th>\n",
       "      <th>pct_b</th>\n",
       "      <th>ip</th>\n",
       "    </tr>\n",
       "    <tr>\n",
       "      <th>date</th>\n",
       "      <th></th>\n",
       "      <th></th>\n",
       "      <th></th>\n",
       "      <th></th>\n",
       "      <th></th>\n",
       "      <th></th>\n",
       "    </tr>\n",
       "  </thead>\n",
       "  <tbody>\n",
       "  </tbody>\n",
       "</table>\n",
       "</div>"
      ],
      "text/plain": [
       "Empty DataFrame\n",
       "Columns: [pages_one_ip, midband, ub, lb, pct_b, ip]\n",
       "Index: []"
      ]
     },
     "execution_count": 37,
     "metadata": {},
     "output_type": "execute_result"
    }
   ],
   "source": [
    "anomalies.head()"
   ]
  },
  {
   "cell_type": "code",
   "execution_count": 39,
   "id": "4833c1da",
   "metadata": {},
   "outputs": [],
   "source": [
    "# Use function in a loop examining all users:"
   ]
  },
  {
   "cell_type": "code",
   "execution_count": 38,
   "id": "83b22102",
   "metadata": {},
   "outputs": [],
   "source": [
    "span = 30\n",
    "weight = 3.5\n",
    "\n",
    "anomalies = pd.DataFrame()\n",
    "for u in list(df.ip.unique()):\n",
    "    ip_df = find_anomalies(df, u, span, weight)\n",
    "    anomalies = pd.concat([anomalies, ip_df], axis=0)"
   ]
  },
  {
   "cell_type": "code",
   "execution_count": 40,
   "id": "382a3b62",
   "metadata": {},
   "outputs": [
    {
     "data": {
      "text/html": [
       "<div>\n",
       "<style scoped>\n",
       "    .dataframe tbody tr th:only-of-type {\n",
       "        vertical-align: middle;\n",
       "    }\n",
       "\n",
       "    .dataframe tbody tr th {\n",
       "        vertical-align: top;\n",
       "    }\n",
       "\n",
       "    .dataframe thead th {\n",
       "        text-align: right;\n",
       "    }\n",
       "</style>\n",
       "<table border=\"1\" class=\"dataframe\">\n",
       "  <thead>\n",
       "    <tr style=\"text-align: right;\">\n",
       "      <th></th>\n",
       "      <th>pages_one_ip</th>\n",
       "      <th>midband</th>\n",
       "      <th>ub</th>\n",
       "      <th>lb</th>\n",
       "      <th>pct_b</th>\n",
       "      <th>ip</th>\n",
       "    </tr>\n",
       "    <tr>\n",
       "      <th>date</th>\n",
       "      <th></th>\n",
       "      <th></th>\n",
       "      <th></th>\n",
       "      <th></th>\n",
       "      <th></th>\n",
       "      <th></th>\n",
       "    </tr>\n",
       "  </thead>\n",
       "  <tbody>\n",
       "    <tr>\n",
       "      <th>2018-03-14</th>\n",
       "      <td>9</td>\n",
       "      <td>0.627485</td>\n",
       "      <td>8.702895</td>\n",
       "      <td>-7.447925</td>\n",
       "      <td>1.018396</td>\n",
       "      <td>71.137.146.71</td>\n",
       "    </tr>\n",
       "    <tr>\n",
       "      <th>2018-05-06</th>\n",
       "      <td>10</td>\n",
       "      <td>0.727782</td>\n",
       "      <td>9.678436</td>\n",
       "      <td>-8.222872</td>\n",
       "      <td>1.017963</td>\n",
       "      <td>71.137.146.71</td>\n",
       "    </tr>\n",
       "    <tr>\n",
       "      <th>2018-07-30</th>\n",
       "      <td>604</td>\n",
       "      <td>51.705165</td>\n",
       "      <td>572.609944</td>\n",
       "      <td>-469.199614</td>\n",
       "      <td>1.030130</td>\n",
       "      <td>192.171.117.210</td>\n",
       "    </tr>\n",
       "    <tr>\n",
       "      <th>2018-09-12</th>\n",
       "      <td>631</td>\n",
       "      <td>58.364258</td>\n",
       "      <td>617.553763</td>\n",
       "      <td>-500.825247</td>\n",
       "      <td>1.012023</td>\n",
       "      <td>192.171.117.210</td>\n",
       "    </tr>\n",
       "    <tr>\n",
       "      <th>2019-03-01</th>\n",
       "      <td>233</td>\n",
       "      <td>27.234868</td>\n",
       "      <td>227.706199</td>\n",
       "      <td>-173.236463</td>\n",
       "      <td>1.013203</td>\n",
       "      <td>192.171.117.210</td>\n",
       "    </tr>\n",
       "    <tr>\n",
       "      <th>...</th>\n",
       "      <td>...</td>\n",
       "      <td>...</td>\n",
       "      <td>...</td>\n",
       "      <td>...</td>\n",
       "      <td>...</td>\n",
       "      <td>...</td>\n",
       "    </tr>\n",
       "    <tr>\n",
       "      <th>2021-03-30</th>\n",
       "      <td>10</td>\n",
       "      <td>0.698430</td>\n",
       "      <td>9.762768</td>\n",
       "      <td>-8.365908</td>\n",
       "      <td>1.013086</td>\n",
       "      <td>70.40.28.157</td>\n",
       "    </tr>\n",
       "    <tr>\n",
       "      <th>2021-04-07</th>\n",
       "      <td>11</td>\n",
       "      <td>0.773213</td>\n",
       "      <td>10.725035</td>\n",
       "      <td>-9.178608</td>\n",
       "      <td>1.013815</td>\n",
       "      <td>45.27.14.73</td>\n",
       "    </tr>\n",
       "    <tr>\n",
       "      <th>2021-04-19</th>\n",
       "      <td>27</td>\n",
       "      <td>1.792736</td>\n",
       "      <td>25.733026</td>\n",
       "      <td>-22.147553</td>\n",
       "      <td>1.026461</td>\n",
       "      <td>95.181.238.19</td>\n",
       "    </tr>\n",
       "    <tr>\n",
       "      <th>2021-04-15</th>\n",
       "      <td>20</td>\n",
       "      <td>1.737359</td>\n",
       "      <td>19.679042</td>\n",
       "      <td>-16.204323</td>\n",
       "      <td>1.008944</td>\n",
       "      <td>70.123.252.212</td>\n",
       "    </tr>\n",
       "    <tr>\n",
       "      <th>2021-04-14</th>\n",
       "      <td>4</td>\n",
       "      <td>0.293149</td>\n",
       "      <td>3.979594</td>\n",
       "      <td>-3.393295</td>\n",
       "      <td>1.002768</td>\n",
       "      <td>172.58.102.151</td>\n",
       "    </tr>\n",
       "  </tbody>\n",
       "</table>\n",
       "<p>1806 rows × 6 columns</p>\n",
       "</div>"
      ],
      "text/plain": [
       "            pages_one_ip    midband          ub          lb     pct_b  \\\n",
       "date                                                                    \n",
       "2018-03-14             9   0.627485    8.702895   -7.447925  1.018396   \n",
       "2018-05-06            10   0.727782    9.678436   -8.222872  1.017963   \n",
       "2018-07-30           604  51.705165  572.609944 -469.199614  1.030130   \n",
       "2018-09-12           631  58.364258  617.553763 -500.825247  1.012023   \n",
       "2019-03-01           233  27.234868  227.706199 -173.236463  1.013203   \n",
       "...                  ...        ...         ...         ...       ...   \n",
       "2021-03-30            10   0.698430    9.762768   -8.365908  1.013086   \n",
       "2021-04-07            11   0.773213   10.725035   -9.178608  1.013815   \n",
       "2021-04-19            27   1.792736   25.733026  -22.147553  1.026461   \n",
       "2021-04-15            20   1.737359   19.679042  -16.204323  1.008944   \n",
       "2021-04-14             4   0.293149    3.979594   -3.393295  1.002768   \n",
       "\n",
       "                         ip  \n",
       "date                         \n",
       "2018-03-14    71.137.146.71  \n",
       "2018-05-06    71.137.146.71  \n",
       "2018-07-30  192.171.117.210  \n",
       "2018-09-12  192.171.117.210  \n",
       "2019-03-01  192.171.117.210  \n",
       "...                     ...  \n",
       "2021-03-30     70.40.28.157  \n",
       "2021-04-07      45.27.14.73  \n",
       "2021-04-19    95.181.238.19  \n",
       "2021-04-15   70.123.252.212  \n",
       "2021-04-14   172.58.102.151  \n",
       "\n",
       "[1806 rows x 6 columns]"
      ]
     },
     "execution_count": 40,
     "metadata": {},
     "output_type": "execute_result"
    }
   ],
   "source": [
    "anomalies"
   ]
  },
  {
   "cell_type": "code",
   "execution_count": 41,
   "id": "25ffcc3f",
   "metadata": {},
   "outputs": [
    {
     "data": {
      "text/html": [
       "<div>\n",
       "<style scoped>\n",
       "    .dataframe tbody tr th:only-of-type {\n",
       "        vertical-align: middle;\n",
       "    }\n",
       "\n",
       "    .dataframe tbody tr th {\n",
       "        vertical-align: top;\n",
       "    }\n",
       "\n",
       "    .dataframe thead th {\n",
       "        text-align: right;\n",
       "    }\n",
       "</style>\n",
       "<table border=\"1\" class=\"dataframe\">\n",
       "  <thead>\n",
       "    <tr style=\"text-align: right;\">\n",
       "      <th></th>\n",
       "      <th>pages_one_ip</th>\n",
       "      <th>midband</th>\n",
       "      <th>ub</th>\n",
       "      <th>lb</th>\n",
       "      <th>pct_b</th>\n",
       "      <th>ip</th>\n",
       "    </tr>\n",
       "    <tr>\n",
       "      <th>date</th>\n",
       "      <th></th>\n",
       "      <th></th>\n",
       "      <th></th>\n",
       "      <th></th>\n",
       "      <th></th>\n",
       "      <th></th>\n",
       "    </tr>\n",
       "  </thead>\n",
       "  <tbody>\n",
       "    <tr>\n",
       "      <th>2019-12-13</th>\n",
       "      <td>6</td>\n",
       "      <td>0.387097</td>\n",
       "      <td>5.634365</td>\n",
       "      <td>-4.860171</td>\n",
       "      <td>1.034841</td>\n",
       "      <td>71.41.243.19</td>\n",
       "    </tr>\n",
       "    <tr>\n",
       "      <th>2020-07-01</th>\n",
       "      <td>5</td>\n",
       "      <td>0.322581</td>\n",
       "      <td>4.695304</td>\n",
       "      <td>-4.050142</td>\n",
       "      <td>1.034841</td>\n",
       "      <td>99.158.247.126</td>\n",
       "    </tr>\n",
       "    <tr>\n",
       "      <th>2020-07-04</th>\n",
       "      <td>1</td>\n",
       "      <td>0.064516</td>\n",
       "      <td>0.939061</td>\n",
       "      <td>-0.810028</td>\n",
       "      <td>1.034841</td>\n",
       "      <td>172.56.7.58</td>\n",
       "    </tr>\n",
       "    <tr>\n",
       "      <th>2020-06-27</th>\n",
       "      <td>4</td>\n",
       "      <td>0.258065</td>\n",
       "      <td>3.756243</td>\n",
       "      <td>-3.240114</td>\n",
       "      <td>1.034841</td>\n",
       "      <td>172.56.6.112</td>\n",
       "    </tr>\n",
       "    <tr>\n",
       "      <th>2020-02-15</th>\n",
       "      <td>6</td>\n",
       "      <td>0.387097</td>\n",
       "      <td>5.634365</td>\n",
       "      <td>-4.860171</td>\n",
       "      <td>1.034841</td>\n",
       "      <td>172.58.102.174</td>\n",
       "    </tr>\n",
       "    <tr>\n",
       "      <th>...</th>\n",
       "      <td>...</td>\n",
       "      <td>...</td>\n",
       "      <td>...</td>\n",
       "      <td>...</td>\n",
       "      <td>...</td>\n",
       "      <td>...</td>\n",
       "    </tr>\n",
       "    <tr>\n",
       "      <th>2021-03-07</th>\n",
       "      <td>25</td>\n",
       "      <td>2.200179</td>\n",
       "      <td>24.991306</td>\n",
       "      <td>-20.590948</td>\n",
       "      <td>1.000191</td>\n",
       "      <td>72.179.177.9</td>\n",
       "    </tr>\n",
       "    <tr>\n",
       "      <th>2020-02-18</th>\n",
       "      <td>5</td>\n",
       "      <td>0.367804</td>\n",
       "      <td>4.998938</td>\n",
       "      <td>-4.263330</td>\n",
       "      <td>1.000115</td>\n",
       "      <td>70.121.215.53</td>\n",
       "    </tr>\n",
       "    <tr>\n",
       "      <th>2018-03-09</th>\n",
       "      <td>9</td>\n",
       "      <td>0.666319</td>\n",
       "      <td>8.998529</td>\n",
       "      <td>-7.665891</td>\n",
       "      <td>1.000088</td>\n",
       "      <td>108.239.187.113</td>\n",
       "    </tr>\n",
       "    <tr>\n",
       "      <th>2021-01-15</th>\n",
       "      <td>14</td>\n",
       "      <td>1.129371</td>\n",
       "      <td>13.998347</td>\n",
       "      <td>-11.739604</td>\n",
       "      <td>1.000064</td>\n",
       "      <td>69.154.52.98</td>\n",
       "    </tr>\n",
       "    <tr>\n",
       "      <th>2019-07-21</th>\n",
       "      <td>37</td>\n",
       "      <td>3.634508</td>\n",
       "      <td>36.999705</td>\n",
       "      <td>-29.730689</td>\n",
       "      <td>1.000004</td>\n",
       "      <td>70.121.182.158</td>\n",
       "    </tr>\n",
       "  </tbody>\n",
       "</table>\n",
       "<p>1806 rows × 6 columns</p>\n",
       "</div>"
      ],
      "text/plain": [
       "            pages_one_ip   midband         ub         lb     pct_b  \\\n",
       "date                                                                 \n",
       "2019-12-13             6  0.387097   5.634365  -4.860171  1.034841   \n",
       "2020-07-01             5  0.322581   4.695304  -4.050142  1.034841   \n",
       "2020-07-04             1  0.064516   0.939061  -0.810028  1.034841   \n",
       "2020-06-27             4  0.258065   3.756243  -3.240114  1.034841   \n",
       "2020-02-15             6  0.387097   5.634365  -4.860171  1.034841   \n",
       "...                  ...       ...        ...        ...       ...   \n",
       "2021-03-07            25  2.200179  24.991306 -20.590948  1.000191   \n",
       "2020-02-18             5  0.367804   4.998938  -4.263330  1.000115   \n",
       "2018-03-09             9  0.666319   8.998529  -7.665891  1.000088   \n",
       "2021-01-15            14  1.129371  13.998347 -11.739604  1.000064   \n",
       "2019-07-21            37  3.634508  36.999705 -29.730689  1.000004   \n",
       "\n",
       "                         ip  \n",
       "date                         \n",
       "2019-12-13     71.41.243.19  \n",
       "2020-07-01   99.158.247.126  \n",
       "2020-07-04      172.56.7.58  \n",
       "2020-06-27     172.56.6.112  \n",
       "2020-02-15   172.58.102.174  \n",
       "...                     ...  \n",
       "2021-03-07     72.179.177.9  \n",
       "2020-02-18    70.121.215.53  \n",
       "2018-03-09  108.239.187.113  \n",
       "2021-01-15     69.154.52.98  \n",
       "2019-07-21   70.121.182.158  \n",
       "\n",
       "[1806 rows x 6 columns]"
      ]
     },
     "execution_count": 41,
     "metadata": {},
     "output_type": "execute_result"
    }
   ],
   "source": [
    "# sort by %b?\n",
    "anomalies.sort_values(by='pct_b', ascending=False)"
   ]
  },
  {
   "cell_type": "code",
   "execution_count": 42,
   "id": "5eaae4cc",
   "metadata": {},
   "outputs": [
    {
     "data": {
      "text/html": [
       "<div>\n",
       "<style scoped>\n",
       "    .dataframe tbody tr th:only-of-type {\n",
       "        vertical-align: middle;\n",
       "    }\n",
       "\n",
       "    .dataframe tbody tr th {\n",
       "        vertical-align: top;\n",
       "    }\n",
       "\n",
       "    .dataframe thead th {\n",
       "        text-align: right;\n",
       "    }\n",
       "</style>\n",
       "<table border=\"1\" class=\"dataframe\">\n",
       "  <thead>\n",
       "    <tr style=\"text-align: right;\">\n",
       "      <th></th>\n",
       "      <th>pages_one_ip</th>\n",
       "      <th>midband</th>\n",
       "      <th>ub</th>\n",
       "      <th>lb</th>\n",
       "      <th>pct_b</th>\n",
       "      <th>ip</th>\n",
       "    </tr>\n",
       "    <tr>\n",
       "      <th>date</th>\n",
       "      <th></th>\n",
       "      <th></th>\n",
       "      <th></th>\n",
       "      <th></th>\n",
       "      <th></th>\n",
       "      <th></th>\n",
       "    </tr>\n",
       "  </thead>\n",
       "  <tbody>\n",
       "    <tr>\n",
       "      <th>2020-02-11</th>\n",
       "      <td>793</td>\n",
       "      <td>51.161290</td>\n",
       "      <td>744.675179</td>\n",
       "      <td>-642.352599</td>\n",
       "      <td>1.034841</td>\n",
       "      <td>72.128.136.219</td>\n",
       "    </tr>\n",
       "    <tr>\n",
       "      <th>2018-09-12</th>\n",
       "      <td>631</td>\n",
       "      <td>58.364258</td>\n",
       "      <td>617.553763</td>\n",
       "      <td>-500.825247</td>\n",
       "      <td>1.012023</td>\n",
       "      <td>192.171.117.210</td>\n",
       "    </tr>\n",
       "    <tr>\n",
       "      <th>2018-07-30</th>\n",
       "      <td>604</td>\n",
       "      <td>51.705165</td>\n",
       "      <td>572.609944</td>\n",
       "      <td>-469.199614</td>\n",
       "      <td>1.030130</td>\n",
       "      <td>192.171.117.210</td>\n",
       "    </tr>\n",
       "    <tr>\n",
       "      <th>2019-03-01</th>\n",
       "      <td>233</td>\n",
       "      <td>27.234868</td>\n",
       "      <td>227.706199</td>\n",
       "      <td>-173.236463</td>\n",
       "      <td>1.013203</td>\n",
       "      <td>192.171.117.210</td>\n",
       "    </tr>\n",
       "    <tr>\n",
       "      <th>2018-06-02</th>\n",
       "      <td>198</td>\n",
       "      <td>13.983080</td>\n",
       "      <td>186.442172</td>\n",
       "      <td>-158.476011</td>\n",
       "      <td>1.033509</td>\n",
       "      <td>108.65.244.91</td>\n",
       "    </tr>\n",
       "    <tr>\n",
       "      <th>...</th>\n",
       "      <td>...</td>\n",
       "      <td>...</td>\n",
       "      <td>...</td>\n",
       "      <td>...</td>\n",
       "      <td>...</td>\n",
       "      <td>...</td>\n",
       "    </tr>\n",
       "    <tr>\n",
       "      <th>2019-05-06</th>\n",
       "      <td>1</td>\n",
       "      <td>0.064638</td>\n",
       "      <td>0.939976</td>\n",
       "      <td>-0.810701</td>\n",
       "      <td>1.034286</td>\n",
       "      <td>99.203.27.9</td>\n",
       "    </tr>\n",
       "    <tr>\n",
       "      <th>2019-11-03</th>\n",
       "      <td>1</td>\n",
       "      <td>0.065649</td>\n",
       "      <td>0.955412</td>\n",
       "      <td>-0.824114</td>\n",
       "      <td>1.025056</td>\n",
       "      <td>129.115.2.245</td>\n",
       "    </tr>\n",
       "    <tr>\n",
       "      <th>2019-07-25</th>\n",
       "      <td>1</td>\n",
       "      <td>0.064516</td>\n",
       "      <td>0.939061</td>\n",
       "      <td>-0.810028</td>\n",
       "      <td>1.034841</td>\n",
       "      <td>192.67.54.12</td>\n",
       "    </tr>\n",
       "    <tr>\n",
       "      <th>2020-02-24</th>\n",
       "      <td>1</td>\n",
       "      <td>0.064516</td>\n",
       "      <td>0.939061</td>\n",
       "      <td>-0.810028</td>\n",
       "      <td>1.034841</td>\n",
       "      <td>107.77.218.42</td>\n",
       "    </tr>\n",
       "    <tr>\n",
       "      <th>2019-02-25</th>\n",
       "      <td>1</td>\n",
       "      <td>0.064539</td>\n",
       "      <td>0.939474</td>\n",
       "      <td>-0.810397</td>\n",
       "      <td>1.034589</td>\n",
       "      <td>162.249.35.10</td>\n",
       "    </tr>\n",
       "  </tbody>\n",
       "</table>\n",
       "<p>1806 rows × 6 columns</p>\n",
       "</div>"
      ],
      "text/plain": [
       "            pages_one_ip    midband          ub          lb     pct_b  \\\n",
       "date                                                                    \n",
       "2020-02-11           793  51.161290  744.675179 -642.352599  1.034841   \n",
       "2018-09-12           631  58.364258  617.553763 -500.825247  1.012023   \n",
       "2018-07-30           604  51.705165  572.609944 -469.199614  1.030130   \n",
       "2019-03-01           233  27.234868  227.706199 -173.236463  1.013203   \n",
       "2018-06-02           198  13.983080  186.442172 -158.476011  1.033509   \n",
       "...                  ...        ...         ...         ...       ...   \n",
       "2019-05-06             1   0.064638    0.939976   -0.810701  1.034286   \n",
       "2019-11-03             1   0.065649    0.955412   -0.824114  1.025056   \n",
       "2019-07-25             1   0.064516    0.939061   -0.810028  1.034841   \n",
       "2020-02-24             1   0.064516    0.939061   -0.810028  1.034841   \n",
       "2019-02-25             1   0.064539    0.939474   -0.810397  1.034589   \n",
       "\n",
       "                         ip  \n",
       "date                         \n",
       "2020-02-11   72.128.136.219  \n",
       "2018-09-12  192.171.117.210  \n",
       "2018-07-30  192.171.117.210  \n",
       "2019-03-01  192.171.117.210  \n",
       "2018-06-02    108.65.244.91  \n",
       "...                     ...  \n",
       "2019-05-06      99.203.27.9  \n",
       "2019-11-03    129.115.2.245  \n",
       "2019-07-25     192.67.54.12  \n",
       "2020-02-24    107.77.218.42  \n",
       "2019-02-25    162.249.35.10  \n",
       "\n",
       "[1806 rows x 6 columns]"
      ]
     },
     "execution_count": 42,
     "metadata": {},
     "output_type": "execute_result"
    }
   ],
   "source": [
    "anomalies.sort_values(by='pages_one_ip', ascending=False)"
   ]
  },
  {
   "cell_type": "code",
   "execution_count": 44,
   "id": "d4350bc8",
   "metadata": {},
   "outputs": [],
   "source": [
    "df_793_219 = one_ip_df_prep(df, '72.128.136.219')"
   ]
  },
  {
   "cell_type": "code",
   "execution_count": 45,
   "id": "2f491a60",
   "metadata": {
    "scrolled": false
   },
   "outputs": [
    {
     "data": {
      "text/plain": [
       "<AxesSubplot:xlabel='date'>"
      ]
     },
     "execution_count": 45,
     "metadata": {},
     "output_type": "execute_result"
    },
    {
     "data": {
      "image/png": "[encoded data removed]",
      "text/plain": [
       "<Figure size 1152x576 with 1 Axes>"
      ]
     },
     "metadata": {
      "needs_background": "light"
     },
     "output_type": "display_data"
    }
   ],
   "source": [
    "df_793_219.plot(figsize=(16,8))"
   ]
  },
  {
   "cell_type": "markdown",
   "id": "bf71f1c0",
   "metadata": {},
   "source": [
    "Do it again for users: "
   ]
  },
  {
   "cell_type": "code",
   "execution_count": 46,
   "id": "fca92b93",
   "metadata": {},
   "outputs": [],
   "source": [
    "def acquire_logs(user=env.user, password=env.password, host=env.host):\n",
    "    '''\n",
    "    This function queries the Codeup MySQL curriculum_logs database and returns a dataframe\n",
    "    '''\n",
    "    url = f'mysql+pymysql://{env.user}:{env.password}@{env.host}/curriculum_logs'\n",
    "    query = '''\n",
    "    SELECT date,\n",
    "           ip,\n",
    "           path as endpoint,\n",
    "           user_id,\n",
    "           cohort_id,\n",
    "           ip as source_ip\n",
    "    FROM logs;\n",
    "    '''\n",
    "    df = pd.read_sql(query, url)\n",
    "    return df\n",
    "\n",
    "def one_user_df_prep(df, user):\n",
    "    '''\n",
    "    This function returns a dataframe consisting of data for only a single defined user\n",
    "    '''\n",
    "    df = df[df.user_id == user]\n",
    "    df.date = pd.to_datetime(df.date)\n",
    "    df = df.set_index(df.date)\n",
    "    pages_one_user = df['endpoint'].resample('d').count()\n",
    "    return pages_one_user\n",
    "\n",
    "def compute_pct_b(pages_one_user, span, weight, user):\n",
    "    '''\n",
    "    This function adds the %b of a bollinger band range for the page views of a single user's log activity\n",
    "    '''\n",
    "    # Calculate upper and lower bollinger band\n",
    "    midband = pages_one_user.ewm(span=span).mean()\n",
    "    stdev = pages_one_user.ewm(span=span).std()\n",
    "    ub = midband + stdev*weight\n",
    "    lb = midband - stdev*weight\n",
    "    \n",
    "    # Add upper and lower band values to dataframe\n",
    "    bb = pd.concat([ub, lb], axis=1)\n",
    "    \n",
    "    # Combine all data into a single dataframe\n",
    "    my_df = pd.concat([pages_one_user, midband, bb], axis=1)\n",
    "    my_df.columns = ['pages_one_user', 'midband', 'ub', 'lb']\n",
    "    \n",
    "    # Calculate percent b and relevant user id to dataframe\n",
    "    my_df['pct_b'] = (my_df['pages_one_user'] - my_df['lb'])/(my_df['ub'] - my_df['lb'])\n",
    "    my_df['user_id'] = user\n",
    "    return my_df\n",
    "\n",
    "def plot_bands(my_df, user):\n",
    "    '''\n",
    "    This function plots the bolliger bands of the page views for a single user\n",
    "    '''\n",
    "    fig, ax = plt.subplots(figsize=(12,8))\n",
    "    ax.plot(my_df.index, my_df.pages_one_user, label='Number of Pages, User: '+str(user))\n",
    "    ax.plot(my_df.index, my_df.midband, label = 'EMA/midband')\n",
    "    ax.plot(my_df.index, my_df.ub, label = 'Upper Band')\n",
    "    ax.plot(my_df.index, my_df.lb, label = 'Lower Band')\n",
    "    ax.legend(loc='best')\n",
    "    ax.set_ylabel('Number of Pages')\n",
    "    plt.show()\n",
    "\n",
    "def find_anomalies(df, user, span, weight, plot=False):\n",
    "    '''\n",
    "    This function returns the records where a user's daily activity exceeded the upper limit of a bollinger band range\n",
    "    '''\n",
    "    \n",
    "    # Reduce dataframe to represent a single user\n",
    "    pages_one_user = one_user_df_prep(df, user)\n",
    "    \n",
    "    # Add bollinger band data to dataframe\n",
    "    my_df = compute_pct_b(pages_one_user, span, weight, user)\n",
    "    \n",
    "    # Plot data if requested (plot=True)\n",
    "    if plot:\n",
    "        plot_bands(my_df, user)\n",
    "    \n",
    "    # Return only records that sit outside of bollinger band upper limit\n",
    "    return my_df[my_df.pct_b>1]"
   ]
  },
  {
   "cell_type": "code",
   "execution_count": 48,
   "id": "d88325eb",
   "metadata": {},
   "outputs": [],
   "source": [
    "# for 1 user\n",
    "user = 1\n",
    "span = 30\n",
    "weight = 6\n",
    "user_df = find_anomalies(df, user, span, weight)\n",
    "\n",
    "anomalies = pd.DataFrame()\n",
    "user_df = find_anomalies(df, user, span, weight)\n",
    "anomalies = pd.concat([anomalies, user_df], axis=0)"
   ]
  },
  {
   "cell_type": "code",
   "execution_count": 49,
   "id": "ed12db27",
   "metadata": {},
   "outputs": [],
   "source": [
    "# loop for all users\n",
    "span = 30\n",
    "weight = 3.5\n",
    "\n",
    "anomalies = pd.DataFrame()\n",
    "for u in list(df.user_id.unique()):\n",
    "    user_df = find_anomalies(df, u, span, weight)\n",
    "    anomalies = pd.concat([anomalies, user_df], axis=0)"
   ]
  },
  {
   "cell_type": "code",
   "execution_count": 50,
   "id": "80f8ab19",
   "metadata": {},
   "outputs": [
    {
     "data": {
      "text/html": [
       "<div>\n",
       "<style scoped>\n",
       "    .dataframe tbody tr th:only-of-type {\n",
       "        vertical-align: middle;\n",
       "    }\n",
       "\n",
       "    .dataframe tbody tr th {\n",
       "        vertical-align: top;\n",
       "    }\n",
       "\n",
       "    .dataframe thead th {\n",
       "        text-align: right;\n",
       "    }\n",
       "</style>\n",
       "<table border=\"1\" class=\"dataframe\">\n",
       "  <thead>\n",
       "    <tr style=\"text-align: right;\">\n",
       "      <th></th>\n",
       "      <th>pages_one_user</th>\n",
       "      <th>midband</th>\n",
       "      <th>ub</th>\n",
       "      <th>lb</th>\n",
       "      <th>pct_b</th>\n",
       "      <th>user_id</th>\n",
       "    </tr>\n",
       "    <tr>\n",
       "      <th>date</th>\n",
       "      <th></th>\n",
       "      <th></th>\n",
       "      <th></th>\n",
       "      <th></th>\n",
       "      <th></th>\n",
       "      <th></th>\n",
       "    </tr>\n",
       "  </thead>\n",
       "  <tbody>\n",
       "    <tr>\n",
       "      <th>2019-01-29</th>\n",
       "      <td>44</td>\n",
       "      <td>3.623334</td>\n",
       "      <td>42.081344</td>\n",
       "      <td>-34.834677</td>\n",
       "      <td>1.024945</td>\n",
       "      <td>1</td>\n",
       "    </tr>\n",
       "    <tr>\n",
       "      <th>2019-07-08</th>\n",
       "      <td>101</td>\n",
       "      <td>8.248768</td>\n",
       "      <td>96.507472</td>\n",
       "      <td>-80.009936</td>\n",
       "      <td>1.025451</td>\n",
       "      <td>1</td>\n",
       "    </tr>\n",
       "    <tr>\n",
       "      <th>2018-10-15</th>\n",
       "      <td>9</td>\n",
       "      <td>0.581421</td>\n",
       "      <td>8.457414</td>\n",
       "      <td>-7.294571</td>\n",
       "      <td>1.034446</td>\n",
       "      <td>3</td>\n",
       "    </tr>\n",
       "    <tr>\n",
       "      <th>2019-01-09</th>\n",
       "      <td>4</td>\n",
       "      <td>0.262470</td>\n",
       "      <td>3.802115</td>\n",
       "      <td>-3.277175</td>\n",
       "      <td>1.027953</td>\n",
       "      <td>3</td>\n",
       "    </tr>\n",
       "    <tr>\n",
       "      <th>2019-04-06</th>\n",
       "      <td>2</td>\n",
       "      <td>0.129825</td>\n",
       "      <td>1.889712</td>\n",
       "      <td>-1.630061</td>\n",
       "      <td>1.031334</td>\n",
       "      <td>3</td>\n",
       "    </tr>\n",
       "    <tr>\n",
       "      <th>...</th>\n",
       "      <td>...</td>\n",
       "      <td>...</td>\n",
       "      <td>...</td>\n",
       "      <td>...</td>\n",
       "      <td>...</td>\n",
       "      <td>...</td>\n",
       "    </tr>\n",
       "    <tr>\n",
       "      <th>2021-01-24</th>\n",
       "      <td>7</td>\n",
       "      <td>0.574393</td>\n",
       "      <td>6.857226</td>\n",
       "      <td>-5.708440</td>\n",
       "      <td>1.011362</td>\n",
       "      <td>817</td>\n",
       "    </tr>\n",
       "    <tr>\n",
       "      <th>2021-03-25</th>\n",
       "      <td>59</td>\n",
       "      <td>6.824556</td>\n",
       "      <td>58.415342</td>\n",
       "      <td>-44.766230</td>\n",
       "      <td>1.005666</td>\n",
       "      <td>843</td>\n",
       "    </tr>\n",
       "    <tr>\n",
       "      <th>2021-02-23</th>\n",
       "      <td>67</td>\n",
       "      <td>8.229409</td>\n",
       "      <td>66.322904</td>\n",
       "      <td>-49.864086</td>\n",
       "      <td>1.005828</td>\n",
       "      <td>851</td>\n",
       "    </tr>\n",
       "    <tr>\n",
       "      <th>2021-04-06</th>\n",
       "      <td>19</td>\n",
       "      <td>1.348943</td>\n",
       "      <td>18.056879</td>\n",
       "      <td>-15.358994</td>\n",
       "      <td>1.028224</td>\n",
       "      <td>854</td>\n",
       "    </tr>\n",
       "    <tr>\n",
       "      <th>2021-03-25</th>\n",
       "      <td>15</td>\n",
       "      <td>1.021925</td>\n",
       "      <td>14.239722</td>\n",
       "      <td>-12.195871</td>\n",
       "      <td>1.028760</td>\n",
       "      <td>859</td>\n",
       "    </tr>\n",
       "  </tbody>\n",
       "</table>\n",
       "<p>1060 rows × 6 columns</p>\n",
       "</div>"
      ],
      "text/plain": [
       "            pages_one_user   midband         ub         lb     pct_b  user_id\n",
       "date                                                                         \n",
       "2019-01-29              44  3.623334  42.081344 -34.834677  1.024945        1\n",
       "2019-07-08             101  8.248768  96.507472 -80.009936  1.025451        1\n",
       "2018-10-15               9  0.581421   8.457414  -7.294571  1.034446        3\n",
       "2019-01-09               4  0.262470   3.802115  -3.277175  1.027953        3\n",
       "2019-04-06               2  0.129825   1.889712  -1.630061  1.031334        3\n",
       "...                    ...       ...        ...        ...       ...      ...\n",
       "2021-01-24               7  0.574393   6.857226  -5.708440  1.011362      817\n",
       "2021-03-25              59  6.824556  58.415342 -44.766230  1.005666      843\n",
       "2021-02-23              67  8.229409  66.322904 -49.864086  1.005828      851\n",
       "2021-04-06              19  1.348943  18.056879 -15.358994  1.028224      854\n",
       "2021-03-25              15  1.021925  14.239722 -12.195871  1.028760      859\n",
       "\n",
       "[1060 rows x 6 columns]"
      ]
     },
     "execution_count": 50,
     "metadata": {},
     "output_type": "execute_result"
    }
   ],
   "source": [
    "anomalies"
   ]
  },
  {
   "cell_type": "code",
   "execution_count": 52,
   "id": "293c458b",
   "metadata": {},
   "outputs": [
    {
     "data": {
      "text/html": [
       "<div>\n",
       "<style scoped>\n",
       "    .dataframe tbody tr th:only-of-type {\n",
       "        vertical-align: middle;\n",
       "    }\n",
       "\n",
       "    .dataframe tbody tr th {\n",
       "        vertical-align: top;\n",
       "    }\n",
       "\n",
       "    .dataframe thead th {\n",
       "        text-align: right;\n",
       "    }\n",
       "</style>\n",
       "<table border=\"1\" class=\"dataframe\">\n",
       "  <thead>\n",
       "    <tr style=\"text-align: right;\">\n",
       "      <th></th>\n",
       "      <th>pages_one_user</th>\n",
       "      <th>midband</th>\n",
       "      <th>ub</th>\n",
       "      <th>lb</th>\n",
       "      <th>pct_b</th>\n",
       "      <th>user_id</th>\n",
       "    </tr>\n",
       "    <tr>\n",
       "      <th>date</th>\n",
       "      <th></th>\n",
       "      <th></th>\n",
       "      <th></th>\n",
       "      <th></th>\n",
       "      <th></th>\n",
       "      <th></th>\n",
       "    </tr>\n",
       "  </thead>\n",
       "  <tbody>\n",
       "    <tr>\n",
       "      <th>2020-12-24</th>\n",
       "      <td>1</td>\n",
       "      <td>0.064516</td>\n",
       "      <td>0.939061</td>\n",
       "      <td>-0.810028</td>\n",
       "      <td>1.034841</td>\n",
       "      <td>232</td>\n",
       "    </tr>\n",
       "    <tr>\n",
       "      <th>2020-12-16</th>\n",
       "      <td>12</td>\n",
       "      <td>0.774194</td>\n",
       "      <td>11.268729</td>\n",
       "      <td>-9.720342</td>\n",
       "      <td>1.034841</td>\n",
       "      <td>156</td>\n",
       "    </tr>\n",
       "    <tr>\n",
       "      <th>2020-09-13</th>\n",
       "      <td>4</td>\n",
       "      <td>0.258065</td>\n",
       "      <td>3.756243</td>\n",
       "      <td>-3.240114</td>\n",
       "      <td>1.034841</td>\n",
       "      <td>210</td>\n",
       "    </tr>\n",
       "    <tr>\n",
       "      <th>2020-05-12</th>\n",
       "      <td>16</td>\n",
       "      <td>1.032258</td>\n",
       "      <td>15.024972</td>\n",
       "      <td>-12.960456</td>\n",
       "      <td>1.034841</td>\n",
       "      <td>93</td>\n",
       "    </tr>\n",
       "    <tr>\n",
       "      <th>2019-09-12</th>\n",
       "      <td>16</td>\n",
       "      <td>1.032258</td>\n",
       "      <td>15.024972</td>\n",
       "      <td>-12.960456</td>\n",
       "      <td>1.034841</td>\n",
       "      <td>94</td>\n",
       "    </tr>\n",
       "    <tr>\n",
       "      <th>...</th>\n",
       "      <td>...</td>\n",
       "      <td>...</td>\n",
       "      <td>...</td>\n",
       "      <td>...</td>\n",
       "      <td>...</td>\n",
       "      <td>...</td>\n",
       "    </tr>\n",
       "    <tr>\n",
       "      <th>2021-03-23</th>\n",
       "      <td>146</td>\n",
       "      <td>26.440411</td>\n",
       "      <td>145.913292</td>\n",
       "      <td>-93.032470</td>\n",
       "      <td>1.000363</td>\n",
       "      <td>581</td>\n",
       "    </tr>\n",
       "    <tr>\n",
       "      <th>2020-09-17</th>\n",
       "      <td>24</td>\n",
       "      <td>2.103030</td>\n",
       "      <td>23.984360</td>\n",
       "      <td>-19.778300</td>\n",
       "      <td>1.000357</td>\n",
       "      <td>560</td>\n",
       "    </tr>\n",
       "    <tr>\n",
       "      <th>2020-10-27</th>\n",
       "      <td>17</td>\n",
       "      <td>1.232625</td>\n",
       "      <td>16.991469</td>\n",
       "      <td>-14.526220</td>\n",
       "      <td>1.000271</td>\n",
       "      <td>613</td>\n",
       "    </tr>\n",
       "    <tr>\n",
       "      <th>2019-02-25</th>\n",
       "      <td>30</td>\n",
       "      <td>2.550189</td>\n",
       "      <td>29.987974</td>\n",
       "      <td>-24.887596</td>\n",
       "      <td>1.000219</td>\n",
       "      <td>264</td>\n",
       "    </tr>\n",
       "    <tr>\n",
       "      <th>2019-02-21</th>\n",
       "      <td>18</td>\n",
       "      <td>1.715852</td>\n",
       "      <td>17.999664</td>\n",
       "      <td>-14.567959</td>\n",
       "      <td>1.000010</td>\n",
       "      <td>265</td>\n",
       "    </tr>\n",
       "  </tbody>\n",
       "</table>\n",
       "<p>1060 rows × 6 columns</p>\n",
       "</div>"
      ],
      "text/plain": [
       "            pages_one_user    midband          ub         lb     pct_b  \\\n",
       "date                                                                     \n",
       "2020-12-24               1   0.064516    0.939061  -0.810028  1.034841   \n",
       "2020-12-16              12   0.774194   11.268729  -9.720342  1.034841   \n",
       "2020-09-13               4   0.258065    3.756243  -3.240114  1.034841   \n",
       "2020-05-12              16   1.032258   15.024972 -12.960456  1.034841   \n",
       "2019-09-12              16   1.032258   15.024972 -12.960456  1.034841   \n",
       "...                    ...        ...         ...        ...       ...   \n",
       "2021-03-23             146  26.440411  145.913292 -93.032470  1.000363   \n",
       "2020-09-17              24   2.103030   23.984360 -19.778300  1.000357   \n",
       "2020-10-27              17   1.232625   16.991469 -14.526220  1.000271   \n",
       "2019-02-25              30   2.550189   29.987974 -24.887596  1.000219   \n",
       "2019-02-21              18   1.715852   17.999664 -14.567959  1.000010   \n",
       "\n",
       "            user_id  \n",
       "date                 \n",
       "2020-12-24      232  \n",
       "2020-12-16      156  \n",
       "2020-09-13      210  \n",
       "2020-05-12       93  \n",
       "2019-09-12       94  \n",
       "...             ...  \n",
       "2021-03-23      581  \n",
       "2020-09-17      560  \n",
       "2020-10-27      613  \n",
       "2019-02-25      264  \n",
       "2019-02-21      265  \n",
       "\n",
       "[1060 rows x 6 columns]"
      ]
     },
     "execution_count": 52,
     "metadata": {},
     "output_type": "execute_result"
    }
   ],
   "source": [
    "# sort by %b\n",
    "anomalies.sort_values(by='pct_b', ascending=False)"
   ]
  },
  {
   "cell_type": "code",
   "execution_count": 53,
   "id": "2c7789d5",
   "metadata": {},
   "outputs": [
    {
     "data": {
      "text/html": [
       "<div>\n",
       "<style scoped>\n",
       "    .dataframe tbody tr th:only-of-type {\n",
       "        vertical-align: middle;\n",
       "    }\n",
       "\n",
       "    .dataframe tbody tr th {\n",
       "        vertical-align: top;\n",
       "    }\n",
       "\n",
       "    .dataframe thead th {\n",
       "        text-align: right;\n",
       "    }\n",
       "</style>\n",
       "<table border=\"1\" class=\"dataframe\">\n",
       "  <thead>\n",
       "    <tr style=\"text-align: right;\">\n",
       "      <th></th>\n",
       "      <th>pages_one_user</th>\n",
       "      <th>midband</th>\n",
       "      <th>ub</th>\n",
       "      <th>lb</th>\n",
       "      <th>pct_b</th>\n",
       "      <th>user_id</th>\n",
       "    </tr>\n",
       "    <tr>\n",
       "      <th>date</th>\n",
       "      <th></th>\n",
       "      <th></th>\n",
       "      <th></th>\n",
       "      <th></th>\n",
       "      <th></th>\n",
       "      <th></th>\n",
       "    </tr>\n",
       "  </thead>\n",
       "  <tbody>\n",
       "    <tr>\n",
       "      <th>2019-03-03</th>\n",
       "      <td>272</td>\n",
       "      <td>24.721632</td>\n",
       "      <td>266.780128</td>\n",
       "      <td>-217.336864</td>\n",
       "      <td>1.010782</td>\n",
       "      <td>341</td>\n",
       "    </tr>\n",
       "    <tr>\n",
       "      <th>2018-06-02</th>\n",
       "      <td>198</td>\n",
       "      <td>16.484863</td>\n",
       "      <td>188.766965</td>\n",
       "      <td>-155.797239</td>\n",
       "      <td>1.026796</td>\n",
       "      <td>138</td>\n",
       "    </tr>\n",
       "    <tr>\n",
       "      <th>2019-12-19</th>\n",
       "      <td>192</td>\n",
       "      <td>19.601776</td>\n",
       "      <td>187.231096</td>\n",
       "      <td>-148.027544</td>\n",
       "      <td>1.014225</td>\n",
       "      <td>526</td>\n",
       "    </tr>\n",
       "    <tr>\n",
       "      <th>2020-10-16</th>\n",
       "      <td>179</td>\n",
       "      <td>20.158062</td>\n",
       "      <td>173.720239</td>\n",
       "      <td>-133.404115</td>\n",
       "      <td>1.017191</td>\n",
       "      <td>658</td>\n",
       "    </tr>\n",
       "    <tr>\n",
       "      <th>2020-06-05</th>\n",
       "      <td>165</td>\n",
       "      <td>20.035882</td>\n",
       "      <td>163.037501</td>\n",
       "      <td>-122.965736</td>\n",
       "      <td>1.006862</td>\n",
       "      <td>521</td>\n",
       "    </tr>\n",
       "    <tr>\n",
       "      <th>...</th>\n",
       "      <td>...</td>\n",
       "      <td>...</td>\n",
       "      <td>...</td>\n",
       "      <td>...</td>\n",
       "      <td>...</td>\n",
       "      <td>...</td>\n",
       "    </tr>\n",
       "    <tr>\n",
       "      <th>2019-05-21</th>\n",
       "      <td>1</td>\n",
       "      <td>0.064519</td>\n",
       "      <td>0.939144</td>\n",
       "      <td>-0.810106</td>\n",
       "      <td>1.034790</td>\n",
       "      <td>19</td>\n",
       "    </tr>\n",
       "    <tr>\n",
       "      <th>2020-11-21</th>\n",
       "      <td>1</td>\n",
       "      <td>0.065202</td>\n",
       "      <td>0.959398</td>\n",
       "      <td>-0.828994</td>\n",
       "      <td>1.022703</td>\n",
       "      <td>410</td>\n",
       "    </tr>\n",
       "    <tr>\n",
       "      <th>2019-03-20</th>\n",
       "      <td>1</td>\n",
       "      <td>0.064516</td>\n",
       "      <td>0.939061</td>\n",
       "      <td>-0.810029</td>\n",
       "      <td>1.034841</td>\n",
       "      <td>126</td>\n",
       "    </tr>\n",
       "    <tr>\n",
       "      <th>2020-04-06</th>\n",
       "      <td>1</td>\n",
       "      <td>0.065386</td>\n",
       "      <td>0.946436</td>\n",
       "      <td>-0.815664</td>\n",
       "      <td>1.030398</td>\n",
       "      <td>361</td>\n",
       "    </tr>\n",
       "    <tr>\n",
       "      <th>2020-03-16</th>\n",
       "      <td>1</td>\n",
       "      <td>0.064566</td>\n",
       "      <td>0.940141</td>\n",
       "      <td>-0.811010</td>\n",
       "      <td>1.034183</td>\n",
       "      <td>200</td>\n",
       "    </tr>\n",
       "  </tbody>\n",
       "</table>\n",
       "<p>1060 rows × 6 columns</p>\n",
       "</div>"
      ],
      "text/plain": [
       "            pages_one_user    midband          ub          lb     pct_b  \\\n",
       "date                                                                      \n",
       "2019-03-03             272  24.721632  266.780128 -217.336864  1.010782   \n",
       "2018-06-02             198  16.484863  188.766965 -155.797239  1.026796   \n",
       "2019-12-19             192  19.601776  187.231096 -148.027544  1.014225   \n",
       "2020-10-16             179  20.158062  173.720239 -133.404115  1.017191   \n",
       "2020-06-05             165  20.035882  163.037501 -122.965736  1.006862   \n",
       "...                    ...        ...         ...         ...       ...   \n",
       "2019-05-21               1   0.064519    0.939144   -0.810106  1.034790   \n",
       "2020-11-21               1   0.065202    0.959398   -0.828994  1.022703   \n",
       "2019-03-20               1   0.064516    0.939061   -0.810029  1.034841   \n",
       "2020-04-06               1   0.065386    0.946436   -0.815664  1.030398   \n",
       "2020-03-16               1   0.064566    0.940141   -0.811010  1.034183   \n",
       "\n",
       "            user_id  \n",
       "date                 \n",
       "2019-03-03      341  \n",
       "2018-06-02      138  \n",
       "2019-12-19      526  \n",
       "2020-10-16      658  \n",
       "2020-06-05      521  \n",
       "...             ...  \n",
       "2019-05-21       19  \n",
       "2020-11-21      410  \n",
       "2019-03-20      126  \n",
       "2020-04-06      361  \n",
       "2020-03-16      200  \n",
       "\n",
       "[1060 rows x 6 columns]"
      ]
     },
     "execution_count": 53,
     "metadata": {},
     "output_type": "execute_result"
    }
   ],
   "source": [
    "anomalies.sort_values(by='pages_one_user', ascending=False)"
   ]
  },
  {
   "cell_type": "markdown",
   "id": "ddb009d3",
   "metadata": {},
   "source": [
    "User 341 looked at 272 lessons on a single day. This is the same user we identified when looking at IP activity earlier. Let's plot this activity: "
   ]
  },
  {
   "cell_type": "code",
   "execution_count": 58,
   "id": "e45e1407",
   "metadata": {},
   "outputs": [],
   "source": [
    "df_341 = one_user_df_prep(df, 341)"
   ]
  },
  {
   "cell_type": "code",
   "execution_count": 60,
   "id": "b3121844",
   "metadata": {},
   "outputs": [
    {
     "data": {
      "image/png": "[encoded data removed]",
      "text/plain": [
       "<Figure size 1152x576 with 1 Axes>"
      ]
     },
     "metadata": {
      "needs_background": "light"
     },
     "output_type": "display_data"
    }
   ],
   "source": [
    "df_341.plot(figsize=(16,8));"
   ]
  },
  {
   "cell_type": "code",
   "execution_count": 61,
   "id": "60f63794",
   "metadata": {
    "scrolled": false
   },
   "outputs": [
    {
     "data": {
      "text/plain": [
       "88     12\n",
       "146    11\n",
       "80     11\n",
       "18     10\n",
       "291     9\n",
       "       ..\n",
       "526     1\n",
       "527     1\n",
       "528     1\n",
       "206     1\n",
       "859     1\n",
       "Name: user_id, Length: 413, dtype: int64"
      ]
     },
     "execution_count": 61,
     "metadata": {},
     "output_type": "execute_result"
    }
   ],
   "source": [
    "# show other users that show up the most often \n",
    "anomalies.user_id.value_counts()"
   ]
  },
  {
   "cell_type": "code",
   "execution_count": 62,
   "id": "eb4ebdc3",
   "metadata": {
    "scrolled": false
   },
   "outputs": [
    {
     "data": {
      "text/plain": [
       "<AxesSubplot:xlabel='date'>"
      ]
     },
     "execution_count": 62,
     "metadata": {},
     "output_type": "execute_result"
    },
    {
     "data": {
      "image/png": "[encoded data removed]",
      "text/plain": [
       "<Figure size 1152x576 with 1 Axes>"
      ]
     },
     "metadata": {
      "needs_background": "light"
     },
     "output_type": "display_data"
    }
   ],
   "source": [
    "df_88 = one_user_df_prep(df, 88)\n",
    "df_88.plot(figsize=(16,8))"
   ]
  },
  {
   "cell_type": "code",
   "execution_count": 63,
   "id": "c9590772",
   "metadata": {},
   "outputs": [],
   "source": [
    "df = get_n_prep_curr_logs()"
   ]
  },
  {
   "cell_type": "code",
   "execution_count": 66,
   "id": "003431df",
   "metadata": {},
   "outputs": [
    {
     "data": {
      "text/html": [
       "<div>\n",
       "<style scoped>\n",
       "    .dataframe tbody tr th:only-of-type {\n",
       "        vertical-align: middle;\n",
       "    }\n",
       "\n",
       "    .dataframe tbody tr th {\n",
       "        vertical-align: top;\n",
       "    }\n",
       "\n",
       "    .dataframe thead th {\n",
       "        text-align: right;\n",
       "    }\n",
       "</style>\n",
       "<table border=\"1\" class=\"dataframe\">\n",
       "  <thead>\n",
       "    <tr style=\"text-align: right;\">\n",
       "      <th></th>\n",
       "      <th>path</th>\n",
       "      <th>user_id</th>\n",
       "      <th>cohort_id</th>\n",
       "      <th>program_id</th>\n",
       "      <th>ip</th>\n",
       "      <th>name</th>\n",
       "      <th>slack</th>\n",
       "      <th>start_date</th>\n",
       "      <th>end_date</th>\n",
       "      <th>created_at</th>\n",
       "      <th>updated_at</th>\n",
       "      <th>date_time</th>\n",
       "      <th>program</th>\n",
       "      <th>staff</th>\n",
       "      <th>days_after_grad</th>\n",
       "    </tr>\n",
       "    <tr>\n",
       "      <th>date_time</th>\n",
       "      <th></th>\n",
       "      <th></th>\n",
       "      <th></th>\n",
       "      <th></th>\n",
       "      <th></th>\n",
       "      <th></th>\n",
       "      <th></th>\n",
       "      <th></th>\n",
       "      <th></th>\n",
       "      <th></th>\n",
       "      <th></th>\n",
       "      <th></th>\n",
       "      <th></th>\n",
       "      <th></th>\n",
       "      <th></th>\n",
       "    </tr>\n",
       "  </thead>\n",
       "  <tbody>\n",
       "    <tr>\n",
       "      <th>2018-06-01 15:14:04</th>\n",
       "      <td>/</td>\n",
       "      <td>88</td>\n",
       "      <td>7.0</td>\n",
       "      <td>1</td>\n",
       "      <td>66.90.136.214</td>\n",
       "      <td>Glacier</td>\n",
       "      <td>#glacier</td>\n",
       "      <td>2015-06-05</td>\n",
       "      <td>2015-10-06</td>\n",
       "      <td>2016-06-14 19:52:26</td>\n",
       "      <td>2016-06-14 19:52:26</td>\n",
       "      <td>2018-06-01 15:14:04</td>\n",
       "      <td>php</td>\n",
       "      <td>False</td>\n",
       "      <td>969 days</td>\n",
       "    </tr>\n",
       "    <tr>\n",
       "      <th>2018-06-01 15:14:19</th>\n",
       "      <td>javascript-ii</td>\n",
       "      <td>88</td>\n",
       "      <td>7.0</td>\n",
       "      <td>1</td>\n",
       "      <td>66.90.136.214</td>\n",
       "      <td>Glacier</td>\n",
       "      <td>#glacier</td>\n",
       "      <td>2015-06-05</td>\n",
       "      <td>2015-10-06</td>\n",
       "      <td>2016-06-14 19:52:26</td>\n",
       "      <td>2016-06-14 19:52:26</td>\n",
       "      <td>2018-06-01 15:14:19</td>\n",
       "      <td>php</td>\n",
       "      <td>False</td>\n",
       "      <td>969 days</td>\n",
       "    </tr>\n",
       "    <tr>\n",
       "      <th>2018-06-01 15:15:07</th>\n",
       "      <td>javascript-ii</td>\n",
       "      <td>88</td>\n",
       "      <td>7.0</td>\n",
       "      <td>1</td>\n",
       "      <td>66.90.136.214</td>\n",
       "      <td>Glacier</td>\n",
       "      <td>#glacier</td>\n",
       "      <td>2015-06-05</td>\n",
       "      <td>2015-10-06</td>\n",
       "      <td>2016-06-14 19:52:26</td>\n",
       "      <td>2016-06-14 19:52:26</td>\n",
       "      <td>2018-06-01 15:15:07</td>\n",
       "      <td>php</td>\n",
       "      <td>False</td>\n",
       "      <td>969 days</td>\n",
       "    </tr>\n",
       "    <tr>\n",
       "      <th>2018-06-01 15:15:13</th>\n",
       "      <td>javascript-ii</td>\n",
       "      <td>88</td>\n",
       "      <td>7.0</td>\n",
       "      <td>1</td>\n",
       "      <td>66.90.136.214</td>\n",
       "      <td>Glacier</td>\n",
       "      <td>#glacier</td>\n",
       "      <td>2015-06-05</td>\n",
       "      <td>2015-10-06</td>\n",
       "      <td>2016-06-14 19:52:26</td>\n",
       "      <td>2016-06-14 19:52:26</td>\n",
       "      <td>2018-06-01 15:15:13</td>\n",
       "      <td>php</td>\n",
       "      <td>False</td>\n",
       "      <td>969 days</td>\n",
       "    </tr>\n",
       "    <tr>\n",
       "      <th>2018-06-01 15:15:17</th>\n",
       "      <td>php</td>\n",
       "      <td>88</td>\n",
       "      <td>7.0</td>\n",
       "      <td>1</td>\n",
       "      <td>66.90.136.214</td>\n",
       "      <td>Glacier</td>\n",
       "      <td>#glacier</td>\n",
       "      <td>2015-06-05</td>\n",
       "      <td>2015-10-06</td>\n",
       "      <td>2016-06-14 19:52:26</td>\n",
       "      <td>2016-06-14 19:52:26</td>\n",
       "      <td>2018-06-01 15:15:17</td>\n",
       "      <td>php</td>\n",
       "      <td>False</td>\n",
       "      <td>969 days</td>\n",
       "    </tr>\n",
       "    <tr>\n",
       "      <th>...</th>\n",
       "      <td>...</td>\n",
       "      <td>...</td>\n",
       "      <td>...</td>\n",
       "      <td>...</td>\n",
       "      <td>...</td>\n",
       "      <td>...</td>\n",
       "      <td>...</td>\n",
       "      <td>...</td>\n",
       "      <td>...</td>\n",
       "      <td>...</td>\n",
       "      <td>...</td>\n",
       "      <td>...</td>\n",
       "      <td>...</td>\n",
       "      <td>...</td>\n",
       "      <td>...</td>\n",
       "    </tr>\n",
       "    <tr>\n",
       "      <th>2021-01-11 15:04:08</th>\n",
       "      <td>content/html-css/elements.html</td>\n",
       "      <td>88</td>\n",
       "      <td>7.0</td>\n",
       "      <td>1</td>\n",
       "      <td>136.50.6.131</td>\n",
       "      <td>Glacier</td>\n",
       "      <td>#glacier</td>\n",
       "      <td>2015-06-05</td>\n",
       "      <td>2015-10-06</td>\n",
       "      <td>2016-06-14 19:52:26</td>\n",
       "      <td>2016-06-14 19:52:26</td>\n",
       "      <td>2021-01-11 15:04:08</td>\n",
       "      <td>php</td>\n",
       "      <td>False</td>\n",
       "      <td>1924 days</td>\n",
       "    </tr>\n",
       "    <tr>\n",
       "      <th>2021-01-11 15:04:09</th>\n",
       "      <td>content/html-css/forms.html</td>\n",
       "      <td>88</td>\n",
       "      <td>7.0</td>\n",
       "      <td>1</td>\n",
       "      <td>136.50.6.131</td>\n",
       "      <td>Glacier</td>\n",
       "      <td>#glacier</td>\n",
       "      <td>2015-06-05</td>\n",
       "      <td>2015-10-06</td>\n",
       "      <td>2016-06-14 19:52:26</td>\n",
       "      <td>2016-06-14 19:52:26</td>\n",
       "      <td>2021-01-11 15:04:09</td>\n",
       "      <td>php</td>\n",
       "      <td>False</td>\n",
       "      <td>1924 days</td>\n",
       "    </tr>\n",
       "    <tr>\n",
       "      <th>2021-01-29 23:32:23</th>\n",
       "      <td>/</td>\n",
       "      <td>88</td>\n",
       "      <td>7.0</td>\n",
       "      <td>1</td>\n",
       "      <td>136.50.6.131</td>\n",
       "      <td>Glacier</td>\n",
       "      <td>#glacier</td>\n",
       "      <td>2015-06-05</td>\n",
       "      <td>2015-10-06</td>\n",
       "      <td>2016-06-14 19:52:26</td>\n",
       "      <td>2016-06-14 19:52:26</td>\n",
       "      <td>2021-01-29 23:32:23</td>\n",
       "      <td>php</td>\n",
       "      <td>False</td>\n",
       "      <td>1942 days</td>\n",
       "    </tr>\n",
       "    <tr>\n",
       "      <th>2021-01-29 23:32:35</th>\n",
       "      <td>/</td>\n",
       "      <td>88</td>\n",
       "      <td>7.0</td>\n",
       "      <td>1</td>\n",
       "      <td>136.50.6.131</td>\n",
       "      <td>Glacier</td>\n",
       "      <td>#glacier</td>\n",
       "      <td>2015-06-05</td>\n",
       "      <td>2015-10-06</td>\n",
       "      <td>2016-06-14 19:52:26</td>\n",
       "      <td>2016-06-14 19:52:26</td>\n",
       "      <td>2021-01-29 23:32:35</td>\n",
       "      <td>php</td>\n",
       "      <td>False</td>\n",
       "      <td>1942 days</td>\n",
       "    </tr>\n",
       "    <tr>\n",
       "      <th>2021-01-29 23:32:35</th>\n",
       "      <td>content/html-css</td>\n",
       "      <td>88</td>\n",
       "      <td>7.0</td>\n",
       "      <td>1</td>\n",
       "      <td>136.50.6.131</td>\n",
       "      <td>Glacier</td>\n",
       "      <td>#glacier</td>\n",
       "      <td>2015-06-05</td>\n",
       "      <td>2015-10-06</td>\n",
       "      <td>2016-06-14 19:52:26</td>\n",
       "      <td>2016-06-14 19:52:26</td>\n",
       "      <td>2021-01-29 23:32:35</td>\n",
       "      <td>php</td>\n",
       "      <td>False</td>\n",
       "      <td>1942 days</td>\n",
       "    </tr>\n",
       "  </tbody>\n",
       "</table>\n",
       "<p>463 rows × 15 columns</p>\n",
       "</div>"
      ],
      "text/plain": [
       "                                               path  user_id  cohort_id  \\\n",
       "date_time                                                                 \n",
       "2018-06-01 15:14:04                               /       88        7.0   \n",
       "2018-06-01 15:14:19                   javascript-ii       88        7.0   \n",
       "2018-06-01 15:15:07                   javascript-ii       88        7.0   \n",
       "2018-06-01 15:15:13                   javascript-ii       88        7.0   \n",
       "2018-06-01 15:15:17                             php       88        7.0   \n",
       "...                                             ...      ...        ...   \n",
       "2021-01-11 15:04:08  content/html-css/elements.html       88        7.0   \n",
       "2021-01-11 15:04:09     content/html-css/forms.html       88        7.0   \n",
       "2021-01-29 23:32:23                               /       88        7.0   \n",
       "2021-01-29 23:32:35                               /       88        7.0   \n",
       "2021-01-29 23:32:35                content/html-css       88        7.0   \n",
       "\n",
       "                     program_id             ip     name     slack start_date  \\\n",
       "date_time                                                                      \n",
       "2018-06-01 15:14:04           1  66.90.136.214  Glacier  #glacier 2015-06-05   \n",
       "2018-06-01 15:14:19           1  66.90.136.214  Glacier  #glacier 2015-06-05   \n",
       "2018-06-01 15:15:07           1  66.90.136.214  Glacier  #glacier 2015-06-05   \n",
       "2018-06-01 15:15:13           1  66.90.136.214  Glacier  #glacier 2015-06-05   \n",
       "2018-06-01 15:15:17           1  66.90.136.214  Glacier  #glacier 2015-06-05   \n",
       "...                         ...            ...      ...       ...        ...   \n",
       "2021-01-11 15:04:08           1   136.50.6.131  Glacier  #glacier 2015-06-05   \n",
       "2021-01-11 15:04:09           1   136.50.6.131  Glacier  #glacier 2015-06-05   \n",
       "2021-01-29 23:32:23           1   136.50.6.131  Glacier  #glacier 2015-06-05   \n",
       "2021-01-29 23:32:35           1   136.50.6.131  Glacier  #glacier 2015-06-05   \n",
       "2021-01-29 23:32:35           1   136.50.6.131  Glacier  #glacier 2015-06-05   \n",
       "\n",
       "                      end_date           created_at           updated_at  \\\n",
       "date_time                                                                  \n",
       "2018-06-01 15:14:04 2015-10-06  2016-06-14 19:52:26  2016-06-14 19:52:26   \n",
       "2018-06-01 15:14:19 2015-10-06  2016-06-14 19:52:26  2016-06-14 19:52:26   \n",
       "2018-06-01 15:15:07 2015-10-06  2016-06-14 19:52:26  2016-06-14 19:52:26   \n",
       "2018-06-01 15:15:13 2015-10-06  2016-06-14 19:52:26  2016-06-14 19:52:26   \n",
       "2018-06-01 15:15:17 2015-10-06  2016-06-14 19:52:26  2016-06-14 19:52:26   \n",
       "...                        ...                  ...                  ...   \n",
       "2021-01-11 15:04:08 2015-10-06  2016-06-14 19:52:26  2016-06-14 19:52:26   \n",
       "2021-01-11 15:04:09 2015-10-06  2016-06-14 19:52:26  2016-06-14 19:52:26   \n",
       "2021-01-29 23:32:23 2015-10-06  2016-06-14 19:52:26  2016-06-14 19:52:26   \n",
       "2021-01-29 23:32:35 2015-10-06  2016-06-14 19:52:26  2016-06-14 19:52:26   \n",
       "2021-01-29 23:32:35 2015-10-06  2016-06-14 19:52:26  2016-06-14 19:52:26   \n",
       "\n",
       "                              date_time program  staff days_after_grad  \n",
       "date_time                                                               \n",
       "2018-06-01 15:14:04 2018-06-01 15:14:04     php  False        969 days  \n",
       "2018-06-01 15:14:19 2018-06-01 15:14:19     php  False        969 days  \n",
       "2018-06-01 15:15:07 2018-06-01 15:15:07     php  False        969 days  \n",
       "2018-06-01 15:15:13 2018-06-01 15:15:13     php  False        969 days  \n",
       "2018-06-01 15:15:17 2018-06-01 15:15:17     php  False        969 days  \n",
       "...                                 ...     ...    ...             ...  \n",
       "2021-01-11 15:04:08 2021-01-11 15:04:08     php  False       1924 days  \n",
       "2021-01-11 15:04:09 2021-01-11 15:04:09     php  False       1924 days  \n",
       "2021-01-29 23:32:23 2021-01-29 23:32:23     php  False       1942 days  \n",
       "2021-01-29 23:32:35 2021-01-29 23:32:35     php  False       1942 days  \n",
       "2021-01-29 23:32:35 2021-01-29 23:32:35     php  False       1942 days  \n",
       "\n",
       "[463 rows x 15 columns]"
      ]
     },
     "execution_count": 66,
     "metadata": {},
     "output_type": "execute_result"
    }
   ],
   "source": [
    "df_88 = df[df.user_id == 88]\n",
    "df_88"
   ]
  },
  {
   "cell_type": "markdown",
   "id": "3eac7f77",
   "metadata": {},
   "source": [
    "Looks like user from Glacier cohort has been consistently looking at lessons since their cohort in 2015."
   ]
  },
  {
   "cell_type": "markdown",
   "id": "1829eaab",
   "metadata": {},
   "source": [
    "### 5. At some point in 2019, the ability for students and alumni to access both curriculums (web dev to ds, ds to web dev) should have been shut off. Do you see any evidence of that happening? Did it happen before?"
   ]
  },
  {
   "cell_type": "code",
   "execution_count": 5,
   "id": "5a7203d3",
   "metadata": {},
   "outputs": [
    {
     "data": {
      "text/html": [
       "<div>\n",
       "<style scoped>\n",
       "    .dataframe tbody tr th:only-of-type {\n",
       "        vertical-align: middle;\n",
       "    }\n",
       "\n",
       "    .dataframe tbody tr th {\n",
       "        vertical-align: top;\n",
       "    }\n",
       "\n",
       "    .dataframe thead th {\n",
       "        text-align: right;\n",
       "    }\n",
       "</style>\n",
       "<table border=\"1\" class=\"dataframe\">\n",
       "  <thead>\n",
       "    <tr style=\"text-align: right;\">\n",
       "      <th></th>\n",
       "      <th>path</th>\n",
       "      <th>user_id</th>\n",
       "      <th>cohort_id</th>\n",
       "      <th>program_id</th>\n",
       "      <th>ip</th>\n",
       "      <th>name</th>\n",
       "      <th>slack</th>\n",
       "      <th>start_date</th>\n",
       "      <th>end_date</th>\n",
       "      <th>created_at</th>\n",
       "      <th>updated_at</th>\n",
       "      <th>date_time</th>\n",
       "      <th>program</th>\n",
       "      <th>staff</th>\n",
       "      <th>days_after_grad</th>\n",
       "      <th>year</th>\n",
       "    </tr>\n",
       "    <tr>\n",
       "      <th>date_time</th>\n",
       "      <th></th>\n",
       "      <th></th>\n",
       "      <th></th>\n",
       "      <th></th>\n",
       "      <th></th>\n",
       "      <th></th>\n",
       "      <th></th>\n",
       "      <th></th>\n",
       "      <th></th>\n",
       "      <th></th>\n",
       "      <th></th>\n",
       "      <th></th>\n",
       "      <th></th>\n",
       "      <th></th>\n",
       "      <th></th>\n",
       "      <th></th>\n",
       "    </tr>\n",
       "  </thead>\n",
       "  <tbody>\n",
       "    <tr>\n",
       "      <th>2018-01-26 09:55:03</th>\n",
       "      <td>/</td>\n",
       "      <td>1</td>\n",
       "      <td>8.0</td>\n",
       "      <td>1</td>\n",
       "      <td>97.105.19.61</td>\n",
       "      <td>Hampton</td>\n",
       "      <td>#hampton</td>\n",
       "      <td>2015-09-22</td>\n",
       "      <td>2016-02-06</td>\n",
       "      <td>2016-06-14 19:52:26</td>\n",
       "      <td>2016-06-14 19:52:26</td>\n",
       "      <td>2018-01-26 09:55:03</td>\n",
       "      <td>php</td>\n",
       "      <td>False</td>\n",
       "      <td>720 days</td>\n",
       "      <td>2018</td>\n",
       "    </tr>\n",
       "  </tbody>\n",
       "</table>\n",
       "</div>"
      ],
      "text/plain": [
       "                    path  user_id  cohort_id  program_id            ip  \\\n",
       "date_time                                                                \n",
       "2018-01-26 09:55:03    /        1        8.0           1  97.105.19.61   \n",
       "\n",
       "                        name     slack start_date   end_date  \\\n",
       "date_time                                                      \n",
       "2018-01-26 09:55:03  Hampton  #hampton 2015-09-22 2016-02-06   \n",
       "\n",
       "                              created_at           updated_at  \\\n",
       "date_time                                                       \n",
       "2018-01-26 09:55:03  2016-06-14 19:52:26  2016-06-14 19:52:26   \n",
       "\n",
       "                              date_time program  staff days_after_grad  year  \n",
       "date_time                                                                     \n",
       "2018-01-26 09:55:03 2018-01-26 09:55:03     php  False        720 days  2018  "
      ]
     },
     "execution_count": 5,
     "metadata": {},
     "output_type": "execute_result"
    }
   ],
   "source": [
    "# column with year \n",
    "df['year'] = df.index.year\n",
    "df.head(1)"
   ]
  },
  {
   "cell_type": "code",
   "execution_count": 82,
   "id": "6cc9714d",
   "metadata": {},
   "outputs": [
    {
     "data": {
      "text/html": [
       "<div>\n",
       "<style scoped>\n",
       "    .dataframe tbody tr th:only-of-type {\n",
       "        vertical-align: middle;\n",
       "    }\n",
       "\n",
       "    .dataframe tbody tr th {\n",
       "        vertical-align: top;\n",
       "    }\n",
       "\n",
       "    .dataframe thead th {\n",
       "        text-align: right;\n",
       "    }\n",
       "</style>\n",
       "<table border=\"1\" class=\"dataframe\">\n",
       "  <thead>\n",
       "    <tr style=\"text-align: right;\">\n",
       "      <th></th>\n",
       "      <th>path</th>\n",
       "      <th>user_id</th>\n",
       "      <th>cohort_id</th>\n",
       "      <th>program_id</th>\n",
       "      <th>ip</th>\n",
       "      <th>name</th>\n",
       "      <th>slack</th>\n",
       "      <th>start_date</th>\n",
       "      <th>end_date</th>\n",
       "      <th>created_at</th>\n",
       "      <th>updated_at</th>\n",
       "      <th>date_time</th>\n",
       "      <th>program</th>\n",
       "      <th>staff</th>\n",
       "      <th>days_after_grad</th>\n",
       "      <th>year</th>\n",
       "    </tr>\n",
       "    <tr>\n",
       "      <th>date_time</th>\n",
       "      <th></th>\n",
       "      <th></th>\n",
       "      <th></th>\n",
       "      <th></th>\n",
       "      <th></th>\n",
       "      <th></th>\n",
       "      <th></th>\n",
       "      <th></th>\n",
       "      <th></th>\n",
       "      <th></th>\n",
       "      <th></th>\n",
       "      <th></th>\n",
       "      <th></th>\n",
       "      <th></th>\n",
       "      <th></th>\n",
       "      <th></th>\n",
       "    </tr>\n",
       "  </thead>\n",
       "  <tbody>\n",
       "    <tr>\n",
       "      <th>2019-01-01 07:45:45</th>\n",
       "      <td>java-iii/mvc</td>\n",
       "      <td>271</td>\n",
       "      <td>26.0</td>\n",
       "      <td>2</td>\n",
       "      <td>73.31.215.224</td>\n",
       "      <td>Xanadu</td>\n",
       "      <td>#xanadu</td>\n",
       "      <td>2018-09-17</td>\n",
       "      <td>2019-02-08</td>\n",
       "      <td>2018-09-17 19:09:51</td>\n",
       "      <td>2018-09-17 19:09:51</td>\n",
       "      <td>2019-01-01 07:45:45</td>\n",
       "      <td>java</td>\n",
       "      <td>False</td>\n",
       "      <td>-38 days</td>\n",
       "      <td>2019</td>\n",
       "    </tr>\n",
       "  </tbody>\n",
       "</table>\n",
       "</div>"
      ],
      "text/plain": [
       "                             path  user_id  cohort_id  program_id  \\\n",
       "date_time                                                           \n",
       "2019-01-01 07:45:45  java-iii/mvc      271       26.0           2   \n",
       "\n",
       "                                ip    name    slack start_date   end_date  \\\n",
       "date_time                                                                   \n",
       "2019-01-01 07:45:45  73.31.215.224  Xanadu  #xanadu 2018-09-17 2019-02-08   \n",
       "\n",
       "                              created_at           updated_at  \\\n",
       "date_time                                                       \n",
       "2019-01-01 07:45:45  2018-09-17 19:09:51  2018-09-17 19:09:51   \n",
       "\n",
       "                              date_time program  staff days_after_grad  year  \n",
       "date_time                                                                     \n",
       "2019-01-01 07:45:45 2019-01-01 07:45:45    java  False        -38 days  2019  "
      ]
     },
     "execution_count": 82,
     "metadata": {},
     "output_type": "execute_result"
    }
   ],
   "source": [
    "# df where year in index is 2019\n",
    "df_2019 = df[df.index.year == 2019]\n",
    "df_2019.head(1)"
   ]
  },
  {
   "cell_type": "code",
   "execution_count": 7,
   "id": "d4737682",
   "metadata": {},
   "outputs": [],
   "source": [
    "# rename the labels in program so that web_dev is grouped together \n",
    "df_2019['program'].replace({'php': 'web_dev', 'java': 'web_dev', 'data_science': 'data_science', 'front_end': 'web_dev'}, inplace=True)\n",
    "    "
   ]
  },
  {
   "cell_type": "code",
   "execution_count": 9,
   "id": "ec97b1b9",
   "metadata": {},
   "outputs": [
    {
     "data": {
      "text/plain": [
       "web_dev         203174\n",
       "data_science     20068\n",
       "Name: program, dtype: int64"
      ]
     },
     "execution_count": 9,
     "metadata": {},
     "output_type": "execute_result"
    }
   ],
   "source": [
    "df_2019.program.value_counts()"
   ]
  },
  {
   "cell_type": "code",
   "execution_count": 12,
   "id": "8a21ea3b",
   "metadata": {},
   "outputs": [],
   "source": [
    "# Remove Limits On Viewing Dataframes\n",
    "pd.set_option('display.max_rows', None)"
   ]
  },
  {
   "cell_type": "code",
   "execution_count": 81,
   "id": "a81193e8",
   "metadata": {
    "scrolled": true
   },
   "outputs": [
    {
     "data": {
      "text/html": [
       "<div>\n",
       "<style scoped>\n",
       "    .dataframe tbody tr th:only-of-type {\n",
       "        vertical-align: middle;\n",
       "    }\n",
       "\n",
       "    .dataframe tbody tr th {\n",
       "        vertical-align: top;\n",
       "    }\n",
       "\n",
       "    .dataframe thead th {\n",
       "        text-align: right;\n",
       "    }\n",
       "</style>\n",
       "<table border=\"1\" class=\"dataframe\">\n",
       "  <thead>\n",
       "    <tr style=\"text-align: right;\">\n",
       "      <th></th>\n",
       "      <th>path</th>\n",
       "      <th>user_id</th>\n",
       "      <th>cohort_id</th>\n",
       "      <th>program_id</th>\n",
       "      <th>ip</th>\n",
       "      <th>name</th>\n",
       "      <th>slack</th>\n",
       "      <th>start_date</th>\n",
       "      <th>end_date</th>\n",
       "      <th>created_at</th>\n",
       "      <th>updated_at</th>\n",
       "      <th>date_time</th>\n",
       "      <th>program</th>\n",
       "      <th>staff</th>\n",
       "      <th>days_after_grad</th>\n",
       "      <th>year</th>\n",
       "    </tr>\n",
       "    <tr>\n",
       "      <th>date_time</th>\n",
       "      <th></th>\n",
       "      <th></th>\n",
       "      <th></th>\n",
       "      <th></th>\n",
       "      <th></th>\n",
       "      <th></th>\n",
       "      <th></th>\n",
       "      <th></th>\n",
       "      <th></th>\n",
       "      <th></th>\n",
       "      <th></th>\n",
       "      <th></th>\n",
       "      <th></th>\n",
       "      <th></th>\n",
       "      <th></th>\n",
       "      <th></th>\n",
       "    </tr>\n",
       "  </thead>\n",
       "  <tbody>\n",
       "    <tr>\n",
       "      <th>2019-04-13 01:39:14</th>\n",
       "      <td>datascience</td>\n",
       "      <td>220</td>\n",
       "      <td>25.0</td>\n",
       "      <td>2</td>\n",
       "      <td>70.120.5.227</td>\n",
       "      <td>Wrangell</td>\n",
       "      <td>#wrangell</td>\n",
       "      <td>2018-07-23</td>\n",
       "      <td>2018-11-29</td>\n",
       "      <td>2018-07-23 15:02:25</td>\n",
       "      <td>2018-07-23 15:02:25</td>\n",
       "      <td>2019-04-13 01:39:14</td>\n",
       "      <td>web_dev</td>\n",
       "      <td>False</td>\n",
       "      <td>135 days</td>\n",
       "      <td>2019</td>\n",
       "    </tr>\n",
       "  </tbody>\n",
       "</table>\n",
       "</div>"
      ],
      "text/plain": [
       "                            path  user_id  cohort_id  program_id  \\\n",
       "date_time                                                          \n",
       "2019-04-13 01:39:14  datascience      220       25.0           2   \n",
       "\n",
       "                               ip      name      slack start_date   end_date  \\\n",
       "date_time                                                                      \n",
       "2019-04-13 01:39:14  70.120.5.227  Wrangell  #wrangell 2018-07-23 2018-11-29   \n",
       "\n",
       "                              created_at           updated_at  \\\n",
       "date_time                                                       \n",
       "2019-04-13 01:39:14  2018-07-23 15:02:25  2018-07-23 15:02:25   \n",
       "\n",
       "                              date_time  program  staff days_after_grad  year  \n",
       "date_time                                                                      \n",
       "2019-04-13 01:39:14 2019-04-13 01:39:14  web_dev  False        135 days  2019  "
      ]
     },
     "execution_count": 81,
     "metadata": {},
     "output_type": "execute_result"
    }
   ],
   "source": [
    "df_2019[(df_2019.program == 'web_dev') & (df_2019.path.str.contains('science'))].head(1)"
   ]
  },
  {
   "cell_type": "markdown",
   "id": "f1f83a97",
   "metadata": {},
   "source": [
    "A Web Dev student (user_id: 220) from the Wrangell cohort accessed the data-science curriculum on 2019-04-13 but another Web Dev staff member (user_id: 410) didn't access the data science curriculum until 2019-08-15."
   ]
  },
  {
   "cell_type": "code",
   "execution_count": 79,
   "id": "fd8f9fb6",
   "metadata": {},
   "outputs": [
    {
     "data": {
      "text/html": [
       "<div>\n",
       "<style scoped>\n",
       "    .dataframe tbody tr th:only-of-type {\n",
       "        vertical-align: middle;\n",
       "    }\n",
       "\n",
       "    .dataframe tbody tr th {\n",
       "        vertical-align: top;\n",
       "    }\n",
       "\n",
       "    .dataframe thead th {\n",
       "        text-align: right;\n",
       "    }\n",
       "</style>\n",
       "<table border=\"1\" class=\"dataframe\">\n",
       "  <thead>\n",
       "    <tr style=\"text-align: right;\">\n",
       "      <th></th>\n",
       "      <th>path</th>\n",
       "      <th>user_id</th>\n",
       "      <th>cohort_id</th>\n",
       "      <th>program_id</th>\n",
       "      <th>ip</th>\n",
       "      <th>name</th>\n",
       "      <th>slack</th>\n",
       "      <th>start_date</th>\n",
       "      <th>end_date</th>\n",
       "      <th>created_at</th>\n",
       "      <th>updated_at</th>\n",
       "      <th>date_time</th>\n",
       "      <th>program</th>\n",
       "      <th>staff</th>\n",
       "      <th>days_after_grad</th>\n",
       "      <th>year</th>\n",
       "    </tr>\n",
       "    <tr>\n",
       "      <th>date_time</th>\n",
       "      <th></th>\n",
       "      <th></th>\n",
       "      <th></th>\n",
       "      <th></th>\n",
       "      <th></th>\n",
       "      <th></th>\n",
       "      <th></th>\n",
       "      <th></th>\n",
       "      <th></th>\n",
       "      <th></th>\n",
       "      <th></th>\n",
       "      <th></th>\n",
       "      <th></th>\n",
       "      <th></th>\n",
       "      <th></th>\n",
       "      <th></th>\n",
       "    </tr>\n",
       "  </thead>\n",
       "  <tbody>\n",
       "    <tr>\n",
       "      <th>2019-09-23 11:45:09</th>\n",
       "      <td>java-iii</td>\n",
       "      <td>476</td>\n",
       "      <td>34.0</td>\n",
       "      <td>3</td>\n",
       "      <td>97.105.19.58</td>\n",
       "      <td>Bayes</td>\n",
       "      <td>#</td>\n",
       "      <td>2019-08-19</td>\n",
       "      <td>2020-01-30</td>\n",
       "      <td>2019-08-20 14:38:55</td>\n",
       "      <td>2019-08-20 14:38:55</td>\n",
       "      <td>2019-09-23 11:45:09</td>\n",
       "      <td>data_science</td>\n",
       "      <td>False</td>\n",
       "      <td>-129 days</td>\n",
       "      <td>2019</td>\n",
       "    </tr>\n",
       "  </tbody>\n",
       "</table>\n",
       "</div>"
      ],
      "text/plain": [
       "                         path  user_id  cohort_id  program_id            ip  \\\n",
       "date_time                                                                     \n",
       "2019-09-23 11:45:09  java-iii      476       34.0           3  97.105.19.58   \n",
       "\n",
       "                      name slack start_date   end_date           created_at  \\\n",
       "date_time                                                                     \n",
       "2019-09-23 11:45:09  Bayes     # 2019-08-19 2020-01-30  2019-08-20 14:38:55   \n",
       "\n",
       "                              updated_at           date_time       program  \\\n",
       "date_time                                                                    \n",
       "2019-09-23 11:45:09  2019-08-20 14:38:55 2019-09-23 11:45:09  data_science   \n",
       "\n",
       "                     staff days_after_grad  year  \n",
       "date_time                                         \n",
       "2019-09-23 11:45:09  False       -129 days  2019  "
      ]
     },
     "execution_count": 79,
     "metadata": {},
     "output_type": "execute_result"
    }
   ],
   "source": [
    "df_2019[(df_2019.program == 'data_science') & (df_2019.path.str.contains('java'))].head(1)"
   ]
  },
  {
   "cell_type": "code",
   "execution_count": 59,
   "id": "7b780cc5",
   "metadata": {},
   "outputs": [],
   "source": [
    "both_2019 = df_2019[((df_2019.program == 'web_dev') & (df_2019.path.str.contains('science'))) | ((df_2019.program == 'data_science') & (df_2019.path.str.contains('java')))]\n"
   ]
  },
  {
   "cell_type": "code",
   "execution_count": 80,
   "id": "3ebf98cf",
   "metadata": {},
   "outputs": [
    {
     "data": {
      "text/html": [
       "<div>\n",
       "<style scoped>\n",
       "    .dataframe tbody tr th:only-of-type {\n",
       "        vertical-align: middle;\n",
       "    }\n",
       "\n",
       "    .dataframe tbody tr th {\n",
       "        vertical-align: top;\n",
       "    }\n",
       "\n",
       "    .dataframe thead th {\n",
       "        text-align: right;\n",
       "    }\n",
       "</style>\n",
       "<table border=\"1\" class=\"dataframe\">\n",
       "  <thead>\n",
       "    <tr style=\"text-align: right;\">\n",
       "      <th></th>\n",
       "      <th>path</th>\n",
       "      <th>user_id</th>\n",
       "      <th>cohort_id</th>\n",
       "      <th>program_id</th>\n",
       "      <th>ip</th>\n",
       "      <th>name</th>\n",
       "      <th>slack</th>\n",
       "      <th>start_date</th>\n",
       "      <th>end_date</th>\n",
       "      <th>created_at</th>\n",
       "      <th>updated_at</th>\n",
       "      <th>date_time</th>\n",
       "      <th>program</th>\n",
       "      <th>staff</th>\n",
       "      <th>days_after_grad</th>\n",
       "      <th>year</th>\n",
       "    </tr>\n",
       "    <tr>\n",
       "      <th>date_time</th>\n",
       "      <th></th>\n",
       "      <th></th>\n",
       "      <th></th>\n",
       "      <th></th>\n",
       "      <th></th>\n",
       "      <th></th>\n",
       "      <th></th>\n",
       "      <th></th>\n",
       "      <th></th>\n",
       "      <th></th>\n",
       "      <th></th>\n",
       "      <th></th>\n",
       "      <th></th>\n",
       "      <th></th>\n",
       "      <th></th>\n",
       "      <th></th>\n",
       "    </tr>\n",
       "  </thead>\n",
       "  <tbody>\n",
       "    <tr>\n",
       "      <th>2019-04-13 01:39:14</th>\n",
       "      <td>datascience</td>\n",
       "      <td>220</td>\n",
       "      <td>25.0</td>\n",
       "      <td>2</td>\n",
       "      <td>70.120.5.227</td>\n",
       "      <td>Wrangell</td>\n",
       "      <td>#wrangell</td>\n",
       "      <td>2018-07-23</td>\n",
       "      <td>2018-11-29</td>\n",
       "      <td>2018-07-23 15:02:25</td>\n",
       "      <td>2018-07-23 15:02:25</td>\n",
       "      <td>2019-04-13 01:39:14</td>\n",
       "      <td>web_dev</td>\n",
       "      <td>False</td>\n",
       "      <td>135 days</td>\n",
       "      <td>2019</td>\n",
       "    </tr>\n",
       "  </tbody>\n",
       "</table>\n",
       "</div>"
      ],
      "text/plain": [
       "                            path  user_id  cohort_id  program_id  \\\n",
       "date_time                                                          \n",
       "2019-04-13 01:39:14  datascience      220       25.0           2   \n",
       "\n",
       "                               ip      name      slack start_date   end_date  \\\n",
       "date_time                                                                      \n",
       "2019-04-13 01:39:14  70.120.5.227  Wrangell  #wrangell 2018-07-23 2018-11-29   \n",
       "\n",
       "                              created_at           updated_at  \\\n",
       "date_time                                                       \n",
       "2019-04-13 01:39:14  2018-07-23 15:02:25  2018-07-23 15:02:25   \n",
       "\n",
       "                              date_time  program  staff days_after_grad  year  \n",
       "date_time                                                                      \n",
       "2019-04-13 01:39:14 2019-04-13 01:39:14  web_dev  False        135 days  2019  "
      ]
     },
     "execution_count": 80,
     "metadata": {},
     "output_type": "execute_result"
    }
   ],
   "source": [
    "both_2019.head(1)"
   ]
  },
  {
   "cell_type": "code",
   "execution_count": 61,
   "id": "ced78056",
   "metadata": {},
   "outputs": [],
   "source": [
    "activity_2019 = both_2019['path'].resample('d').count()"
   ]
  },
  {
   "cell_type": "code",
   "execution_count": 63,
   "id": "e9d47c59",
   "metadata": {},
   "outputs": [
    {
     "data": {
      "text/plain": [
       "date_time\n",
       "2019-04-13    2\n",
       "2019-04-14    0\n",
       "2019-04-15    0\n",
       "2019-04-16    0\n",
       "2019-04-17    0\n",
       "Freq: D, Name: path, dtype: int64"
      ]
     },
     "execution_count": 63,
     "metadata": {},
     "output_type": "execute_result"
    }
   ],
   "source": [
    "# daily counts for number of pages viewed by people that were in one program (Web Dev or Data Science) viewing another\n",
    "activity_2019.head()"
   ]
  },
  {
   "cell_type": "code",
   "execution_count": 65,
   "id": "d83e0ece",
   "metadata": {},
   "outputs": [
    {
     "data": {
      "text/plain": [
       "<AxesSubplot:xlabel='date_time'>"
      ]
     },
     "execution_count": 65,
     "metadata": {},
     "output_type": "execute_result"
    },
    {
     "data": {
      "image/png": "[encoded data removed]",
      "text/plain": [
       "<Figure size 432x288 with 1 Axes>"
      ]
     },
     "metadata": {
      "needs_background": "light"
     },
     "output_type": "display_data"
    }
   ],
   "source": [
    "# exponential moving avg \n",
    "# looking for change in access from one program to another's curr\n",
    "# 7 day EMA\n",
    "ema_7d = activity_2019.ewm(span = 7).mean()\n",
    "ema_7d.plot()"
   ]
  },
  {
   "cell_type": "code",
   "execution_count": 66,
   "id": "c7f7f03e",
   "metadata": {},
   "outputs": [
    {
     "data": {
      "text/plain": [
       "<AxesSubplot:xlabel='date_time'>"
      ]
     },
     "execution_count": 66,
     "metadata": {},
     "output_type": "execute_result"
    },
    {
     "data": {
      "image/png": "[encoded data removed]",
      "text/plain": [
       "<Figure size 432x288 with 1 Axes>"
      ]
     },
     "metadata": {
      "needs_background": "light"
     },
     "output_type": "display_data"
    }
   ],
   "source": [
    "# 14 days EMA\n",
    "ema_14d = activity_2019.ewm(span = 14).mean()\n",
    "ema_14d.plot()"
   ]
  },
  {
   "cell_type": "code",
   "execution_count": 67,
   "id": "366b4842",
   "metadata": {},
   "outputs": [
    {
     "data": {
      "text/plain": [
       "<AxesSubplot:xlabel='date_time'>"
      ]
     },
     "execution_count": 67,
     "metadata": {},
     "output_type": "execute_result"
    },
    {
     "data": {
      "image/png": "[encoded data removed]",
      "text/plain": [
       "<Figure size 432x288 with 1 Axes>"
      ]
     },
     "metadata": {
      "needs_background": "light"
     },
     "output_type": "display_data"
    }
   ],
   "source": [
    "# 30 days EMA\n",
    "ema_30d = activity_2019.ewm(span = 30).mean()\n",
    "ema_14d.plot()"
   ]
  },
  {
   "cell_type": "code",
   "execution_count": 69,
   "id": "9090c11c",
   "metadata": {},
   "outputs": [
    {
     "data": {
      "text/plain": [
       "<AxesSubplot:xlabel='date_time'>"
      ]
     },
     "execution_count": 69,
     "metadata": {},
     "output_type": "execute_result"
    },
    {
     "data": {
      "image/png": "[encoded data removed]",
      "text/plain": [
       "<Figure size 432x288 with 1 Axes>"
      ]
     },
     "metadata": {
      "needs_background": "light"
     },
     "output_type": "display_data"
    }
   ],
   "source": [
    "# 90 days EMA\n",
    "ema_90d = activity_2019.ewm(span = 90).mean()\n",
    "ema_14d.plot()"
   ]
  },
  {
   "cell_type": "code",
   "execution_count": 73,
   "id": "864096d2",
   "metadata": {},
   "outputs": [
    {
     "data": {
      "image/png": "[encoded data removed]",
      "text/plain": [
       "<Figure size 864x432 with 1 Axes>"
      ]
     },
     "metadata": {
      "needs_background": "light"
     },
     "output_type": "display_data"
    }
   ],
   "source": [
    "fig, ax = plt.subplots(figsize=(12,6))\n",
    "\n",
    "ax.plot(activity_2019.index, activity_2019, label='Daily', alpha=.5)\n",
    "\n",
    "ax.plot(activity_2019.index, ema_7d, label = '7-day EMA')\n",
    "ax.plot(activity_2019.index, ema_14d, label = '14-day EMA')\n",
    "ax.plot(activity_2019.index, ema_30d, label = '30-day EMA')\n",
    "ax.plot(activity_2019.index, ema_90d, label = '90-day EMA')\n",
    "\n",
    "ax.legend(loc='best')\n",
    "ax.set_ylabel('Activity')\n",
    "plt.title('Pages Visited by a Different Program in 2019')\n",
    "\n",
    "plt.show()"
   ]
  },
  {
   "cell_type": "markdown",
   "id": "18b8775b",
   "metadata": {},
   "source": [
    "I'll do the same thing as above for 2018. "
   ]
  },
  {
   "cell_type": "code",
   "execution_count": 87,
   "id": "eedb2978",
   "metadata": {},
   "outputs": [],
   "source": [
    "# rename the labels in program so that web_dev is grouped together \n",
    "df['program'].replace({'php': 'web_dev', 'java': 'web_dev', 'data_science': 'data_science', 'front_end': 'web_dev'}, inplace=True)\n"
   ]
  },
  {
   "cell_type": "code",
   "execution_count": 88,
   "id": "ad11bbbc",
   "metadata": {},
   "outputs": [
    {
     "data": {
      "text/plain": [
       "web_dev         743918\n",
       "data_science    103411\n",
       "Name: program, dtype: int64"
      ]
     },
     "execution_count": 88,
     "metadata": {},
     "output_type": "execute_result"
    }
   ],
   "source": [
    "df.program.value_counts()"
   ]
  },
  {
   "cell_type": "code",
   "execution_count": 89,
   "id": "60a31db4",
   "metadata": {},
   "outputs": [],
   "source": [
    "both_all = df[((df.program == 'web_dev') & (df.path.str.contains('science'))) | ((df.program == 'data_science') & (df.path.str.contains('java')))]\n"
   ]
  },
  {
   "cell_type": "code",
   "execution_count": 90,
   "id": "6143c454",
   "metadata": {},
   "outputs": [
    {
     "data": {
      "text/html": [
       "<div>\n",
       "<style scoped>\n",
       "    .dataframe tbody tr th:only-of-type {\n",
       "        vertical-align: middle;\n",
       "    }\n",
       "\n",
       "    .dataframe tbody tr th {\n",
       "        vertical-align: top;\n",
       "    }\n",
       "\n",
       "    .dataframe thead th {\n",
       "        text-align: right;\n",
       "    }\n",
       "</style>\n",
       "<table border=\"1\" class=\"dataframe\">\n",
       "  <thead>\n",
       "    <tr style=\"text-align: right;\">\n",
       "      <th></th>\n",
       "      <th>path</th>\n",
       "      <th>user_id</th>\n",
       "      <th>cohort_id</th>\n",
       "      <th>program_id</th>\n",
       "      <th>ip</th>\n",
       "      <th>name</th>\n",
       "      <th>slack</th>\n",
       "      <th>start_date</th>\n",
       "      <th>end_date</th>\n",
       "      <th>created_at</th>\n",
       "      <th>updated_at</th>\n",
       "      <th>date_time</th>\n",
       "      <th>program</th>\n",
       "      <th>staff</th>\n",
       "      <th>days_after_grad</th>\n",
       "      <th>year</th>\n",
       "    </tr>\n",
       "    <tr>\n",
       "      <th>date_time</th>\n",
       "      <th></th>\n",
       "      <th></th>\n",
       "      <th></th>\n",
       "      <th></th>\n",
       "      <th></th>\n",
       "      <th></th>\n",
       "      <th></th>\n",
       "      <th></th>\n",
       "      <th></th>\n",
       "      <th></th>\n",
       "      <th></th>\n",
       "      <th></th>\n",
       "      <th></th>\n",
       "      <th></th>\n",
       "      <th></th>\n",
       "      <th></th>\n",
       "    </tr>\n",
       "  </thead>\n",
       "  <tbody>\n",
       "    <tr>\n",
       "      <th>2019-04-13 01:39:14</th>\n",
       "      <td>datascience</td>\n",
       "      <td>220</td>\n",
       "      <td>25.0</td>\n",
       "      <td>2</td>\n",
       "      <td>70.120.5.227</td>\n",
       "      <td>Wrangell</td>\n",
       "      <td>#wrangell</td>\n",
       "      <td>2018-07-23</td>\n",
       "      <td>2018-11-29</td>\n",
       "      <td>2018-07-23 15:02:25</td>\n",
       "      <td>2018-07-23 15:02:25</td>\n",
       "      <td>2019-04-13 01:39:14</td>\n",
       "      <td>web_dev</td>\n",
       "      <td>False</td>\n",
       "      <td>135 days</td>\n",
       "      <td>2019</td>\n",
       "    </tr>\n",
       "  </tbody>\n",
       "</table>\n",
       "</div>"
      ],
      "text/plain": [
       "                            path  user_id  cohort_id  program_id  \\\n",
       "date_time                                                          \n",
       "2019-04-13 01:39:14  datascience      220       25.0           2   \n",
       "\n",
       "                               ip      name      slack start_date   end_date  \\\n",
       "date_time                                                                      \n",
       "2019-04-13 01:39:14  70.120.5.227  Wrangell  #wrangell 2018-07-23 2018-11-29   \n",
       "\n",
       "                              created_at           updated_at  \\\n",
       "date_time                                                       \n",
       "2019-04-13 01:39:14  2018-07-23 15:02:25  2018-07-23 15:02:25   \n",
       "\n",
       "                              date_time  program  staff days_after_grad  year  \n",
       "date_time                                                                      \n",
       "2019-04-13 01:39:14 2019-04-13 01:39:14  web_dev  False        135 days  2019  "
      ]
     },
     "execution_count": 90,
     "metadata": {},
     "output_type": "execute_result"
    }
   ],
   "source": [
    "both_all.head(1)\n"
   ]
  },
  {
   "cell_type": "code",
   "execution_count": 91,
   "id": "89352d0e",
   "metadata": {},
   "outputs": [],
   "source": [
    "both_activity_all = both_all['path'].resample('d').count()\n"
   ]
  },
  {
   "cell_type": "code",
   "execution_count": 92,
   "id": "1f04baa7",
   "metadata": {},
   "outputs": [
    {
     "data": {
      "text/plain": [
       "date_time\n",
       "2019-04-13    2\n",
       "2019-04-14    0\n",
       "2019-04-15    0\n",
       "2019-04-16    0\n",
       "2019-04-17    0\n",
       "Freq: D, Name: path, dtype: int64"
      ]
     },
     "execution_count": 92,
     "metadata": {},
     "output_type": "execute_result"
    }
   ],
   "source": [
    "# daily counts for number of pages viewed by people that were in one program (Web Dev or Data Science) viewing another\n",
    "both_activity_all.head()"
   ]
  },
  {
   "cell_type": "code",
   "execution_count": 95,
   "id": "1ac2b981",
   "metadata": {},
   "outputs": [
    {
     "data": {
      "image/png": "[encoded data removed]",
      "text/plain": [
       "<Figure size 432x288 with 1 Axes>"
      ]
     },
     "metadata": {
      "needs_background": "light"
     },
     "output_type": "display_data"
    }
   ],
   "source": [
    "# exponential moving avg \n",
    "# looking for change in access from one program to another's curr\n",
    "# 7 day EMA\n",
    "ema_7d = both_activity_all.ewm(span = 7).mean()\n",
    "ema_7d.plot();"
   ]
  },
  {
   "cell_type": "code",
   "execution_count": 99,
   "id": "2028be84",
   "metadata": {},
   "outputs": [],
   "source": [
    "# 14 days EMA\n",
    "ema_14d = both_activity_all.ewm(span = 14).mean()"
   ]
  },
  {
   "cell_type": "code",
   "execution_count": 100,
   "id": "c3d647c1",
   "metadata": {},
   "outputs": [],
   "source": [
    "# 30 days EMA\n",
    "ema_30d = both_activity_all.ewm(span = 30).mean()"
   ]
  },
  {
   "cell_type": "code",
   "execution_count": 101,
   "id": "a9825bb1",
   "metadata": {},
   "outputs": [],
   "source": [
    "# 90 days EMA\n",
    "ema_90d = both_activity_all.ewm(span = 90).mean()"
   ]
  },
  {
   "cell_type": "code",
   "execution_count": 103,
   "id": "dd5e7260",
   "metadata": {},
   "outputs": [
    {
     "data": {
      "image/png": "[encoded data removed]",
      "text/plain": [
       "<Figure size 864x432 with 1 Axes>"
      ]
     },
     "metadata": {
      "needs_background": "light"
     },
     "output_type": "display_data"
    }
   ],
   "source": [
    "fig, ax = plt.subplots(figsize=(12,6))\n",
    "\n",
    "ax.plot(both_activity_all.index, both_activity_all, label='Daily', alpha=.5)\n",
    "\n",
    "ax.plot(both_activity_all.index, ema_7d, label = '7-day EMA')\n",
    "ax.plot(both_activity_all.index, ema_14d, label = '14-day EMA')\n",
    "ax.plot(both_activity_all.index, ema_30d, label = '30-day EMA')\n",
    "ax.plot(both_activity_all.index, ema_90d, label = '90-day EMA')\n",
    "\n",
    "ax.legend(loc='best')\n",
    "ax.set_ylabel('Activity')\n",
    "plt.title('Pages Visited by a Different Program')\n",
    "\n",
    "plt.show()"
   ]
  },
  {
   "cell_type": "markdown",
   "id": "13eed14a",
   "metadata": {},
   "source": [
    "Codeup didn't have a Data Science program in 2018, that's why there isn't activity then. The first cohort started in January 2019. There's a notable spike on a day at the end of 2020 that is worth looking into as well as what looks like March 2021. "
   ]
  },
  {
   "cell_type": "markdown",
   "id": "ce2d2b8c",
   "metadata": {},
   "source": [
    "What studentd or staff were supposed to be able to view both? "
   ]
  },
  {
   "cell_type": "code",
   "execution_count": 25,
   "id": "0484677c",
   "metadata": {},
   "outputs": [],
   "source": [
    "cross_over = pd.DataFrame(df_2019.groupby(by='user_id').cohort_id.nunique().sort_values(ascending=False))"
   ]
  },
  {
   "cell_type": "code",
   "execution_count": 38,
   "id": "ced017bf",
   "metadata": {},
   "outputs": [
    {
     "data": {
      "text/plain": [
       "1    356\n",
       "2      7\n",
       "Name: cohort_id, dtype: int64"
      ]
     },
     "execution_count": 38,
     "metadata": {},
     "output_type": "execute_result"
    }
   ],
   "source": [
    "df_2019.groupby(by='user_id').cohort_id.nunique().value_counts()"
   ]
  },
  {
   "cell_type": "code",
   "execution_count": 21,
   "id": "3ef744af",
   "metadata": {},
   "outputs": [
    {
     "data": {
      "text/plain": [
       "1    356\n",
       "2      7\n",
       "Name: cohort_id, dtype: int64"
      ]
     },
     "execution_count": 21,
     "metadata": {},
     "output_type": "execute_result"
    }
   ],
   "source": [
    "cross_over.value_counts()"
   ]
  },
  {
   "cell_type": "code",
   "execution_count": 26,
   "id": "17beeaaf",
   "metadata": {},
   "outputs": [
    {
     "data": {
      "text/html": [
       "<div>\n",
       "<style scoped>\n",
       "    .dataframe tbody tr th:only-of-type {\n",
       "        vertical-align: middle;\n",
       "    }\n",
       "\n",
       "    .dataframe tbody tr th {\n",
       "        vertical-align: top;\n",
       "    }\n",
       "\n",
       "    .dataframe thead th {\n",
       "        text-align: right;\n",
       "    }\n",
       "</style>\n",
       "<table border=\"1\" class=\"dataframe\">\n",
       "  <thead>\n",
       "    <tr style=\"text-align: right;\">\n",
       "      <th></th>\n",
       "      <th>cohort_id</th>\n",
       "    </tr>\n",
       "    <tr>\n",
       "      <th>user_id</th>\n",
       "      <th></th>\n",
       "    </tr>\n",
       "  </thead>\n",
       "  <tbody>\n",
       "    <tr>\n",
       "      <th>314</th>\n",
       "      <td>2</td>\n",
       "    </tr>\n",
       "    <tr>\n",
       "      <th>346</th>\n",
       "      <td>2</td>\n",
       "    </tr>\n",
       "    <tr>\n",
       "      <th>53</th>\n",
       "      <td>2</td>\n",
       "    </tr>\n",
       "    <tr>\n",
       "      <th>539</th>\n",
       "      <td>2</td>\n",
       "    </tr>\n",
       "    <tr>\n",
       "      <th>428</th>\n",
       "      <td>2</td>\n",
       "    </tr>\n",
       "  </tbody>\n",
       "</table>\n",
       "</div>"
      ],
      "text/plain": [
       "         cohort_id\n",
       "user_id           \n",
       "314              2\n",
       "346              2\n",
       "53               2\n",
       "539              2\n",
       "428              2"
      ]
     },
     "execution_count": 26,
     "metadata": {},
     "output_type": "execute_result"
    }
   ],
   "source": [
    "cross_over.head()"
   ]
  },
  {
   "cell_type": "code",
   "execution_count": 31,
   "id": "3ecab3e3",
   "metadata": {},
   "outputs": [],
   "source": [
    "cross_over.rename(columns={'cohort_id': 'number_of_cohorts'}, inplace=True)"
   ]
  },
  {
   "cell_type": "code",
   "execution_count": 32,
   "id": "b200376a",
   "metadata": {},
   "outputs": [
    {
     "data": {
      "text/plain": [
       "(363, 1)"
      ]
     },
     "execution_count": 32,
     "metadata": {},
     "output_type": "execute_result"
    }
   ],
   "source": [
    "cross_over.shape"
   ]
  },
  {
   "cell_type": "code",
   "execution_count": 33,
   "id": "e9ad88c1",
   "metadata": {},
   "outputs": [],
   "source": [
    "cross_over = cross_over[cross_over.number_of_cohorts>=2]"
   ]
  },
  {
   "cell_type": "code",
   "execution_count": 34,
   "id": "383db03c",
   "metadata": {},
   "outputs": [
    {
     "data": {
      "text/plain": [
       "(7, 1)"
      ]
     },
     "execution_count": 34,
     "metadata": {},
     "output_type": "execute_result"
    }
   ],
   "source": [
    "cross_over.shape"
   ]
  },
  {
   "cell_type": "code",
   "execution_count": 39,
   "id": "2106a56a",
   "metadata": {},
   "outputs": [
    {
     "data": {
      "text/plain": [
       "<bound method NDFrame.head of          number_of_cohorts\n",
       "user_id                   \n",
       "314                      2\n",
       "346                      2\n",
       "53                       2\n",
       "539                      2\n",
       "428                      2\n",
       "40                       2\n",
       "37                       2>"
      ]
     },
     "execution_count": 39,
     "metadata": {},
     "output_type": "execute_result"
    }
   ],
   "source": [
    "cross_over.head"
   ]
  },
  {
   "cell_type": "markdown",
   "id": "a1ab4eba",
   "metadata": {},
   "source": [
    "user 314 is web dev staff"
   ]
  },
  {
   "cell_type": "code",
   "execution_count": 44,
   "id": "e268a624",
   "metadata": {},
   "outputs": [],
   "source": [
    "# df_2019[(df_2019.user_id == 314)]"
   ]
  },
  {
   "cell_type": "markdown",
   "id": "2fdb8c7d",
   "metadata": {},
   "source": [
    "user 346 is in two web dev cohorts"
   ]
  },
  {
   "cell_type": "code",
   "execution_count": 45,
   "id": "118824d1",
   "metadata": {},
   "outputs": [],
   "source": [
    "# df_2019[(df_2019.user_id == 346)]"
   ]
  },
  {
   "cell_type": "markdown",
   "id": "c73f2331",
   "metadata": {},
   "source": [
    "user 53 is web dev staff"
   ]
  },
  {
   "cell_type": "code",
   "execution_count": 49,
   "id": "c215ddd4",
   "metadata": {},
   "outputs": [],
   "source": [
    "# df_2019[(df_2019.user_id == 53)]"
   ]
  },
  {
   "cell_type": "code",
   "execution_count": null,
   "id": "7cb0347f",
   "metadata": {},
   "outputs": [],
   "source": []
  },
  {
   "cell_type": "code",
   "execution_count": 83,
   "id": "1af64ae2",
   "metadata": {},
   "outputs": [
    {
     "data": {
      "text/html": [
       "<div>\n",
       "<style scoped>\n",
       "    .dataframe tbody tr th:only-of-type {\n",
       "        vertical-align: middle;\n",
       "    }\n",
       "\n",
       "    .dataframe tbody tr th {\n",
       "        vertical-align: top;\n",
       "    }\n",
       "\n",
       "    .dataframe thead th {\n",
       "        text-align: right;\n",
       "    }\n",
       "</style>\n",
       "<table border=\"1\" class=\"dataframe\">\n",
       "  <thead>\n",
       "    <tr style=\"text-align: right;\">\n",
       "      <th></th>\n",
       "      <th>path</th>\n",
       "      <th>user_id</th>\n",
       "      <th>cohort_id</th>\n",
       "      <th>program_id</th>\n",
       "      <th>ip</th>\n",
       "      <th>name</th>\n",
       "      <th>slack</th>\n",
       "      <th>start_date</th>\n",
       "      <th>end_date</th>\n",
       "      <th>created_at</th>\n",
       "      <th>updated_at</th>\n",
       "      <th>date_time</th>\n",
       "      <th>program</th>\n",
       "      <th>staff</th>\n",
       "      <th>days_after_grad</th>\n",
       "      <th>year</th>\n",
       "    </tr>\n",
       "    <tr>\n",
       "      <th>date_time</th>\n",
       "      <th></th>\n",
       "      <th></th>\n",
       "      <th></th>\n",
       "      <th></th>\n",
       "      <th></th>\n",
       "      <th></th>\n",
       "      <th></th>\n",
       "      <th></th>\n",
       "      <th></th>\n",
       "      <th></th>\n",
       "      <th></th>\n",
       "      <th></th>\n",
       "      <th></th>\n",
       "      <th></th>\n",
       "      <th></th>\n",
       "      <th></th>\n",
       "    </tr>\n",
       "  </thead>\n",
       "  <tbody>\n",
       "    <tr>\n",
       "      <th>2019-11-04 16:19:26</th>\n",
       "      <td>/</td>\n",
       "      <td>539</td>\n",
       "      <td>52.0</td>\n",
       "      <td>2</td>\n",
       "      <td>97.105.19.58</td>\n",
       "      <td>Europa</td>\n",
       "      <td>#europa</td>\n",
       "      <td>2019-11-04</td>\n",
       "      <td>2020-04-17</td>\n",
       "      <td>2019-11-04 18:27:07</td>\n",
       "      <td>2019-11-04 18:27:07</td>\n",
       "      <td>2019-11-04 16:19:26</td>\n",
       "      <td>java</td>\n",
       "      <td>False</td>\n",
       "      <td>-165 days</td>\n",
       "      <td>2019</td>\n",
       "    </tr>\n",
       "  </tbody>\n",
       "</table>\n",
       "</div>"
      ],
      "text/plain": [
       "                    path  user_id  cohort_id  program_id            ip  \\\n",
       "date_time                                                                \n",
       "2019-11-04 16:19:26    /      539       52.0           2  97.105.19.58   \n",
       "\n",
       "                       name    slack start_date   end_date  \\\n",
       "date_time                                                    \n",
       "2019-11-04 16:19:26  Europa  #europa 2019-11-04 2020-04-17   \n",
       "\n",
       "                              created_at           updated_at  \\\n",
       "date_time                                                       \n",
       "2019-11-04 16:19:26  2019-11-04 18:27:07  2019-11-04 18:27:07   \n",
       "\n",
       "                              date_time program  staff days_after_grad  year  \n",
       "date_time                                                                     \n",
       "2019-11-04 16:19:26 2019-11-04 16:19:26    java  False       -165 days  2019  "
      ]
     },
     "execution_count": 83,
     "metadata": {},
     "output_type": "execute_result"
    }
   ],
   "source": [
    "df_2019[(df_2019.user_id == 539)].head(1)"
   ]
  },
  {
   "cell_type": "markdown",
   "id": "6b1b6a68",
   "metadata": {},
   "source": [
    "### 6. What topics are grads continuing to reference after graduation and into their jobs (for each program)?"
   ]
  },
  {
   "cell_type": "code",
   "execution_count": 112,
   "id": "fd4a2b00",
   "metadata": {},
   "outputs": [],
   "source": [
    "df = get_n_prep_curr_logs()"
   ]
  },
  {
   "cell_type": "code",
   "execution_count": 113,
   "id": "5db02f38",
   "metadata": {},
   "outputs": [],
   "source": [
    "df = df[~df.path.str.endswith('jpg',na=False)]\n",
    "df = df[~df.path.str.endswith('jpeg',na=False)]\n",
    "df = df[~df.path.str.endswith('svg',na=False)]\n",
    "df = df[(df.path != '/') & (df.path != 'search/search_index.json')]"
   ]
  },
  {
   "cell_type": "code",
   "execution_count": 114,
   "id": "b6344f61",
   "metadata": {},
   "outputs": [
    {
     "data": {
      "text/plain": [
       "java            657581\n",
       "data_science     79613\n",
       "php              28708\n",
       "front_end            4\n",
       "Name: program, dtype: int64"
      ]
     },
     "execution_count": 114,
     "metadata": {},
     "output_type": "execute_result"
    }
   ],
   "source": [
    "# distribution of logs by program\n",
    "df.program.value_counts()"
   ]
  },
  {
   "cell_type": "markdown",
   "id": "4af2a6df",
   "metadata": {},
   "source": [
    "Java, php, and front_end are all part of Web Development, so I will make a df for just web_dev alumni (after graduation and not a staff member)."
   ]
  },
  {
   "cell_type": "code",
   "execution_count": 115,
   "id": "78bf287c",
   "metadata": {},
   "outputs": [],
   "source": [
    "# create a df of web_dev alumni active after graduation\n",
    "web_dev_alumni = df[(df.days_after_grad > '0') & (df.program == 'java') | (df.program == 'front_end') | (df.program == 'php') & (df.name != 'Staff')]"
   ]
  },
  {
   "cell_type": "code",
   "execution_count": 116,
   "id": "e984c1f9",
   "metadata": {},
   "outputs": [
    {
     "data": {
      "text/html": [
       "<div>\n",
       "<style scoped>\n",
       "    .dataframe tbody tr th:only-of-type {\n",
       "        vertical-align: middle;\n",
       "    }\n",
       "\n",
       "    .dataframe tbody tr th {\n",
       "        vertical-align: top;\n",
       "    }\n",
       "\n",
       "    .dataframe thead th {\n",
       "        text-align: right;\n",
       "    }\n",
       "</style>\n",
       "<table border=\"1\" class=\"dataframe\">\n",
       "  <thead>\n",
       "    <tr style=\"text-align: right;\">\n",
       "      <th></th>\n",
       "      <th>path</th>\n",
       "      <th>user_id</th>\n",
       "      <th>cohort_id</th>\n",
       "      <th>program_id</th>\n",
       "      <th>ip</th>\n",
       "      <th>name</th>\n",
       "      <th>slack</th>\n",
       "      <th>start_date</th>\n",
       "      <th>end_date</th>\n",
       "      <th>created_at</th>\n",
       "      <th>updated_at</th>\n",
       "      <th>date_time</th>\n",
       "      <th>program</th>\n",
       "      <th>staff</th>\n",
       "      <th>days_after_grad</th>\n",
       "    </tr>\n",
       "    <tr>\n",
       "      <th>date_time</th>\n",
       "      <th></th>\n",
       "      <th></th>\n",
       "      <th></th>\n",
       "      <th></th>\n",
       "      <th></th>\n",
       "      <th></th>\n",
       "      <th></th>\n",
       "      <th></th>\n",
       "      <th></th>\n",
       "      <th></th>\n",
       "      <th></th>\n",
       "      <th></th>\n",
       "      <th></th>\n",
       "      <th></th>\n",
       "      <th></th>\n",
       "    </tr>\n",
       "  </thead>\n",
       "  <tbody>\n",
       "    <tr>\n",
       "      <th>2018-01-26 09:56:02</th>\n",
       "      <td>java-ii</td>\n",
       "      <td>1</td>\n",
       "      <td>8.0</td>\n",
       "      <td>1</td>\n",
       "      <td>97.105.19.61</td>\n",
       "      <td>Hampton</td>\n",
       "      <td>#hampton</td>\n",
       "      <td>2015-09-22</td>\n",
       "      <td>2016-02-06</td>\n",
       "      <td>2016-06-14 19:52:26</td>\n",
       "      <td>2016-06-14 19:52:26</td>\n",
       "      <td>2018-01-26 09:56:02</td>\n",
       "      <td>php</td>\n",
       "      <td>False</td>\n",
       "      <td>720 days</td>\n",
       "    </tr>\n",
       "  </tbody>\n",
       "</table>\n",
       "</div>"
      ],
      "text/plain": [
       "                        path  user_id  cohort_id  program_id            ip  \\\n",
       "date_time                                                                    \n",
       "2018-01-26 09:56:02  java-ii        1        8.0           1  97.105.19.61   \n",
       "\n",
       "                        name     slack start_date   end_date  \\\n",
       "date_time                                                      \n",
       "2018-01-26 09:56:02  Hampton  #hampton 2015-09-22 2016-02-06   \n",
       "\n",
       "                              created_at           updated_at  \\\n",
       "date_time                                                       \n",
       "2018-01-26 09:56:02  2016-06-14 19:52:26  2016-06-14 19:52:26   \n",
       "\n",
       "                              date_time program  staff days_after_grad  \n",
       "date_time                                                               \n",
       "2018-01-26 09:56:02 2018-01-26 09:56:02     php  False        720 days  "
      ]
     },
     "execution_count": 116,
     "metadata": {},
     "output_type": "execute_result"
    }
   ],
   "source": [
    "web_dev_alumni.head(1)"
   ]
  },
  {
   "cell_type": "code",
   "execution_count": 117,
   "id": "e28f9195",
   "metadata": {},
   "outputs": [
    {
     "data": {
      "text/plain": [
       "javascript-i    4965\n",
       "spring          4261\n",
       "html-css        3678\n",
       "java-iii        3537\n",
       "java-ii         3439\n",
       "Name: path, dtype: int64"
      ]
     },
     "execution_count": 117,
     "metadata": {},
     "output_type": "execute_result"
    }
   ],
   "source": [
    "# paths most accessed by java alumni\n",
    "web_dev_alumni.path.value_counts().head()"
   ]
  },
  {
   "cell_type": "code",
   "execution_count": 118,
   "id": "103c03f5",
   "metadata": {
    "scrolled": false
   },
   "outputs": [
    {
     "data": {
      "image/png": "[encoded data removed]",
      "text/plain": [
       "<Figure size 864x432 with 1 Axes>"
      ]
     },
     "metadata": {
      "needs_background": "light"
     },
     "output_type": "display_data"
    }
   ],
   "source": [
    "# Visualize paths most accessed by Web_Dev alumni\n",
    "web_dev_alumni.path.value_counts().head().plot.barh(figsize=(12,6))\n",
    "plt.title('Top 5 Lessons Accessed by Web Dev Alumni', fontsize=15)\n",
    "plt.ylabel('Lesson', fontsize=15)\n",
    "plt.xlabel('Times Visited', fontsize=15)\n",
    "plt.show()"
   ]
  },
  {
   "cell_type": "code",
   "execution_count": 119,
   "id": "bcd85359",
   "metadata": {},
   "outputs": [],
   "source": [
    "# create a df of data science alumni active after graduation\n",
    "data_science_alumni = df[(df.days_after_grad > '0') & (df.program == 'data_science') & (df.name != 'Staff') & (df.path != '/')]"
   ]
  },
  {
   "cell_type": "code",
   "execution_count": 120,
   "id": "c87670d2",
   "metadata": {},
   "outputs": [
    {
     "data": {
      "text/html": [
       "<div>\n",
       "<style scoped>\n",
       "    .dataframe tbody tr th:only-of-type {\n",
       "        vertical-align: middle;\n",
       "    }\n",
       "\n",
       "    .dataframe tbody tr th {\n",
       "        vertical-align: top;\n",
       "    }\n",
       "\n",
       "    .dataframe thead th {\n",
       "        text-align: right;\n",
       "    }\n",
       "</style>\n",
       "<table border=\"1\" class=\"dataframe\">\n",
       "  <thead>\n",
       "    <tr style=\"text-align: right;\">\n",
       "      <th></th>\n",
       "      <th>path</th>\n",
       "      <th>user_id</th>\n",
       "      <th>cohort_id</th>\n",
       "      <th>program_id</th>\n",
       "      <th>ip</th>\n",
       "      <th>name</th>\n",
       "      <th>slack</th>\n",
       "      <th>start_date</th>\n",
       "      <th>end_date</th>\n",
       "      <th>created_at</th>\n",
       "      <th>updated_at</th>\n",
       "      <th>date_time</th>\n",
       "      <th>program</th>\n",
       "      <th>staff</th>\n",
       "      <th>days_after_grad</th>\n",
       "    </tr>\n",
       "    <tr>\n",
       "      <th>date_time</th>\n",
       "      <th></th>\n",
       "      <th></th>\n",
       "      <th></th>\n",
       "      <th></th>\n",
       "      <th></th>\n",
       "      <th></th>\n",
       "      <th></th>\n",
       "      <th></th>\n",
       "      <th></th>\n",
       "      <th></th>\n",
       "      <th></th>\n",
       "      <th></th>\n",
       "      <th></th>\n",
       "      <th></th>\n",
       "      <th></th>\n",
       "    </tr>\n",
       "  </thead>\n",
       "  <tbody>\n",
       "    <tr>\n",
       "      <th>2020-01-31 11:05:13</th>\n",
       "      <td>1-fundamentals/1.1-intro-to-data-science</td>\n",
       "      <td>476</td>\n",
       "      <td>34.0</td>\n",
       "      <td>3</td>\n",
       "      <td>136.50.49.145</td>\n",
       "      <td>Bayes</td>\n",
       "      <td>#</td>\n",
       "      <td>2019-08-19</td>\n",
       "      <td>2020-01-30</td>\n",
       "      <td>2019-08-20 14:38:55</td>\n",
       "      <td>2019-08-20 14:38:55</td>\n",
       "      <td>2020-01-31 11:05:13</td>\n",
       "      <td>data_science</td>\n",
       "      <td>False</td>\n",
       "      <td>1 days</td>\n",
       "    </tr>\n",
       "  </tbody>\n",
       "</table>\n",
       "</div>"
      ],
      "text/plain": [
       "                                                         path  user_id  \\\n",
       "date_time                                                                \n",
       "2020-01-31 11:05:13  1-fundamentals/1.1-intro-to-data-science      476   \n",
       "\n",
       "                     cohort_id  program_id             ip   name slack  \\\n",
       "date_time                                                                \n",
       "2020-01-31 11:05:13       34.0           3  136.50.49.145  Bayes     #   \n",
       "\n",
       "                    start_date   end_date           created_at  \\\n",
       "date_time                                                        \n",
       "2020-01-31 11:05:13 2019-08-19 2020-01-30  2019-08-20 14:38:55   \n",
       "\n",
       "                              updated_at           date_time       program  \\\n",
       "date_time                                                                    \n",
       "2020-01-31 11:05:13  2019-08-20 14:38:55 2020-01-31 11:05:13  data_science   \n",
       "\n",
       "                     staff days_after_grad  \n",
       "date_time                                   \n",
       "2020-01-31 11:05:13  False          1 days  "
      ]
     },
     "execution_count": 120,
     "metadata": {},
     "output_type": "execute_result"
    }
   ],
   "source": [
    "data_science_alumni.head(1)"
   ]
  },
  {
   "cell_type": "code",
   "execution_count": 121,
   "id": "4cdc2bd0",
   "metadata": {},
   "outputs": [
    {
     "data": {
      "text/plain": [
       "sql/mysql-overview                          275\n",
       "classification/overview                     266\n",
       "anomaly-detection/overview                  191\n",
       "fundamentals/intro-to-data-science          184\n",
       "1-fundamentals/1.1-intro-to-data-science    126\n",
       "Name: path, dtype: int64"
      ]
     },
     "execution_count": 121,
     "metadata": {},
     "output_type": "execute_result"
    }
   ],
   "source": [
    "# paths most accessed by data science alumni\n",
    "data_science_alumni.path.value_counts().head()"
   ]
  },
  {
   "cell_type": "code",
   "execution_count": 122,
   "id": "02955e4a",
   "metadata": {},
   "outputs": [
    {
     "data": {
      "image/png": "[encoded data removed]",
      "text/plain": [
       "<Figure size 864x432 with 1 Axes>"
      ]
     },
     "metadata": {
      "needs_background": "light"
     },
     "output_type": "display_data"
    }
   ],
   "source": [
    "# Visualize paths most accessed by data science alumni\n",
    "data_science_alumni.path.value_counts().head().plot.barh(figsize=(12,6))\n",
    "plt.title('Top 5 Lessons Accessed by Data Science Alumni', fontsize=15)\n",
    "plt.ylabel('Lesson', fontsize=15)\n",
    "plt.xlabel('Times Visited', fontsize=15)\n",
    "plt.show()"
   ]
  },
  {
   "cell_type": "code",
   "execution_count": null,
   "id": "adac41cb",
   "metadata": {},
   "outputs": [],
   "source": []
  }
 ],
 "metadata": {
  "kernelspec": {
   "display_name": "Python 3",
   "language": "python",
   "name": "python3"
  },
  "language_info": {
   "codemirror_mode": {
    "name": "ipython",
    "version": 3
   },
   "file_extension": ".py",
   "mimetype": "text/x-python",
   "name": "python",
   "nbconvert_exporter": "python",
   "pygments_lexer": "ipython3",
   "version": "3.8.8"
  }
 },
 "nbformat": 4,
 "nbformat_minor": 5
}
